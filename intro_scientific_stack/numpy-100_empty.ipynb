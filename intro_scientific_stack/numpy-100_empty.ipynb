{
 "metadata": {
  "signature": "sha256:7456be8ce69a807cee9fc3a760f12c809d313d49626492a6988d910ca59c682c"
 },
 "nbformat": 3,
 "nbformat_minor": 0,
 "worksheets": [
  {
   "cells": [
    {
     "cell_type": "heading",
     "level": 1,
     "metadata": {},
     "source": [
      "100 numpy exercises"
     ]
    },
    {
     "cell_type": "markdown",
     "metadata": {},
     "source": [
      "The goal is both to offer a quick reference for new and old users and to\n",
      "provide also a set of exercices for those who teach. If you remember\n",
      "having asked or answered a (short) problem, you can send a pull request.\n",
      "The format is:\n"
     ]
    },
    {
     "cell_type": "raw",
     "metadata": {},
     "source": [
      "#. Find indices of non-zero elements from [1,2,0,0,4,0]\n",
      "\n",
      "   .. code:: python\n",
      "\n",
      "      # Author: Somebody\n",
      "\n",
      "      print np.nonzero([1,2,0,0,4,0])"
     ]
    },
    {
     "cell_type": "markdown",
     "metadata": {},
     "source": [
      "Here is what the page looks like so far:\n",
      "<http://www.loria.fr/~rougier/teaching/numpy.100/index.html>\n"
     ]
    },
    {
     "cell_type": "heading",
     "level": 1,
     "metadata": {},
     "source": [
      "Note"
     ]
    },
    {
     "cell_type": "markdown",
     "metadata": {},
     "source": [
      "The level names came from an old-game (Dungeon Master)\n"
     ]
    },
    {
     "cell_type": "markdown",
     "metadata": {},
     "source": [
      "Repository is at: <https://github.com/rougier/numpy-100>\n"
     ]
    },
    {
     "cell_type": "markdown",
     "metadata": {},
     "source": [
      "The corresponding [IPython\n",
      "notebook](https://github.com/rougier/numpy-100/blob/master/README.ipynb)\n",
      "is available from the github repo, thanks to the\n",
      "[rst2ipynb](https://github.com/esc/rst2ipynb) conversion tool by\n",
      "[Valentin Haenel](http://haenel.co)\n"
     ]
    },
    {
     "cell_type": "markdown",
     "metadata": {},
     "source": [
      "Thanks to Michiaki Ariga, there is now a [Julia\n",
      "version](https://github.com/chezou/julia-100-exercises).\n"
     ]
    },
    {
     "cell_type": "heading",
     "level": 2,
     "metadata": {},
     "source": [
      "Neophyte"
     ]
    },
    {
     "cell_type": "markdown",
     "metadata": {},
     "source": [
      "Import the numpy package under the name `np`\n"
     ]
    },
    {
     "cell_type": "code",
     "collapsed": false,
     "input": [
      "#?"
     ],
     "language": "python",
     "metadata": {},
     "outputs": []
    },
    {
     "cell_type": "markdown",
     "metadata": {},
     "source": [
      "Print the numpy version and the configuration.\n"
     ]
    },
    {
     "cell_type": "code",
     "collapsed": false,
     "input": [
      "#?"
     ],
     "language": "python",
     "metadata": {},
     "outputs": []
    },
    {
     "cell_type": "markdown",
     "metadata": {},
     "source": [
      "Create a null vector of size 10\n"
     ]
    },
    {
     "cell_type": "code",
     "collapsed": false,
     "input": [
      "#?"
     ],
     "language": "python",
     "metadata": {},
     "outputs": []
    },
    {
     "cell_type": "markdown",
     "metadata": {},
     "source": [
      "Create a null vector of size 10 but the fifth value which is 1\n"
     ]
    },
    {
     "cell_type": "code",
     "collapsed": false,
     "input": [
      "#?"
     ],
     "language": "python",
     "metadata": {},
     "outputs": []
    },
    {
     "cell_type": "markdown",
     "metadata": {},
     "source": [
      "Create a vector with values ranging from 10 to 49\n"
     ]
    },
    {
     "cell_type": "code",
     "collapsed": false,
     "input": [
      "#?"
     ],
     "language": "python",
     "metadata": {},
     "outputs": []
    },
    {
     "cell_type": "markdown",
     "metadata": {},
     "source": [
      "Create a 3x3 matrix with values ranging from 0 to 8\n"
     ]
    },
    {
     "cell_type": "code",
     "collapsed": false,
     "input": [
      "#?"
     ],
     "language": "python",
     "metadata": {},
     "outputs": []
    },
    {
     "cell_type": "markdown",
     "metadata": {},
     "source": [
      "Find indices of non-zero elements from [1,2,0,0,4,0]\n"
     ]
    },
    {
     "cell_type": "code",
     "collapsed": false,
     "input": [
      "#?"
     ],
     "language": "python",
     "metadata": {},
     "outputs": []
    },
    {
     "cell_type": "markdown",
     "metadata": {},
     "source": [
      "Create a 3x3 identity matrix\n"
     ]
    },
    {
     "cell_type": "code",
     "collapsed": false,
     "input": [
      "#?"
     ],
     "language": "python",
     "metadata": {},
     "outputs": []
    },
    {
     "cell_type": "markdown",
     "metadata": {},
     "source": [
      "Create a 5x5 matrix with values 1,2,3,4 just below the diagonal\n"
     ]
    },
    {
     "cell_type": "code",
     "collapsed": false,
     "input": [
      "#?"
     ],
     "language": "python",
     "metadata": {},
     "outputs": []
    },
    {
     "cell_type": "markdown",
     "metadata": {},
     "source": [
      "Create a 3x3x3 array with random values\n"
     ]
    },
    {
     "cell_type": "code",
     "collapsed": false,
     "input": [
      "#?"
     ],
     "language": "python",
     "metadata": {},
     "outputs": []
    },
    {
     "cell_type": "heading",
     "level": 2,
     "metadata": {},
     "source": [
      "Novice"
     ]
    },
    {
     "cell_type": "markdown",
     "metadata": {},
     "source": [
      "Create a 8x8 matrix and fill it with a checkerboard pattern\n"
     ]
    },
    {
     "cell_type": "code",
     "collapsed": false,
     "input": [
      "#?"
     ],
     "language": "python",
     "metadata": {},
     "outputs": []
    },
    {
     "cell_type": "markdown",
     "metadata": {},
     "source": [
      "Create a 10x10 array with random values and find the minimum and maximum\n",
      "values\n"
     ]
    },
    {
     "cell_type": "code",
     "collapsed": false,
     "input": [
      "#?"
     ],
     "language": "python",
     "metadata": {},
     "outputs": []
    },
    {
     "cell_type": "markdown",
     "metadata": {},
     "source": [
      "Create a checkerboard 8x8 matrix using the tile function\n"
     ]
    },
    {
     "cell_type": "code",
     "collapsed": false,
     "input": [
      "#?"
     ],
     "language": "python",
     "metadata": {},
     "outputs": []
    },
    {
     "cell_type": "markdown",
     "metadata": {},
     "source": [
      "Normalize a 5x5 random matrix (between 0 and 1)\n"
     ]
    },
    {
     "cell_type": "code",
     "collapsed": false,
     "input": [
      "#?"
     ],
     "language": "python",
     "metadata": {},
     "outputs": []
    },
    {
     "cell_type": "markdown",
     "metadata": {},
     "source": [
      "Multiply a 5x3 matrix by a 3x2 matrix (real matrix product)\n"
     ]
    },
    {
     "cell_type": "code",
     "collapsed": false,
     "input": [
      "#?"
     ],
     "language": "python",
     "metadata": {},
     "outputs": []
    },
    {
     "cell_type": "markdown",
     "metadata": {},
     "source": [
      "Create a 5x5 matrix with row values ranging from 0 to 4\n"
     ]
    },
    {
     "cell_type": "code",
     "collapsed": false,
     "input": [
      "#?"
     ],
     "language": "python",
     "metadata": {},
     "outputs": []
    },
    {
     "cell_type": "markdown",
     "metadata": {},
     "source": [
      "Create a vector of size 10 with values ranging from 0 to 1, both\n",
      "excluded\n"
     ]
    },
    {
     "cell_type": "code",
     "collapsed": false,
     "input": [
      "#?"
     ],
     "language": "python",
     "metadata": {},
     "outputs": []
    },
    {
     "cell_type": "markdown",
     "metadata": {},
     "source": [
      "Create a random vector of size 10 and sort it\n"
     ]
    },
    {
     "cell_type": "code",
     "collapsed": false,
     "input": [
      "#?"
     ],
     "language": "python",
     "metadata": {},
     "outputs": []
    },
    {
     "cell_type": "markdown",
     "metadata": {},
     "source": [
      "Consider two random array A anb B, check if they are equal.\n"
     ]
    },
    {
     "cell_type": "code",
     "collapsed": false,
     "input": [
      "#?"
     ],
     "language": "python",
     "metadata": {},
     "outputs": []
    },
    {
     "cell_type": "markdown",
     "metadata": {},
     "source": [
      "Create a random vector of size 30 and find the mean value\n"
     ]
    },
    {
     "cell_type": "code",
     "collapsed": false,
     "input": [
      "#?"
     ],
     "language": "python",
     "metadata": {},
     "outputs": []
    },
    {
     "cell_type": "heading",
     "level": 2,
     "metadata": {},
     "source": [
      "Apprentice"
     ]
    },
    {
     "cell_type": "markdown",
     "metadata": {},
     "source": [
      "Make an array immutable (read-only)\n"
     ]
    },
    {
     "cell_type": "code",
     "collapsed": false,
     "input": [
      "#?"
     ],
     "language": "python",
     "metadata": {},
     "outputs": []
    },
    {
     "cell_type": "markdown",
     "metadata": {},
     "source": [
      "Consider a random 10x2 matrix representing cartesian coordinates,\n",
      "convert them to polar coordinates\n"
     ]
    },
    {
     "cell_type": "code",
     "collapsed": false,
     "input": [
      "#?"
     ],
     "language": "python",
     "metadata": {},
     "outputs": []
    },
    {
     "cell_type": "markdown",
     "metadata": {},
     "source": [
      "Create random vector of size 10 and replace the maximum value by 0\n"
     ]
    },
    {
     "cell_type": "code",
     "collapsed": false,
     "input": [
      "#?"
     ],
     "language": "python",
     "metadata": {},
     "outputs": []
    },
    {
     "cell_type": "markdown",
     "metadata": {},
     "source": [
      "Create a structured array with `x` and `y` coordinates covering the\n",
      "[0,1]x[0,1] area.\n"
     ]
    },
    {
     "cell_type": "code",
     "collapsed": false,
     "input": [
      "#?"
     ],
     "language": "python",
     "metadata": {},
     "outputs": []
    },
    {
     "cell_type": "markdown",
     "metadata": {},
     "source": [
      "Print the minimum and maximum representable value for each numpy scalar\n",
      "type\n"
     ]
    },
    {
     "cell_type": "code",
     "collapsed": false,
     "input": [
      "#?"
     ],
     "language": "python",
     "metadata": {},
     "outputs": []
    },
    {
     "cell_type": "markdown",
     "metadata": {},
     "source": [
      "Create a structured array representing a position (x,y) and a color\n",
      "(r,g,b)\n"
     ]
    },
    {
     "cell_type": "code",
     "collapsed": false,
     "input": [
      "#?"
     ],
     "language": "python",
     "metadata": {},
     "outputs": []
    },
    {
     "cell_type": "markdown",
     "metadata": {},
     "source": [
      "Consider a random vector with shape (100,2) representing coordinates,\n",
      "find point by point distances\n"
     ]
    },
    {
     "cell_type": "code",
     "collapsed": false,
     "input": [
      "#?"
     ],
     "language": "python",
     "metadata": {},
     "outputs": []
    },
    {
     "cell_type": "markdown",
     "metadata": {},
     "source": [
      "Generate a generic 2D Gaussian-like array\n"
     ]
    },
    {
     "cell_type": "code",
     "collapsed": false,
     "input": [
      "#?"
     ],
     "language": "python",
     "metadata": {},
     "outputs": []
    },
    {
     "cell_type": "markdown",
     "metadata": {},
     "source": [
      "How to tell if a given 2D array has null columns ?\n"
     ]
    },
    {
     "cell_type": "code",
     "collapsed": false,
     "input": [
      "#?"
     ],
     "language": "python",
     "metadata": {},
     "outputs": []
    },
    {
     "cell_type": "markdown",
     "metadata": {},
     "source": [
      "Find the nearest value from a given value in an array\n"
     ]
    },
    {
     "cell_type": "code",
     "collapsed": false,
     "input": [
      "#?"
     ],
     "language": "python",
     "metadata": {},
     "outputs": []
    },
    {
     "cell_type": "heading",
     "level": 2,
     "metadata": {},
     "source": [
      "Journeyman"
     ]
    },
    {
     "cell_type": "markdown",
     "metadata": {},
     "source": [
      "Consider the following file (in \"missing-data.txt\"):"
     ]
    },
    {
     "cell_type": "raw",
     "metadata": {},
     "source": [
      "1,2,3,4,5\n",
      "6,,,7,8\n",
      ",,9,10,11"
     ]
    },
    {
     "cell_type": "markdown",
     "metadata": {},
     "source": [
      "How to read it ?\n"
     ]
    },
    {
     "cell_type": "code",
     "collapsed": false,
     "input": [
      "#?"
     ],
     "language": "python",
     "metadata": {},
     "outputs": []
    },
    {
     "cell_type": "markdown",
     "metadata": {},
     "source": [
      "Consider a generator function that generates 10 integers and use it to\n",
      "build an array\n"
     ]
    },
    {
     "cell_type": "code",
     "collapsed": false,
     "input": [
      "#?"
     ],
     "language": "python",
     "metadata": {},
     "outputs": []
    },
    {
     "cell_type": "markdown",
     "metadata": {},
     "source": [
      "Consider a given vector, how to add 1 to each element indexed by a\n",
      "second vector (be careful with repeated indices) ?\n"
     ]
    },
    {
     "cell_type": "code",
     "collapsed": false,
     "input": [
      "#?"
     ],
     "language": "python",
     "metadata": {},
     "outputs": []
    },
    {
     "cell_type": "markdown",
     "metadata": {},
     "source": [
      "How to accumulate elements of a vector (X) to an array (F) based on an\n",
      "index list (I) ?\n"
     ]
    },
    {
     "cell_type": "code",
     "collapsed": false,
     "input": [
      "#?"
     ],
     "language": "python",
     "metadata": {},
     "outputs": []
    },
    {
     "cell_type": "markdown",
     "metadata": {},
     "source": [
      "Considering a (w,h,3) image of (dtype=ubyte), compute the number of\n",
      "unique colors\n"
     ]
    },
    {
     "cell_type": "code",
     "collapsed": false,
     "input": [
      "#?"
     ],
     "language": "python",
     "metadata": {},
     "outputs": []
    },
    {
     "cell_type": "markdown",
     "metadata": {},
     "source": [
      "Considering a four dimensions array, how to get sum over the last two\n",
      "axis at once ?\n"
     ]
    },
    {
     "cell_type": "code",
     "collapsed": false,
     "input": [
      "#?"
     ],
     "language": "python",
     "metadata": {},
     "outputs": []
    },
    {
     "cell_type": "markdown",
     "metadata": {},
     "source": [
      "Considering a one-dimensional vector D, how to compute means of subsets\n",
      "of D using a vector S of same size describing subset indices ?\n"
     ]
    },
    {
     "cell_type": "code",
     "collapsed": false,
     "input": [
      "#?"
     ],
     "language": "python",
     "metadata": {},
     "outputs": []
    },
    {
     "cell_type": "markdown",
     "metadata": {},
     "source": [
      "Consider the vector [1, 2, 3, 4, 5], how to build a new vector with 3\n",
      "consecutive zeros interleaved between each value ?\n"
     ]
    },
    {
     "cell_type": "code",
     "collapsed": false,
     "input": [
      "#?"
     ],
     "language": "python",
     "metadata": {},
     "outputs": []
    },
    {
     "cell_type": "markdown",
     "metadata": {},
     "source": [
      "Consider an array of dimension (5,5,3), how to mulitply it by an array\n",
      "with dimensions (5,5) ?\n"
     ]
    },
    {
     "cell_type": "code",
     "collapsed": false,
     "input": [
      "#?"
     ],
     "language": "python",
     "metadata": {},
     "outputs": []
    },
    {
     "cell_type": "markdown",
     "metadata": {},
     "source": [
      "How to swap two rows of an array ?\n"
     ]
    },
    {
     "cell_type": "code",
     "collapsed": false,
     "input": [
      "#?"
     ],
     "language": "python",
     "metadata": {},
     "outputs": []
    },
    {
     "cell_type": "heading",
     "level": 2,
     "metadata": {},
     "source": [
      "Craftsman"
     ]
    },
    {
     "cell_type": "markdown",
     "metadata": {},
     "source": [
      "Consider a one-dimensional array Z, build a two-dimensional array whose\n",
      "first row is (Z[0],Z[1],Z[2]) and each subsequent row is shifted by 1\n",
      "(last row should be (Z[-3],Z[-2],Z[-1])\n"
     ]
    },
    {
     "cell_type": "code",
     "collapsed": false,
     "input": [
      "#?"
     ],
     "language": "python",
     "metadata": {},
     "outputs": []
    },
    {
     "cell_type": "markdown",
     "metadata": {},
     "source": [
      "Consider a set of 10 triplets describing 10 triangles (with shared\n",
      "vertices), find the set of unique line segments composing all the\n",
      "triangles.\n"
     ]
    },
    {
     "cell_type": "code",
     "collapsed": false,
     "input": [
      "#?"
     ],
     "language": "python",
     "metadata": {},
     "outputs": []
    },
    {
     "cell_type": "markdown",
     "metadata": {},
     "source": [
      "Given an array C that is a bincount, how to produce an array A such that\n",
      "np.bincount(A) == C ?\n"
     ]
    },
    {
     "cell_type": "code",
     "collapsed": false,
     "input": [
      "#?"
     ],
     "language": "python",
     "metadata": {},
     "outputs": []
    },
    {
     "cell_type": "markdown",
     "metadata": {},
     "source": [
      "How to compute averages using a sliding window over an array ?\n"
     ]
    },
    {
     "cell_type": "code",
     "collapsed": false,
     "input": [
      "#?"
     ],
     "language": "python",
     "metadata": {},
     "outputs": []
    },
    {
     "cell_type": "heading",
     "level": 2,
     "metadata": {},
     "source": [
      "Artisan"
     ]
    },
    {
     "cell_type": "markdown",
     "metadata": {},
     "source": [
      "Considering a 10x3 matrix, extract rows with unequal values (e.g.\n",
      "[2,2,3])\n"
     ]
    },
    {
     "cell_type": "code",
     "collapsed": false,
     "input": [
      "#?"
     ],
     "language": "python",
     "metadata": {},
     "outputs": []
    },
    {
     "cell_type": "markdown",
     "metadata": {},
     "source": [
      "Convert a vector of ints into a matrix binary representation.\n"
     ]
    },
    {
     "cell_type": "code",
     "collapsed": false,
     "input": [
      "#?"
     ],
     "language": "python",
     "metadata": {},
     "outputs": []
    },
    {
     "cell_type": "heading",
     "level": 2,
     "metadata": {},
     "source": [
      "Adept"
     ]
    },
    {
     "cell_type": "markdown",
     "metadata": {},
     "source": [
      "Consider an arbitrary array, write a function that extract a subpart\n",
      "with a fixed shape and centered on a given element (pad with a `fill`\n",
      "value when necessary)\n"
     ]
    },
    {
     "cell_type": "raw",
     "metadata": {},
     "source": [
      "# Author: Nicolas Rougier\n",
      "\n",
      "Z = np.random.randint(0,10,(10,10))\n",
      "shape = (5,5)\n",
      "fill  = 0\n",
      "position = (1,1)\n",
      "\n",
      "R = np.ones(shape, dtype=Z.dtype)*fill\n",
      "P  = np.array(list(position)).astype(int)\n",
      "Rs = np.array(list(R.shape)).astype(int)\n",
      "Zs = np.array(list(Z.shape)).astype(int)\n",
      "\n",
      "R_start = np.zeros((len(shape),)).astype(int)\n",
      "R_stop  = np.array(list(shape)).astype(int)\n",
      "Z_start = (P-Rs//2)\n",
      "Z_stop  = (P+Rs//2)+Rs%2\n",
      "\n",
      "R_start = (R_start - np.minimum(Z_start,0)).tolist()\n",
      "Z_start = (np.maximum(Z_start,0)).tolist()\n",
      "R_stop = np.maximum(R_start, (R_stop - np.maximum(Z_stop-Zs,0))).tolist()\n",
      "Z_stop = (np.minimum(Z_stop,Zs)).tolist()\n",
      "\n",
      "r = [slice(start,stop) for start,stop in zip(R_start,R_stop)]\n",
      "z = [slice(start,stop) for start,stop in zip(Z_start,Z_stop)]\n",
      "R[r] = Z[z]\n",
      "print Z\n",
      "print R"
     ]
    },
    {
     "cell_type": "markdown",
     "metadata": {},
     "source": [
      "Consider an array Z = [1,2,3,4,5,6,7,8,9,10,11,12,13,14], how to\n",
      "generate an array R = [[1,2,3,4], [2,3,4,5], [3,4,5,6], ...,\n",
      "[11,12,13,14]] ?\n"
     ]
    },
    {
     "cell_type": "code",
     "collapsed": false,
     "input": [
      "#?"
     ],
     "language": "python",
     "metadata": {},
     "outputs": []
    },
    {
     "cell_type": "heading",
     "level": 2,
     "metadata": {},
     "source": [
      "Expert"
     ]
    },
    {
     "cell_type": "markdown",
     "metadata": {},
     "source": [
      "Consider two arrays A and B of shape (8,3) and (2,2). How to find rows\n",
      "of A that contain elements of each row of B regardless of the order of\n",
      "the elements in B ?\n"
     ]
    },
    {
     "cell_type": "code",
     "collapsed": false,
     "input": [
      "#?"
     ],
     "language": "python",
     "metadata": {},
     "outputs": []
    },
    {
     "cell_type": "markdown",
     "metadata": {},
     "source": [
      "Extract all the contiguous 3x3 blocks from a random 10x10 matrix.\n"
     ]
    },
    {
     "cell_type": "code",
     "collapsed": false,
     "input": [
      "#?"
     ],
     "language": "python",
     "metadata": {},
     "outputs": []
    },
    {
     "cell_type": "markdown",
     "metadata": {},
     "source": [
      "Create a 2D array subclass such that Z[i,j] == Z[j,i]\n"
     ]
    },
    {
     "cell_type": "code",
     "collapsed": false,
     "input": [
      "#?"
     ],
     "language": "python",
     "metadata": {},
     "outputs": []
    },
    {
     "cell_type": "markdown",
     "metadata": {},
     "source": [
      "Consider a set of p matrices wich shape (n,n) and a set of p vectors\n",
      "with shape (n,1). How to compute the sum of of the p matrix products at\n",
      "once ? (result has shape (n,1))\n"
     ]
    },
    {
     "cell_type": "code",
     "collapsed": false,
     "input": [
      "#?"
     ],
     "language": "python",
     "metadata": {},
     "outputs": []
    },
    {
     "cell_type": "heading",
     "level": 2,
     "metadata": {},
     "source": [
      "Master"
     ]
    },
    {
     "cell_type": "markdown",
     "metadata": {},
     "source": [
      "Given a two dimensional array, how to extract unique rows ?\n"
     ]
    },
    {
     "cell_type": "heading",
     "level": 2,
     "metadata": {},
     "source": [
      "Note"
     ]
    },
    {
     "cell_type": "markdown",
     "metadata": {},
     "source": [
      "See\n",
      "[stackoverflow](http://stackoverflow.com/questions/16970982/find-unique-rows-in-numpy-array/)\n",
      "for explanations.\n"
     ]
    },
    {
     "cell_type": "code",
     "collapsed": false,
     "input": [
      "#?"
     ],
     "language": "python",
     "metadata": {},
     "outputs": []
    },
    {
     "cell_type": "heading",
     "level": 2,
     "metadata": {},
     "source": [
      "Archmaster"
     ]
    }
   ],
   "metadata": {}
  }
 ]
}