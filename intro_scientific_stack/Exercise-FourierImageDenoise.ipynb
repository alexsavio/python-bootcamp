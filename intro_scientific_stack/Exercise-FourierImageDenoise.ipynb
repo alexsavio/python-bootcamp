{
 "metadata": {
  "name": ""
 },
 "nbformat": 3,
 "nbformat_minor": 0,
 "worksheets": [
  {
   "cells": [
    {
     "cell_type": "markdown",
     "metadata": {},
     "source": [
      "# Simple image denoising example using 2-dimensional FFT\n",
      "\n",
      "**Illustrates**: 2-d image denoising, use of the numpy FFT library, array\n",
      "manipulations, image plotting.\n",
      "\n",
      "Let's try to denoise the following image with naive numpy manipulations:\n",
      "\n",
      "<center>\n",
      "<img src=\"files/moonlanding.png\" width=30%/>\n",
      "</center>\n",
      "\n",
      "The convolution of an input with with a linear filter in the termporal or\n",
      "spatial domain is equivalent to multiplication by the Fourier transforms of the\n",
      "input and the filter in the spectral domain.  This provides a conceptually\n",
      "simple way to think about filtering: transform your signal into the frequency\n",
      "domain, dampen the frequencies you are not interested in by multiplying the\n",
      "frequency spectrum by the desired weights, and then apply the inverse transform\n",
      "to the modified spectrum, back into the original domain.  In the example below,\n",
      "we will simply set the weights of the frequencies we are uninterested in (the\n",
      "high frequency noise) to zero rather than dampening them with a smoothly\n",
      "varying function.  Although this is not usually the best thing to do, since\n",
      "sharp edges in one domain usually introduce artifacts in another (eg high\n",
      "frequency \"ringing\"), it is easy to do and sometimes provides satisfactory\n",
      "results.\n",
      "\n",
      "<center>\n",
      "<img src=\"files/moon_denoise.png\" width=60%/>\n",
      "</center>\n",
      "\n",
      "High frequency noise filtering of a 2D image in the Fourier domain.  The upper panels show the original image (left) and spectral power (right) and    the lower panels show the same data with the high frequency power set to    zero.  Although the input and output images are grayscale, you can provide    colormaps to `imshow` to plot them in pseudo-color, with the `cmap` argument to `imshow`, which accepts any of the colormaps found in the `matplotlib.cm` module."
     ]
    },
    {
     "cell_type": "markdown",
     "metadata": {},
     "source": [
      "## Exercise\n",
      "\n",
      "After reading the image file ``moonlanding.png``, try to produce images like\n",
      "the ones in the figure.  We will describe the process here and provide some\n",
      "hints as to what you need to think about.\n",
      "   \n",
      "The image in the upper left panel of the Figure is a grayscale photo of the\n",
      "moon landing.  There is a banded pattern of high frequency noise polluting the\n",
      "image.  In the upper right panel we see the 2D spatial frequency spectrum.  The\n",
      "FFT output in the :mod:`numpy.fft` module is packed with the lower freqeuencies\n",
      "starting in the upper left, and proceeding to higher frequencies as one moves\n",
      "to the center of the spectrum (this is the most efficient way numerically to\n",
      "fill the output of the FFT algorithm).  Because the input signal is real, the\n",
      "output spectrum is complex and symmetrical: the transformation values beyond\n",
      "the midpoint of the frequency spectrum (the Nyquist frequency) correspond to\n",
      "the values for negative frequencies and are simply the mirror image of the\n",
      "positive frequencies below the Nyquist (this is true for the 1D, 2D and ND FFTs\n",
      "in :mod:`numpy`).\n",
      "\n",
      "You should compute the 2D spatial frequency spectra of the luminance image,\n",
      "zero out the high frequency components, and inverse transform back into the\n",
      "spatial domain.  You can plot the input and output images with\n",
      ":func:`plt.imshow`, but you should observe that if you show the power spectrum\n",
      "(the absolute value of the FFT) directly, you will only see white, and not the\n",
      "image in the Figure's upper right panel.  This is due to the fact that the\n",
      "power spectrum has a small number of pixels with extremely high amplitude,\n",
      "which completely swamp the contrast (you can verify this by playing with a\n",
      "histogram of the data)."
     ]
    },
    {
     "cell_type": "code",
     "collapsed": true,
     "input": [
      "%pylab inline\n",
      "\n",
      "import sys\n",
      "import numpy as np\n",
      "from matplotlib import pyplot as plt"
     ],
     "language": "python",
     "metadata": {},
     "outputs": []
    },
    {
     "cell_type": "markdown",
     "metadata": {},
     "source": [
      "Here's a handy utility for you that normalizes the peaks in the spectrum so the huge dynamic range in this image doesn't swamp the plot. You can take this as a given."
     ]
    },
    {
     "cell_type": "code",
     "collapsed": true,
     "input": [
      "def plot_spectrum(F, amplify=1000, ax=None):\n",
      "    \"\"\"Normalise, amplify and plot an amplitude spectrum.\"\"\"\n",
      "\n",
      "    # Note: the problem here is that we have a spectrum whose histogram is\n",
      "    # *very* sharply peaked at small values.  To get a meaningful display, a\n",
      "    # simple strategy to improve the display quality consists of simply\n",
      "    # amplifying the values in the array and then clipping.\n",
      "\n",
      "    # Compute the magnitude of the input F (call it mag).  Then, rescale mag by\n",
      "    # amplify/maximum_of_mag.\n",
      "    mag = abs(F) \n",
      "    mag *= amplify/mag.max() \n",
      "    \n",
      "    # Next, clip all values larger than one to one.\n",
      "    mag[mag > 1] = 1 \n",
      "\n",
      "    if ax is None: ax = plt.gca()\n",
      "    ax.imshow(mag, plt.cm.Blues)"
     ],
     "language": "python",
     "metadata": {},
     "outputs": []
    },
    {
     "cell_type": "markdown",
     "metadata": {},
     "source": [
      "Read in original image, convert to floating point for further\n",
      "manipulation; imread returns a MxNx4 RGBA image.  Since the image is\n",
      "grayscale, just extract the 1st channel\n",
      "\n",
      "**Hints:**\n",
      "\n",
      "* use `plt.imread()` to load the file\n",
      "* convert to a float array with the `.astype()` method\n",
      "* extract all rows, all columns, 0-th plane to get the first channel\n",
      "* the resulting array should have 2 dimensions only"
     ]
    },
    {
     "cell_type": "code",
     "collapsed": false,
     "input": [
      "fname = 'moonlanding.png'\n",
      "# your code here, you should get this image shape when done:\n",
      "# Image shape: (474, 630)"
     ],
     "language": "python",
     "metadata": {},
     "outputs": []
    },
    {
     "cell_type": "markdown",
     "metadata": {},
     "source": [
      "Compute the 2d FFT of the input image, look at the center of the spectrum, and simply truncate everything but the corners to zero.\n",
      "\n",
      "**Hints:** \n",
      "\n",
      "* Look for a 2-d FFT in `np.fft`.\n",
      "\n",
      "* Call this variable 'F', which is the name we'll be using below.\n",
      "\n",
      "* In the lines following, we'll make a copy of the original spectrum and truncate coefficients.  \n",
      "\n",
      "* In the lines following, we'll make a copy of the original spectrum and truncate coefficients. \n",
      "\n",
      "* In Python, a complex number `z` has `z.real` and `z.imag` attributes for its real and imaginary parts.  "
     ]
    },
    {
     "cell_type": "code",
     "collapsed": true,
     "input": [
      "# Assign the 2d FFT to `F`\n",
      "#...\n",
      "\n",
      "# Define the fraction of coefficients (in each direction) we keep\n",
      "keep_fraction = 0.1\n",
      "\n",
      "# Call ff a copy of the original transform.  Numpy arrays have a copy\n",
      "# method for this purpose.\n",
      "# ...\n",
      "\n",
      "# Set r and c to be the number of rows and columns of the array.\n",
      "# ....\n",
      "\n",
      "# Set to zero all rows with indices between r*keep_fraction and\n",
      "# r*(1-keep_fraction):\n",
      "#... \n",
      "\n",
      "# Similarly with the columns:\n",
      "#... "
     ],
     "language": "python",
     "metadata": {},
     "outputs": []
    },
    {
     "cell_type": "markdown",
     "metadata": {},
     "source": [
      "Reconstruct the denoised image from the filtered spectrum, keep only the\n",
      "real part for display.\n",
      "Hint: There's an inverse 2d fft in the np.fft module as well (don't\n",
      "forget that you only want the real part).\n",
      "Call the result im_new and plot the results"
     ]
    },
    {
     "cell_type": "code",
     "collapsed": false,
     "input": [
      "# im_new =   # new image here, from inverse FFT of truncated data\n",
      "\n",
      "# Now, create the plots and display\n",
      "fig, ax = plt.subplots(2, 2, figsize=(10,7))\n",
      "\n",
      "ax[0,0].set_title('Original image')\n",
      "ax[0,0].imshow(im, plt.cm.gray)\n",
      "\n",
      "ax[0,1].set_title('Fourier transform')\n",
      "plot_spectrum(F, ax=ax[0,1])\n",
      "\n",
      "ax[1,1].set_title('Filtered Spectrum')\n",
      "plot_spectrum(ff, ax=ax[1,1])\n",
      "\n",
      "ax[1,0].set_title('Reconstructed Image')\n",
      "ax[1,0].imshow(im_new, plt.cm.gray);"
     ],
     "language": "python",
     "metadata": {},
     "outputs": []
    },
    {
     "cell_type": "code",
     "collapsed": true,
     "input": [],
     "language": "python",
     "metadata": {},
     "outputs": []
    }
   ],
   "metadata": {}
  }
 ]
}