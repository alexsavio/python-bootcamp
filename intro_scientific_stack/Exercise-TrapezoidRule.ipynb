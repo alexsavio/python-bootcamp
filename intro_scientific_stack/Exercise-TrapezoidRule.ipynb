{
 "metadata": {
  "name": ""
 },
 "nbformat": 3,
 "nbformat_minor": 0,
 "worksheets": [
  {
   "cells": [
    {
     "cell_type": "markdown",
     "metadata": {},
     "source": [
      "Basic numerical integration: the trapezoid rule\n",
      "===============================================\n",
      "\n",
      "**Illustrates**: basic array slicing, functions as first class objects.\n",
      "\n",
      "In this exercise, you are tasked with implementing the simple trapezoid rule\n",
      "formula for numerical integration. If we want to compute the definite integral\n",
      "\n",
      "$$\n",
      "     \\int_{a}^{b}f(x)dx\n",
      "$$\n",
      "\n",
      "we can partition the integration interval $[a,b]$ into smaller subintervals,\n",
      "and approximate the area under the curve for each subinterval by the area of\n",
      "the trapezoid created by linearly interpolating between the two function values\n",
      "at each end of the subinterval:\n",
      "\n",
      "<img src=\"http://upload.wikimedia.org/wikipedia/commons/thumb/d/dd/Trapezoidal_rule_illustration.png/316px-Trapezoidal_rule_illustration.png\" /img>\n",
      "\n",
      "The blue line represents the function $f(x)$ and the red line\n",
      "is the linear interpolation.  By subdividing the interval $[a,b]$, the area under $f(x)$ can thus be approximated as the sum of the areas of all\n",
      "the resulting trapezoids. \n",
      "\n",
      "If we denote by $x_{i}$ ($i=0,\\ldots,n,$ with $x_{0}=a$ and\n",
      "$x_{n}=b$) the abscissas where the function is sampled, then\n",
      "\n",
      "$$\n",
      "   \\int_{a}^{b}f(x)dx\\approx\\frac{1}{2}\\sum_{i=1}^{n}\\left(x_{i}-x_{i-1}\\right)\\left(f(x_{i})+f(x_{i-1})\\right).\n",
      "$$\n",
      "\n",
      "The common case of using equally spaced abscissas with spacing $h=(b-a)/n$ reads simply\n",
      "\n",
      "$$\n",
      "   \\int_{a}^{b}f(x)dx\\approx\\frac{h}{2}\\sum_{i=1}^{n}\\left(f(x_{i})+f(x_{i-1})\\right).\n",
      "$$\n",
      "\n",
      "One frequently receives the function values already precomputed, $y_{i}=f(x_{i}),$\n",
      "so the equation above becomes\n",
      "\n",
      "$$\n",
      "   \\int_{a}^{b}f(x)dx\\approx\\frac{1}{2}\\sum_{i=1}^{n}\\left(x_{i}-x_{i-1}\\right)\\left(y_{i}+y_{i-1}\\right).\n",
      "$$"
     ]
    },
    {
     "cell_type": "markdown",
     "metadata": {},
     "source": [
      "Let's first preload the necessary libraries"
     ]
    },
    {
     "cell_type": "code",
     "collapsed": false,
     "input": [
      "%pylab inline\n",
      "import numpy as np\n",
      "import matplotlib.pyplot as plt"
     ],
     "language": "python",
     "metadata": {},
     "outputs": []
    },
    {
     "cell_type": "markdown",
     "metadata": {},
     "source": [
      "## Exercises\n",
      "\n",
      "### 1\n",
      "\n",
      "Write a function `trapz(x, y)`, that applies the trapezoid formula to pre-computed values, \n",
      "where `x` and `y` are 1-d arrays."
     ]
    },
    {
     "cell_type": "code",
     "collapsed": true,
     "input": [],
     "language": "python",
     "metadata": {},
     "outputs": [],
     "prompt_number": "&nbsp;"
    },
    {
     "cell_type": "markdown",
     "metadata": {},
     "source": [
      "### 2 \n",
      "\n",
      "Write a function  `trapzf(f, a, b, npts=100)` that accepts a function `f`, the endpoints `a`\n",
      "and `b` and the number of samples to take `npts`.  Sample the function uniformly at these\n",
      "points and return the value of the integral."
     ]
    },
    {
     "cell_type": "code",
     "collapsed": true,
     "input": [],
     "language": "python",
     "metadata": {},
     "outputs": [],
     "prompt_number": "&nbsp;"
    },
    {
     "cell_type": "markdown",
     "metadata": {},
     "source": [
      "### 3\n",
      "\n",
      "Verify that both functions above are correct by showing that they produces correct values \n",
      "for a simple integral such as $\\int_0^3 x^2$."
     ]
    },
    {
     "cell_type": "code",
     "collapsed": true,
     "input": [],
     "language": "python",
     "metadata": {},
     "outputs": [],
     "prompt_number": "&nbsp;"
    },
    {
     "cell_type": "markdown",
     "metadata": {},
     "source": [
      "### 4\n",
      "\n",
      "Repeat the integration for several values of `npts`, and plot the error as a function of `npts` \n",
      "for the integral in #3."
     ]
    },
    {
     "cell_type": "code",
     "collapsed": true,
     "input": [],
     "language": "python",
     "metadata": {},
     "outputs": [],
     "prompt_number": "&nbsp;"
    }
   ],
   "metadata": {}
  }
 ]
}