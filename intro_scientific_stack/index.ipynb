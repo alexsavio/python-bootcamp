{
 "metadata": {
  "name": "",
  "signature": "sha256:6e8355297fae39d7bad8007ac7daef8a22f2dc5ab449cd76491c214dba622993"
 },
 "nbformat": 3,
 "nbformat_minor": 0,
 "worksheets": [
  {
   "cells": [
    {
     "cell_type": "heading",
     "level": 1,
     "metadata": {},
     "source": [
      "The Scipy stack"
     ]
    },
    {
     "cell_type": "markdown",
     "metadata": {},
     "source": [
      "Alexandre M. S. (alexsavio@gmail.com) http://alexsavio.github.io/"
     ]
    },
    {
     "cell_type": "markdown",
     "metadata": {},
     "source": [
      "+ [Numpy 101](IntroNumPy.ipynb)\n",
      "\n",
      "+ [Matplotlib 101](IntroMatplotlib.ipynb)\n",
      "\n",
      "+ [Scipy](The Scipy stack.ipynb)\n",
      "\n",
      "+ [Pandas 101](IntroPandas.ipynb)\n",
      "\n",
      "+ [Matplotlib 102](Matplotlib.ipynb)\n",
      "\n",
      "+ [Numpy 102](Numpy.ipynb)\n",
      "\n",
      "+ [Numpy and CSV data](NumpyCSV.ipynb)\n",
      "\n",
      "+ [Exercise-TrapezoidRule](Exercise-TrapezoidRule.ipynb)\n",
      "\n",
      "+ [Exercise-FourierImageDenoise](Exercise-FourierImageDenoise.ipynb)"
     ]
    },
    {
     "cell_type": "markdown",
     "metadata": {},
     "source": [
      "# Tutorial Sept. 10th"
     ]
    },
    {
     "cell_type": "markdown",
     "metadata": {},
     "source": [
      "+ [Numpy 101](IntroNumPy.ipynb)\n",
      "\n",
      "+ [Numpy 100 exercises](numpy-100_empty.ipynb) ([solutions](numpy-100.ipynb))\n",
      "\n",
      "+ [Exercise-TrapezoidRule](Exercise-TrapezoidRule.ipynb)\n",
      "\n",
      "+ [Exercise-FourierImageDenoise](Exercise-FourierImageDenoise.ipynb)"
     ]
    }
   ],
   "metadata": {}
  }
 ]
}