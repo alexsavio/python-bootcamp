{
 "metadata": {
  "name": "",
  "signature": "sha256:b51f6c6656f3ab5c342fb32f0212ab59852eb1131027e3c9242ab9f71fe42f87"
 },
 "nbformat": 3,
 "nbformat_minor": 0,
 "worksheets": [
  {
   "cells": [
    {
     "cell_type": "markdown",
     "metadata": {},
     "source": [
      "#Data Exploration in Python - Reading and Exploring CSV Data"
     ]
    },
    {
     "cell_type": "markdown",
     "metadata": {},
     "source": [
      "##Learning Goals\n",
      "- Read CSV data from files into NumPy data structures,\n",
      "with column names to access the data,\n",
      "and adjusting the data types of the columns appropriately.\n",
      "- Export Python code from notebook cells to Python modules.\n",
      "- Use list comprehensions to compactly create list objects.\n",
      "- Use `numpy.ndarray` methods and Boolean slices to explore and analyze data."
     ]
    },
    {
     "cell_type": "markdown",
     "metadata": {},
     "source": [
      "##Reading CSV Data Files"
     ]
    },
    {
     "cell_type": "code",
     "collapsed": false,
     "input": [
      "import numpy as np"
     ],
     "language": "python",
     "metadata": {},
     "outputs": [],
     "prompt_number": 2
    },
    {
     "cell_type": "markdown",
     "metadata": {},
     "source": [
      "[`numpy.genfromtxt()`](http://docs.scipy.org/doc/numpy/user/basics.io.genfromtxt.html)\n",
      "is the power tool for the job of reading data from text files into NumPy arrays.\n",
      "\n",
      "If we try the simplest possible thing:\n",
      "```python\n",
      "data = np.genfromtxt('eng-hourly-08012013-08312013.csv')\n",
      "```\n",
      "we get a dismaying number of errors.\n",
      "\n",
      "Let's take a look at the data.\n",
      "You can use shell commands within notebook cells by prefixing them with `!`."
     ]
    },
    {
     "cell_type": "code",
     "collapsed": false,
     "input": [
      "!head eng-hourly-08012013-08312013.csv"
     ],
     "language": "python",
     "metadata": {},
     "outputs": [
      {
       "output_type": "stream",
       "stream": "stdout",
       "text": [
        "\"Station Name\",\"VANCOUVER INTL A\"\r\n",
        "\"Province\",\"BRITISH COLUMBIA\"\r\n",
        "\"Latitude\",\"49.19\"\r\n",
        "\"Longitude\",\"-123.18\"\r\n",
        "\"Elevation\",\"4.30\"\r\n",
        "\"Climate Identifier\",\"1108395\"\r\n",
        "\"WMO Identifier\",\"71892\"\r\n",
        "\"TC Identifier\",\"YVR\"\r\n",
        "\"All times are specified in Local Standard Time (LST). Add 1 hour to adjust for Daylight Saving Time where and when it is observed.\"\r\n",
        "\r\n"
       ]
      }
     ],
     "prompt_number": 1
    },
    {
     "cell_type": "code",
     "collapsed": false,
     "input": [
      "!head -20 eng-hourly-08012013-08312013.csv"
     ],
     "language": "python",
     "metadata": {},
     "outputs": [
      {
       "output_type": "stream",
       "stream": "stdout",
       "text": [
        "\"Station Name\",\"VANCOUVER INTL A\"\r\n",
        "\"Province\",\"BRITISH COLUMBIA\"\r\n",
        "\"Latitude\",\"49.19\"\r\n",
        "\"Longitude\",\"-123.18\"\r\n",
        "\"Elevation\",\"4.30\"\r\n",
        "\"Climate Identifier\",\"1108395\"\r\n",
        "\"WMO Identifier\",\"71892\"\r\n",
        "\"TC Identifier\",\"YVR\"\r\n",
        "\"All times are specified in Local Standard Time (LST). Add 1 hour to adjust for Daylight Saving Time where and when it is observed.\"\r\n",
        "\r\n",
        "\"Legend\"\r\n",
        "\"M\",\"Missing\"\r\n",
        "\"E\",\"Estimated\"\r\n",
        "\"NA\",\"Not Available\"\r\n",
        "\"**\",\"Partner data that is not subject to review by the National Climate Archives\"\r\n",
        "\r\n",
        "\"Date/Time\",\"Year\",\"Month\",\"Day\",\"Time\",\"Data Quality\",\"Temp (\ufffdC)\",\"Temp Flag\",\"Dew Point Temp (\ufffdC)\",\"Dew Point Temp Flag\",\"Rel Hum (%)\",\"Rel Hum Flag\",\"Wind Dir (10s deg)\",\"Wind Dir Flag\",\"Wind Spd (km/h)\",\"Wind Spd Flag\",\"Visibility (km)\",\"Visibility Flag\",\"Stn Press (kPa)\",\"Stn Press Flag\",\"Hmdx\",\"Hmdx Flag\",\"Wind Chill\",\"Wind Chill Flag\",\"Weather\"\r\n",
        "\"2013-08-01 00:00\",\"2013\",\"08\",\"01\",\"00:00\",\"**\",\"18.7\",\"\",\"14.6\",\"\",\"77\",\"\",\"13\",\"\",\"3\",\"\",\"32.2\",\"\",\"101.60\",\"\",\"\",\"\",\"\",\"\",\"Rain\"\r\n",
        "\"2013-08-01 01:00\",\"2013\",\"08\",\"01\",\"01:00\",\"**\",\"18.4\",\"\",\"15.1\",\"\",\"81\",\"\",\"1\",\"\",\"5\",\"\",\"32.2\",\"\",\"101.57\",\"\",\"\",\"\",\"\",\"\",\"Cloudy\"\r\n",
        "\"2013-08-01 02:00\",\"2013\",\"08\",\"01\",\"02:00\",\"**\",\"17.8\",\"\",\"16.0\",\"\",\"89\",\"\",\"18\",\"\",\"9\",\"\",\"24.1\",\"\",\"101.57\",\"\",\"\",\"\",\"\",\"\",\"Rain\"\r\n"
       ]
      }
     ],
     "prompt_number": 3
    },
    {
     "cell_type": "code",
     "collapsed": false,
     "input": [
      "!tail eng-hourly-08012013-08312013.csv"
     ],
     "language": "python",
     "metadata": {},
     "outputs": [
      {
       "output_type": "stream",
       "stream": "stdout",
       "text": [
        "\"2013-08-31 14:00\",\"2013\",\"08\",\"31\",\"14:00\",\"**\",\"19.4\",\"\",\"16.3\",\"\",\"82\",\"\",\"30\",\"\",\"19\",\"\",\"48.3\",\"\",\"101.43\",\"\",\"\",\"\",\"\",\"\",\"NA\"\r\n",
        "\"2013-08-31 15:00\",\"2013\",\"08\",\"31\",\"15:00\",\"**\",\"19.3\",\"\",\"16.0\",\"\",\"81\",\"\",\"31\",\"\",\"22\",\"\",\"48.3\",\"\",\"101.32\",\"\",\"\",\"\",\"\",\"\",\"NA\"\r\n",
        "\"2013-08-31 16:00\",\"2013\",\"08\",\"31\",\"16:00\",\"**\",\"19.6\",\"\",\"16.1\",\"\",\"80\",\"\",\"30\",\"\",\"18\",\"\",\"48.3\",\"\",\"101.23\",\"\",\"\",\"\",\"\",\"\",\"Mainly Clear\"\r\n",
        "\"2013-08-31 17:00\",\"2013\",\"08\",\"31\",\"17:00\",\"**\",\"19.5\",\"\",\"16.0\",\"\",\"80\",\"\",\"30\",\"\",\"18\",\"\",\"48.3\",\"\",\"101.16\",\"\",\"\",\"\",\"\",\"\",\"NA\"\r\n",
        "\"2013-08-31 18:00\",\"2013\",\"08\",\"31\",\"18:00\",\"**\",\"18.7\",\"\",\"16.0\",\"\",\"84\",\"\",\"30\",\"\",\"16\",\"\",\"48.3\",\"\",\"101.08\",\"\",\"\",\"\",\"\",\"\",\"NA\"\r\n",
        "\"2013-08-31 19:00\",\"2013\",\"08\",\"31\",\"19:00\",\"**\",\"17.6\",\"\",\"16.1\",\"\",\"91\",\"\",\"30\",\"\",\"13\",\"\",\"48.3\",\"\",\"101.06\",\"\",\"\",\"\",\"\",\"\",\"Mainly Clear\"\r\n",
        "\"2013-08-31 20:00\",\"2013\",\"08\",\"31\",\"20:00\",\"**\",\"17.4\",\"\",\"15.8\",\"\",\"90\",\"\",\"29\",\"\",\"12\",\"\",\"32.2\",\"\",\"101.03\",\"\",\"\",\"\",\"\",\"\",\"NA\"\r\n",
        "\"2013-08-31 21:00\",\"2013\",\"08\",\"31\",\"21:00\",\"**\",\"16.7\",\"\",\"15.6\",\"\",\"93\",\"\",\"30\",\"\",\"9\",\"\",\"32.2\",\"\",\"101.00\",\"\",\"\",\"\",\"\",\"\",\"NA\"\r\n",
        "\"2013-08-31 22:00\",\"2013\",\"08\",\"31\",\"22:00\",\"**\",\"17.1\",\"\",\"16.1\",\"\",\"94\",\"\",\"32\",\"\",\"13\",\"\",\"32.2\",\"\",\"100.99\",\"\",\"\",\"\",\"\",\"\",\"Mainly Clear\"\r\n",
        "\"2013-08-31 23:00\",\"2013\",\"08\",\"31\",\"23:00\",\"**\",\"15.5\",\"\",\"14.6\",\"\",\"94\",\"\",\"34\",\"\",\"10\",\"\",\"32.2\",\"\",\"101.02\",\"\",\"\",\"\",\"\",\"\",\"NA\"\r\n"
       ]
      }
     ],
     "prompt_number": 4
    },
    {
     "cell_type": "markdown",
     "metadata": {},
     "source": [
      "So,\n",
      "we have several lines of header data,\n",
      "with a couple of empty lines thrown in,\n",
      "a line of column names,\n",
      "and then line after line of data.\n",
      "The data values appear to be all `\"\"` quoted strings delimited by commas.\n",
      "\n",
      "`numpy.genfromtxt()` doesn't assume a delimiter by default.\n",
      "For our next try let's specify `,` as the delimiter,\n",
      "and just throw away all of the non-data lines.\n",
      "Counting them manually we find that there are 17."
     ]
    },
    {
     "cell_type": "code",
     "collapsed": false,
     "input": [
      "data = np.genfromtxt('eng-hourly-08012013-08312013.csv', delimiter=',', skiprows=16)"
     ],
     "language": "python",
     "metadata": {},
     "outputs": [
      {
       "ename": "ValueError",
       "evalue": "Some errors were detected !\n    Line #268 (got 26 columns instead of 25)\n    Line #696 (got 26 columns instead of 25)\n    Line #697 (got 26 columns instead of 25)\n    Line #701 (got 26 columns instead of 25)\n    Line #713 (got 26 columns instead of 25)",
       "output_type": "pyerr",
       "traceback": [
        "\u001b[0;31m---------------------------------------------------------------------------\u001b[0m\n\u001b[0;31mValueError\u001b[0m                                Traceback (most recent call last)",
        "\u001b[0;32m<ipython-input-3-69cc5449cff6>\u001b[0m in \u001b[0;36m<module>\u001b[0;34m()\u001b[0m\n\u001b[0;32m----> 1\u001b[0;31m \u001b[0mdata\u001b[0m \u001b[0;34m=\u001b[0m \u001b[0mnp\u001b[0m\u001b[0;34m.\u001b[0m\u001b[0mgenfromtxt\u001b[0m\u001b[0;34m(\u001b[0m\u001b[0;34m'eng-hourly-08012013-08312013.csv'\u001b[0m\u001b[0;34m,\u001b[0m \u001b[0mdelimiter\u001b[0m\u001b[0;34m=\u001b[0m\u001b[0;34m','\u001b[0m\u001b[0;34m,\u001b[0m \u001b[0mskiprows\u001b[0m\u001b[0;34m=\u001b[0m\u001b[0;36m16\u001b[0m\u001b[0;34m)\u001b[0m\u001b[0;34m\u001b[0m\u001b[0m\n\u001b[0m",
        "\u001b[0;32m/Users/doug/anaconda/python.app/Contents/lib/python2.7/site-packages/numpy/lib/npyio.pyc\u001b[0m in \u001b[0;36mgenfromtxt\u001b[0;34m(fname, dtype, comments, delimiter, skiprows, skip_header, skip_footer, converters, missing, missing_values, filling_values, usecols, names, excludelist, deletechars, replace_space, autostrip, case_sensitive, defaultfmt, unpack, usemask, loose, invalid_raise)\u001b[0m\n\u001b[1;32m   1636\u001b[0m             \u001b[0;31m# Raise an exception ?\u001b[0m\u001b[0;34m\u001b[0m\u001b[0;34m\u001b[0m\u001b[0m\n\u001b[1;32m   1637\u001b[0m             \u001b[0;32mif\u001b[0m \u001b[0minvalid_raise\u001b[0m\u001b[0;34m:\u001b[0m\u001b[0;34m\u001b[0m\u001b[0m\n\u001b[0;32m-> 1638\u001b[0;31m                 \u001b[0;32mraise\u001b[0m \u001b[0mValueError\u001b[0m\u001b[0;34m(\u001b[0m\u001b[0merrmsg\u001b[0m\u001b[0;34m)\u001b[0m\u001b[0;34m\u001b[0m\u001b[0m\n\u001b[0m\u001b[1;32m   1639\u001b[0m             \u001b[0;31m# Issue a warning ?\u001b[0m\u001b[0;34m\u001b[0m\u001b[0;34m\u001b[0m\u001b[0m\n\u001b[1;32m   1640\u001b[0m             \u001b[0;32melse\u001b[0m\u001b[0;34m:\u001b[0m\u001b[0;34m\u001b[0m\u001b[0m\n",
        "\u001b[0;31mValueError\u001b[0m: Some errors were detected !\n    Line #268 (got 26 columns instead of 25)\n    Line #696 (got 26 columns instead of 25)\n    Line #697 (got 26 columns instead of 25)\n    Line #701 (got 26 columns instead of 25)\n    Line #713 (got 26 columns instead of 25)"
       ]
      }
     ],
     "prompt_number": 3
    },
    {
     "cell_type": "markdown",
     "metadata": {},
     "source": [
      "Better...\n",
      "What's going on at line 268?"
     ]
    },
    {
     "cell_type": "code",
     "collapsed": false,
     "input": [
      "!head -270 eng-hourly-08012013-08312013.csv | tail"
     ],
     "language": "python",
     "metadata": {},
     "outputs": [
      {
       "output_type": "stream",
       "stream": "stdout",
       "text": [
        "\"2013-08-11 03:00\",\"2013\",\"08\",\"11\",\"03:00\",\"**\",\"16.5\",\"\",\"10.2\",\"\",\"66\",\"\",\"12\",\"\",\"20\",\"\",\"24.1\",\"\",\"101.55\",\"\",\"\",\"\",\"\",\"\",\"NA\"\r\n",
        "\"2013-08-11 04:00\",\"2013\",\"08\",\"11\",\"04:00\",\"**\",\"16.1\",\"\",\"11.1\",\"\",\"72\",\"\",\"10\",\"\",\"17\",\"\",\"24.1\",\"\",\"101.59\",\"\",\"\",\"\",\"\",\"\",\"Mostly Cloudy\"\r\n",
        "\"2013-08-11 05:00\",\"2013\",\"08\",\"11\",\"05:00\",\"**\",\"16.1\",\"\",\"11.3\",\"\",\"73\",\"\",\"13\",\"\",\"10\",\"\",\"32.2\",\"\",\"101.57\",\"\",\"\",\"\",\"\",\"\",\"NA\"\r\n",
        "\"2013-08-11 06:00\",\"2013\",\"08\",\"11\",\"06:00\",\"**\",\"16.5\",\"\",\"11.3\",\"\",\"71\",\"\",\"12\",\"\",\"21\",\"\",\"32.2\",\"\",\"101.63\",\"\",\"\",\"\",\"\",\"\",\"NA\"\r\n",
        "\"2013-08-11 07:00\",\"2013\",\"08\",\"11\",\"07:00\",\"**\",\"16.5\",\"\",\"12.3\",\"\",\"76\",\"\",\"12\",\"\",\"17\",\"\",\"32.2\",\"\",\"101.62\",\"\",\"\",\"\",\"\",\"\",\"Mostly Cloudy\"\r\n",
        "\"2013-08-11 08:00\",\"2013\",\"08\",\"11\",\"08:00\",\"**\",\"16.3\",\"\",\"12.9\",\"\",\"80\",\"\",\"13\",\"\",\"24\",\"\",\"24.1\",\"\",\"101.72\",\"\",\"\",\"\",\"\",\"\",\"NA\"\r\n",
        "\"2013-08-11 09:00\",\"2013\",\"08\",\"11\",\"09:00\",\"**\",\"15.5\",\"\",\"12.7\",\"\",\"83\",\"\",\"12\",\"\",\"25\",\"\",\"24.1\",\"\",\"101.74\",\"\",\"\",\"\",\"\",\"\",\"Rain Showers\"\r\n",
        "\"2013-08-11 10:00\",\"2013\",\"08\",\"11\",\"10:00\",\"**\",\"14.9\",\"\",\"13.8\",\"\",\"93\",\"\",\"11\",\"\",\"18\",\"\",\"9.7\",\"\",\"101.75\",\"\",\"\",\"\",\"\",\"\",\"Thunderstorms,Rain Showers\"\r\n",
        "\"2013-08-11 11:00\",\"2013\",\"08\",\"11\",\"11:00\",\"**\",\"15.1\",\"\",\"13.5\",\"\",\"90\",\"\",\"12\",\"\",\"14\",\"\",\"19.3\",\"\",\"101.75\",\"\",\"\",\"\",\"\",\"\",\"NA\"\r\n",
        "\"2013-08-11 12:00\",\"2013\",\"08\",\"11\",\"12:00\",\"**\",\"17.0\",\"\",\"14.7\",\"\",\"86\",\"\",\"9\",\"\",\"10\",\"\",\"24.1\",\"\",\"101.75\",\"\",\"\",\"\",\"\",\"\",\"NA\"\r\n"
       ]
      }
     ],
     "prompt_number": 6
    },
    {
     "cell_type": "markdown",
     "metadata": {},
     "source": [
      "Aha!\n",
      "A comma in a data field.\n",
      "That explains why that row separated into 26 items instead of 25.\n",
      "\n",
      "Let's change our delimiter to `\",\"`."
     ]
    },
    {
     "cell_type": "code",
     "collapsed": false,
     "input": [
      "data = np.genfromtxt('eng-hourly-08012013-08312013.csv', delimiter='\",\"', skiprows=16)\n",
      "data[-1]"
     ],
     "language": "python",
     "metadata": {},
     "outputs": [
      {
       "metadata": {},
       "output_type": "pyout",
       "prompt_number": 4,
       "text": [
        "array([     nan,  2013.  ,     8.  ,    31.  ,      nan,      nan,\n",
        "          15.5 ,      nan,    14.6 ,      nan,    94.  ,      nan,\n",
        "          34.  ,      nan,    10.  ,      nan,    32.2 ,      nan,\n",
        "         101.02,      nan,      nan,      nan,      nan,      nan,      nan])"
       ]
      }
     ],
     "prompt_number": 4
    },
    {
     "cell_type": "code",
     "collapsed": false,
     "input": [
      "!tail -1 eng-hourly-08012013-08312013.csv"
     ],
     "language": "python",
     "metadata": {},
     "outputs": [
      {
       "output_type": "stream",
       "stream": "stdout",
       "text": [
        "\"2013-08-31 23:00\",\"2013\",\"08\",\"31\",\"23:00\",\"**\",\"15.5\",\"\",\"14.6\",\"\",\"94\",\"\",\"34\",\"\",\"10\",\"\",\"32.2\",\"\",\"101.02\",\"\",\"\",\"\",\"\",\"\",\"NA\"\r\n"
       ]
      }
     ],
     "prompt_number": 8
    },
    {
     "cell_type": "markdown",
     "metadata": {},
     "source": [
      "That looks like progress.\n",
      "\n",
      "All of the values have been converted to `float`s.\n",
      "Any that aren't actually numbers,\n",
      "like `\"\"` and `23:00` are represented as `NaN`s\n",
      "because NumPy uses the IEEE Standard for Binary Floating-Point for Arithmetic (IEEE 754)."
     ]
    },
    {
     "cell_type": "code",
     "collapsed": false,
     "input": [
      "print type(data[-1, 0])\n",
      "print np.isnan(data[-1, 0])"
     ],
     "language": "python",
     "metadata": {},
     "outputs": [
      {
       "output_type": "stream",
       "stream": "stdout",
       "text": [
        "<type 'numpy.float64'>\n",
        "True\n"
       ]
      }
     ],
     "prompt_number": 9
    },
    {
     "cell_type": "markdown",
     "metadata": {},
     "source": [
      "It seems a shame to throw away all of those column names that EC provided for us.\n",
      "Fortunately,\n",
      "`numpy.genfromtxt()` let's use them,\n",
      "so long as they are in the first line after the rows we skip (if any):"
     ]
    },
    {
     "cell_type": "code",
     "collapsed": false,
     "input": [
      "data = np.genfromtxt('eng-hourly-08012013-08312013.csv', delimiter='\",\"', skiprows=16, names=True)\n",
      "print data.dtype, '\\n'\n",
      "print data['Temp_\\xb0C'][:10]"
     ],
     "language": "python",
     "metadata": {},
     "outputs": [
      {
       "output_type": "stream",
       "stream": "stdout",
       "text": [
        "[('DateTime', '<f8'), ('Year', '<f8'), ('Month', '<f8'), ('Day', '<f8'), ('Time', '<f8'), ('Data_Quality', '<f8'), ('Temp_\\xb0C', '<f8'), ('Temp_Flag', '<f8'), ('Dew_Point_Temp_\\xb0C', '<f8'), ('Dew_Point_Temp_Flag', '<f8'), ('Rel_Hum_', '<f8'), ('Rel_Hum_Flag', '<f8'), ('Wind_Dir_10s_deg', '<f8'), ('Wind_Dir_Flag', '<f8'), ('Wind_Spd_kmh', '<f8'), ('Wind_Spd_Flag', '<f8'), ('Visibility_km', '<f8'), ('Visibility_Flag', '<f8'), ('Stn_Press_kPa', '<f8'), ('Stn_Press_Flag', '<f8'), ('Hmdx', '<f8'), ('Hmdx_Flag', '<f8'), ('Wind_Chill', '<f8'), ('Wind_Chill_Flag', '<f8'), ('Weather', '<f8')] \n",
        "\n",
        "[ 18.7  18.4  17.8  17.2  15.9  14.6  14.8  16.   17.   18.1]\n"
       ]
      }
     ],
     "prompt_number": 32
    },
    {
     "cell_type": "markdown",
     "metadata": {},
     "source": [
      "**Exercise:**\n",
      "This is going so well that we should define a function\n",
      "that will take a climate data CSV file name \n",
      "and return a NumPy array containing its data."
     ]
    },
    {
     "cell_type": "code",
     "collapsed": true,
     "input": [
      "def read_climate_file(filename):\n",
      "    \"\"\"Read an Environment Canada climate data CSV file and return its data.\n",
      "    \"\"\"\n",
      "    ..."
     ],
     "language": "python",
     "metadata": {},
     "outputs": [],
     "prompt_number": 33
    },
    {
     "cell_type": "markdown",
     "metadata": {},
     "source": [
      "Now let's deal with as many of those `nan`s as we can.\n",
      "We can print a line of data from the file,\n",
      "call our new `read_climate_file()` function and\n",
      "print out the same line of data to see what it gives us,\n",
      "and print the `(column_name, dtype)` tuples in a nice list to\n",
      "help us decide what to do next."
     ]
    },
    {
     "cell_type": "code",
     "collapsed": false,
     "input": [
      "!tail -1 eng-hourly-08012013-08312013.csv\n",
      "print\n",
      "data = read_climate_file('eng-hourly-08012013-08312013.csv')\n",
      "print data[0]\n",
      "print data[-1], '\\n'\n",
      "for x in data.dtype.descr:\n",
      "    print x"
     ],
     "language": "python",
     "metadata": {},
     "outputs": [
      {
       "output_type": "stream",
       "stream": "stdout",
       "text": [
        "\"2013-08-31 23:00\",\"2013\",\"08\",\"31\",\"23:00\",\"**\",\"15.5\",\"\",\"14.6\",\"\",\"94\",\"\",\"34\",\"\",\"10\",\"\",\"32.2\",\"\",\"101.02\",\"\",\"\",\"\",\"\",\"\",\"NA\"\r\n"
       ]
      },
      {
       "output_type": "stream",
       "stream": "stdout",
       "text": [
        "\n",
        "(nan, 2013.0, 8.0, 1.0, nan, nan, 18.7, nan, 14.6, nan, 77.0, nan, 13.0, nan, 3.0, nan, 32.2, nan, 101.6, nan, nan, nan, nan, nan, nan)"
       ]
      },
      {
       "output_type": "stream",
       "stream": "stdout",
       "text": [
        "\n",
        "(nan, 2013.0, 8.0, 31.0, nan, nan, 15.5, nan, 14.6, nan, 94.0, nan, 34.0, nan, 10.0, nan, 32.2, nan, 101.02, nan, nan, nan, nan, nan, nan) \n",
        "\n",
        "('DateTime', '<f8')\n",
        "('Year', '<f8')\n",
        "('Month', '<f8')\n",
        "('Day', '<f8')\n",
        "('Time', '<f8')\n",
        "('Data_Quality', '<f8')\n",
        "('Temp_\\xb0C', '<f8')\n",
        "('Temp_Flag', '<f8')\n",
        "('Dew_Point_Temp_\\xb0C', '<f8')\n",
        "('Dew_Point_Temp_Flag', '<f8')\n",
        "('Rel_Hum_', '<f8')\n",
        "('Rel_Hum_Flag', '<f8')\n",
        "('Wind_Dir_10s_deg', '<f8')\n",
        "('Wind_Dir_Flag', '<f8')\n",
        "('Wind_Spd_kmh', '<f8')\n",
        "('Wind_Spd_Flag', '<f8')\n",
        "('Visibility_km', '<f8')\n",
        "('Visibility_Flag', '<f8')\n",
        "('Stn_Press_kPa', '<f8')\n",
        "('Stn_Press_Flag', '<f8')\n",
        "('Hmdx', '<f8')\n",
        "('Hmdx_Flag', '<f8')\n",
        "('Wind_Chill', '<f8')\n",
        "('Wind_Chill_Flag', '<f8')\n",
        "('Weather', '<f8')\n"
       ]
      }
     ],
     "prompt_number": 34
    },
    {
     "cell_type": "markdown",
     "metadata": {},
     "source": [
      "The `dtype` properties of NumPy arrays are immutable,\n",
      "so we can't just change the columns that should be `int`s\n",
      "and those that should be `str`s, etc.\n",
      "We do have the option of passing a `dtype` to `numpy.genfromtxt()` though.\n",
      "We could type in a list of 25 tuples with the column names and dtypes,\n",
      "but let's take the easy way out:\n",
      "\n",
      "* Call `numpy.genfromtxt()` once to get the column names\n",
      "* Use the `dtype` from that result to build a new `dtype` with they correct types\n",
      "* Call `numpy.genfromtxt()` again with our new `dtype`\n",
      "\n",
      "So,\n",
      "our the new version of our `read_climate_file()` function is going to look like:"
     ]
    },
    {
     "cell_type": "code",
     "collapsed": false,
     "input": [
      "def read_climate_file(filename):\n",
      "    \"\"\"Read an Environment Canada climate data CSV file and return its data.\n",
      "    \"\"\"\n",
      "    data = np.genfromtxt(filename, delimiter='\",\"', skiprows=16, names=True)\n",
      "    new_dtype = fix_dtype(data.dtype)\n",
      "    data = np.genfromtxt(filename, delimiter='\",\"', skiprows=17, dtype=new_dtype)\n",
      "    return data"
     ],
     "language": "python",
     "metadata": {},
     "outputs": [],
     "prompt_number": 35
    },
    {
     "cell_type": "markdown",
     "metadata": {},
     "source": [
      "And we need to write the `fix_dtype()` function. Let's start with what we know:\n",
      "\n",
      "* `fix_type()` takes a `dtype` as an argument, and returns a list of tuples\n",
      "* The `(name, dtype)` tuples for columns that are floats can just be copied\n",
      "directly from input to output of the function\n",
      "\n",
      "Let's also add our test code to the cell so that we can keep tabs on our progress."
     ]
    },
    {
     "cell_type": "code",
     "collapsed": false,
     "input": [
      "def fix_dtype(dtype):\n",
      "    \"\"\"Create a corrected dtype sequence from an auto-generated one.\n",
      "    \"\"\"\n",
      "    new_dtype = []\n",
      "    for name, cdtype in dtype.descr:\n",
      "        new_dtype.append((name, cdtype))\n",
      "    return new_dtype\n",
      "\n",
      "def read_climate_file(filename):\n",
      "    \"\"\"Read an Environment Canada climate data CSV file and return its data.\n",
      "    \"\"\"\n",
      "    data = np.genfromtxt(filename, delimiter='\",\"', skiprows=16, names=True)\n",
      "    new_dtype = fix_dtype(data.dtype)\n",
      "    data = np.genfromtxt(filename, delimiter='\",\"', skiprows=17, dtype=new_dtype)\n",
      "    return data\n",
      "\n",
      "!tail -1 eng-hourly-08012013-08312013.csv\n",
      "print\n",
      "data = read_climate_file('eng-hourly-08012013-08312013.csv')\n",
      "print data[0]\n",
      "print data[-1], '\\n'\n",
      "for x in data.dtype.descr:\n",
      "    print x"
     ],
     "language": "python",
     "metadata": {},
     "outputs": [
      {
       "output_type": "stream",
       "stream": "stdout",
       "text": [
        "\"2013-08-31 23:00\",\"2013\",\"08\",\"31\",\"23:00\",\"**\",\"15.5\",\"\",\"14.6\",\"\",\"94\",\"\",\"34\",\"\",\"10\",\"\",\"32.2\",\"\",\"101.02\",\"\",\"\",\"\",\"\",\"\",\"NA\"\r\n"
       ]
      },
      {
       "output_type": "stream",
       "stream": "stdout",
       "text": [
        "\n",
        "(nan, 2013.0, 8.0, 1.0, nan, nan, 18.7, nan, 14.6, nan, 77.0, nan, 13.0, nan, 3.0, nan, 32.2, nan, 101.6, nan, nan, nan, nan, nan, nan)"
       ]
      },
      {
       "output_type": "stream",
       "stream": "stdout",
       "text": [
        "\n",
        "(nan, 2013.0, 8.0, 31.0, nan, nan, 15.5, nan, 14.6, nan, 94.0, nan, 34.0, nan, 10.0, nan, 32.2, nan, 101.02, nan, nan, nan, nan, nan, nan) \n",
        "\n",
        "('DateTime', '<f8')\n",
        "('Year', '<f8')\n",
        "('Month', '<f8')\n",
        "('Day', '<f8')\n",
        "('Time', '<f8')\n",
        "('Data_Quality', '<f8')\n",
        "('Temp_\\xb0C', '<f8')\n",
        "('Temp_Flag', '<f8')\n",
        "('Dew_Point_Temp_\\xb0C', '<f8')\n",
        "('Dew_Point_Temp_Flag', '<f8')\n",
        "('Rel_Hum_', '<f8')\n",
        "('Rel_Hum_Flag', '<f8')\n",
        "('Wind_Dir_10s_deg', '<f8')\n",
        "('Wind_Dir_Flag', '<f8')\n",
        "('Wind_Spd_kmh', '<f8')\n",
        "('Wind_Spd_Flag', '<f8')\n",
        "('Visibility_km', '<f8')\n",
        "('Visibility_Flag', '<f8')\n",
        "('Stn_Press_kPa', '<f8')\n",
        "('Stn_Press_Flag', '<f8')\n",
        "('Hmdx', '<f8')\n",
        "('Hmdx_Flag', '<f8')\n",
        "('Wind_Chill', '<f8')\n",
        "('Wind_Chill_Flag', '<f8')\n",
        "('Weather', '<f8')\n"
       ]
      }
     ],
     "prompt_number": 37
    },
    {
     "cell_type": "markdown",
     "metadata": {},
     "source": [
      "The only exciting thing there is that we didn't break anything :-)\n",
      "\n",
      "Let's fix up the Year, Month and Day columns.\n",
      "They should be integers, \n",
      "not floats."
     ]
    },
    {
     "cell_type": "code",
     "collapsed": false,
     "input": [
      "def fix_dtype(dtype):\n",
      "    \"\"\"Create a corrected dtype sequence from an auto-generated one.\n",
      "    \"\"\"\n",
      "    new_dtype = []\n",
      "    for name, cdtype in dtype.descr:\n",
      "        int_cols = ('Year', 'Month', 'Day')\n",
      "        if name in int_cols:\n",
      "            cdtype = np.int\n",
      "        new_dtype.append((name, cdtype))\n",
      "    return new_dtype\n",
      "\n",
      "def read_climate_file(filename):\n",
      "    \"\"\"Read an Environment Canada climate data CSV file and return its data.\n",
      "    \"\"\"\n",
      "    data = np.genfromtxt(filename, delimiter='\",\"', skiprows=16, names=True)\n",
      "    new_dtype = fix_dtype(data.dtype)\n",
      "    data = np.genfromtxt(filename, delimiter='\",\"', skiprows=17, dtype=new_dtype)\n",
      "    return data\n",
      "\n",
      "!tail -1 eng-hourly-08012013-08312013.csv\n",
      "print\n",
      "data = read_climate_file('eng-hourly-08012013-08312013.csv')\n",
      "print data[0]\n",
      "print data[-1], '\\n'\n",
      "for x in data.dtype.descr:\n",
      "    print x"
     ],
     "language": "python",
     "metadata": {},
     "outputs": [
      {
       "output_type": "stream",
       "stream": "stdout",
       "text": [
        "\"2013-08-31 23:00\",\"2013\",\"08\",\"31\",\"23:00\",\"**\",\"15.5\",\"\",\"14.6\",\"\",\"94\",\"\",\"34\",\"\",\"10\",\"\",\"32.2\",\"\",\"101.02\",\"\",\"\",\"\",\"\",\"\",\"NA\"\r\n"
       ]
      },
      {
       "output_type": "stream",
       "stream": "stdout",
       "text": [
        "\n",
        "(nan, 2013, 8, 1, nan, nan, 18.7, nan, 14.6, nan, 77.0, nan, 13.0, nan, 3.0, nan, 32.2, nan, 101.6, nan, nan, nan, nan, nan, nan)"
       ]
      },
      {
       "output_type": "stream",
       "stream": "stdout",
       "text": [
        "\n",
        "(nan, 2013, 8, 31, nan, nan, 15.5, nan, 14.6, nan, 94.0, nan, 34.0, nan, 10.0, nan, 32.2, nan, 101.02, nan, nan, nan, nan, nan, nan) \n",
        "\n",
        "('DateTime', '<f8')\n",
        "('Year', '<i8')\n",
        "('Month', '<i8')\n",
        "('Day', '<i8')\n",
        "('Time', '<f8')\n",
        "('Data_Quality', '<f8')\n",
        "('Temp_\\xb0C', '<f8')\n",
        "('Temp_Flag', '<f8')\n",
        "('Dew_Point_Temp_\\xb0C', '<f8')\n",
        "('Dew_Point_Temp_Flag', '<f8')\n",
        "('Rel_Hum_', '<f8')\n",
        "('Rel_Hum_Flag', '<f8')\n",
        "('Wind_Dir_10s_deg', '<f8')\n",
        "('Wind_Dir_Flag', '<f8')\n",
        "('Wind_Spd_kmh', '<f8')\n",
        "('Wind_Spd_Flag', '<f8')\n",
        "('Visibility_km', '<f8')\n",
        "('Visibility_Flag', '<f8')\n",
        "('Stn_Press_kPa', '<f8')\n",
        "('Stn_Press_Flag', '<f8')\n",
        "('Hmdx', '<f8')\n",
        "('Hmdx_Flag', '<f8')\n",
        "('Wind_Chill', '<f8')\n",
        "('Wind_Chill_Flag', '<f8')\n",
        "('Weather', '<f8')\n"
       ]
      }
     ],
     "prompt_number": 38
    },
    {
     "cell_type": "markdown",
     "metadata": {},
     "source": [
      "Progress!\n",
      "\n",
      "Now let's handle the string columns.\n",
      "There's a lot of them,\n",
      "but most of their names end with `_Flags` -\n",
      "we can use that.\n",
      "Also,\n",
      "we need to specify a width.\n",
      "Let's guess 30 characters.\n",
      "We might need to tune that later if we're working with the\n",
      "`Weather` column and find that data are truncated."
     ]
    },
    {
     "cell_type": "code",
     "collapsed": false,
     "input": [
      "def fix_dtype(dtype):\n",
      "    \"\"\"Create a corrected dtype sequence from an auto-generated one.\n",
      "    \"\"\"\n",
      "    new_dtype = []\n",
      "    for name, cdtype in dtype.descr:\n",
      "        int_cols = ('Year', 'Month', 'Day')\n",
      "        str_cols = ('Data_Quality', 'Weather')\n",
      "        if name in int_cols:\n",
      "            cdtype = np.int\n",
      "        if name in str_cols or name.endswith('_Flag'):\n",
      "            cdtype = (np.str, 30)\n",
      "        new_dtype.append((name, cdtype))\n",
      "    return new_dtype\n",
      "\n",
      "def read_climate_file(filename):\n",
      "    \"\"\"Read an Environment Canada climate data CSV file and return its data.\n",
      "    \"\"\"\n",
      "    data = np.genfromtxt(filename, delimiter='\",\"', skiprows=16, names=True)\n",
      "    new_dtype = fix_dtype(data.dtype)\n",
      "    data = np.genfromtxt(filename, delimiter='\",\"', skiprows=17, dtype=new_dtype)\n",
      "    return data\n",
      "\n",
      "!tail -1 eng-hourly-08012013-08312013.csv\n",
      "print\n",
      "data = read_climate_file('eng-hourly-08012013-08312013.csv')\n",
      "print data[0]\n",
      "print data[-1], '\\n'\n",
      "for x in data.dtype.descr:\n",
      "    print x"
     ],
     "language": "python",
     "metadata": {},
     "outputs": [
      {
       "output_type": "stream",
       "stream": "stdout",
       "text": [
        "\"2013-08-31 23:00\",\"2013\",\"08\",\"31\",\"23:00\",\"**\",\"15.5\",\"\",\"14.6\",\"\",\"94\",\"\",\"34\",\"\",\"10\",\"\",\"32.2\",\"\",\"101.02\",\"\",\"\",\"\",\"\",\"\",\"NA\"\r\n"
       ]
      },
      {
       "output_type": "stream",
       "stream": "stdout",
       "text": [
        "\n",
        "(nan, 2013, 8, 1, nan, '**', 18.7, '', 14.6, '', 77.0, '', 13.0, '', 3.0, '', 32.2, '', 101.6, '', nan, '', nan, '', 'Rain\"')"
       ]
      },
      {
       "output_type": "stream",
       "stream": "stdout",
       "text": [
        "\n",
        "(nan, 2013, 8, 31, nan, '**', 15.5, '', 14.6, '', 94.0, '', 34.0, '', 10.0, '', 32.2, '', 101.02, '', nan, '', nan, '', 'NA\"') \n",
        "\n",
        "('DateTime', '<f8')\n",
        "('Year', '<i8')\n",
        "('Month', '<i8')\n",
        "('Day', '<i8')\n",
        "('Time', '<f8')\n",
        "('Data_Quality', '|S30')\n",
        "('Temp_\\xb0C', '<f8')\n",
        "('Temp_Flag', '|S30')\n",
        "('Dew_Point_Temp_\\xb0C', '<f8')\n",
        "('Dew_Point_Temp_Flag', '|S30')\n",
        "('Rel_Hum_', '<f8')\n",
        "('Rel_Hum_Flag', '|S30')\n",
        "('Wind_Dir_10s_deg', '<f8')\n",
        "('Wind_Dir_Flag', '|S30')\n",
        "('Wind_Spd_kmh', '<f8')\n",
        "('Wind_Spd_Flag', '|S30')\n",
        "('Visibility_km', '<f8')\n",
        "('Visibility_Flag', '|S30')\n",
        "('Stn_Press_kPa', '<f8')\n",
        "('Stn_Press_Flag', '|S30')\n",
        "('Hmdx', '<f8')\n",
        "('Hmdx_Flag', '|S30')\n",
        "('Wind_Chill', '<f8')\n",
        "('Wind_Chill_Flag', '|S30')\n",
        "('Weather', '|S30')\n"
       ]
      }
     ],
     "prompt_number": 39
    },
    {
     "cell_type": "markdown",
     "metadata": {},
     "source": [
      "Nice!\n",
      "\n",
      "Let's wrap up the loose ends:\n",
      "\n",
      "* For the `DateTime` we'll use a `datetime.datetime` object from the Python standard library,\n",
      "and similarly for `Time` we'll use a `datetime.time` object\n",
      "* We'll leave `Hmdx` and `Wind_Chill` as floats because when they are calculated that's what they are\n",
      "and when they're not `nan` is as good a placeholder as any\n",
      "* We'll patch up a couple of data translation issues:\n",
      "\n",
      "  * the degree symbol in the data file has been mangled into `\\xb0`\n",
      "  * The `Rel_Hum_` column heading has a unnecessary trailing `_`,\n",
      "  probably left over when the `%` symbol was clipped off"
     ]
    },
    {
     "cell_type": "code",
     "collapsed": false,
     "input": [
      "import datetime\n",
      "\n",
      "def fix_dtype(dtype):\n",
      "    \"\"\"Create a corrected dtype sequence from an auto-generated one.\n",
      "    \"\"\"\n",
      "    new_dtype = []\n",
      "    for name, cdtype in dtype.descr:\n",
      "        int_cols = ('Year', 'Month', 'Day')\n",
      "        str_cols = ('Data_Quality', 'Weather')\n",
      "        if name in int_cols:\n",
      "            cdtype = np.int\n",
      "        if name in str_cols or name.endswith('_Flag'):\n",
      "            cdtype = (np.str, 30)\n",
      "        if name == 'DateTime':\n",
      "            cdtype = datetime.datetime\n",
      "        if name == 'Time':\n",
      "            cdtype = datetime.time\n",
      "        if name == 'Rel_Hum_':\n",
      "            name = 'Rel_Hum'\n",
      "        name = name.replace('\\xb0', 'deg')\n",
      "        new_dtype.append((name, cdtype))\n",
      "    return new_dtype\n",
      "\n",
      "def read_climate_file(filename):\n",
      "    \"\"\"Read an Environment Canada climate data CSV file and return its data.\n",
      "    \"\"\"\n",
      "    data = np.genfromtxt(filename, delimiter='\",\"', skiprows=16, names=True)\n",
      "    new_dtype = fix_dtype(data.dtype)\n",
      "    data = np.genfromtxt(filename, delimiter='\",\"', skiprows=17, dtype=new_dtype)\n",
      "    return data\n",
      "\n",
      "!tail -1 eng-hourly-08012013-08312013.csv\n",
      "print\n",
      "data = read_climate_file('eng-hourly-08012013-08312013.csv')\n",
      "print data[0]\n",
      "print data[-1], '\\n'\n",
      "for x in data.dtype.descr:\n",
      "    print x"
     ],
     "language": "python",
     "metadata": {},
     "outputs": [
      {
       "output_type": "stream",
       "stream": "stdout",
       "text": [
        "\"2013-08-31 23:00\",\"2013\",\"08\",\"31\",\"23:00\",\"**\",\"15.5\",\"\",\"14.6\",\"\",\"94\",\"\",\"34\",\"\",\"10\",\"\",\"32.2\",\"\",\"101.02\",\"\",\"\",\"\",\"\",\"\",\"NA\"\r\n"
       ]
      },
      {
       "output_type": "stream",
       "stream": "stdout",
       "text": [
        "\n",
        "('\"2013-08-01 00:00', 2013, 8, 1, '00:00', '**', 18.7, '', 14.6, '', 77.0, '', 13.0, '', 3.0, '', 32.2, '', 101.6, '', nan, '', nan, '', 'Rain\"')"
       ]
      },
      {
       "output_type": "stream",
       "stream": "stdout",
       "text": [
        "\n",
        "('\"2013-08-31 23:00', 2013, 8, 31, '23:00', '**', 15.5, '', 14.6, '', 94.0, '', 34.0, '', 10.0, '', 32.2, '', 101.02, '', nan, '', nan, '', 'NA\"') \n",
        "\n",
        "('DateTime', '|O8')\n",
        "('Year', '<i8')\n",
        "('Month', '<i8')\n",
        "('Day', '<i8')\n",
        "('Time', '|O8')\n",
        "('Data_Quality', '|S30')\n",
        "('Temp_degC', '<f8')\n",
        "('Temp_Flag', '|S30')\n",
        "('Dew_Point_Temp_degC', '<f8')\n",
        "('Dew_Point_Temp_Flag', '|S30')\n",
        "('Rel_Hum', '<f8')\n",
        "('Rel_Hum_Flag', '|S30')\n",
        "('Wind_Dir_10s_deg', '<f8')\n",
        "('Wind_Dir_Flag', '|S30')\n",
        "('Wind_Spd_kmh', '<f8')\n",
        "('Wind_Spd_Flag', '|S30')\n",
        "('Visibility_km', '<f8')\n",
        "('Visibility_Flag', '|S30')\n",
        "('Stn_Press_kPa', '<f8')\n",
        "('Stn_Press_Flag', '|S30')\n",
        "('Hmdx', '<f8')\n",
        "('Hmdx_Flag', '|S30')\n",
        "('Wind_Chill', '<f8')\n",
        "('Wind_Chill_Flag', '|S30')\n",
        "('Weather', '|S30')\n"
       ]
      }
     ],
     "prompt_number": 43
    },
    {
     "cell_type": "markdown",
     "metadata": {},
     "source": [
      "One last thing:\n",
      "We can get rid of some of the duplication of arguments to `numpy.genfromtxt()`\n",
      "by using default argument values in our `read_climate_file()` signature.\n",
      "That also makes our code more robust in the event that Environment Canada changes\n",
      "their data file format (again)."
     ]
    },
    {
     "cell_type": "code",
     "collapsed": false,
     "input": [
      "import datetime\n",
      "\n",
      "def fix_dtype(dtype):\n",
      "    \"\"\"Create a corrected dtype sequence from an auto-generated one.\n",
      "    \"\"\"\n",
      "    new_dtype = []\n",
      "    for name, cdtype in dtype.descr:\n",
      "        int_cols = ('Year', 'Month', 'Day')\n",
      "        str_cols = ('Data_Quality', 'Weather')\n",
      "        if name in int_cols:\n",
      "            cdtype = np.int\n",
      "        if name in str_cols or name.endswith('_Flag'):\n",
      "            cdtype = (np.str, 30)\n",
      "        if name == 'DateTime':\n",
      "            cdtype = datetime.datetime\n",
      "        if name == 'Time':\n",
      "            cdtype = datetime.time\n",
      "        if name == 'Rel_Hum_':\n",
      "            name = 'Rel_Hum'\n",
      "        name = name.replace('\\xb0', 'deg')\n",
      "        new_dtype.append((name, cdtype))\n",
      "    return new_dtype\n",
      "\n",
      "def read_climate_file(filename, delimiter='\",\"', skiprows=16):\n",
      "    \"\"\"Read an Environment Canada climate data CSV file and return its data.\n",
      "    \"\"\"\n",
      "    data = np.genfromtxt(\n",
      "        filename, delimiter=delimiter, skiprows=skiprows, names=True)\n",
      "    new_dtype = fix_dtype(data.dtype)\n",
      "    data = np.genfromtxt(\n",
      "        filename, delimiter=delimiter, skiprows=skiprows+1, dtype=new_dtype)\n",
      "    return data\n",
      "\n",
      "!tail -1 eng-hourly-08012013-08312013.csv\n",
      "print\n",
      "data = read_climate_file('eng-hourly-08012013-08312013.csv')\n",
      "print data[0]\n",
      "print data[-1], '\\n'\n",
      "for x in data.dtype.descr:\n",
      "    print x"
     ],
     "language": "python",
     "metadata": {},
     "outputs": [
      {
       "output_type": "stream",
       "stream": "stdout",
       "text": [
        "\"2013-08-31 23:00\",\"2013\",\"08\",\"31\",\"23:00\",\"**\",\"15.5\",\"\",\"14.6\",\"\",\"94\",\"\",\"34\",\"\",\"10\",\"\",\"32.2\",\"\",\"101.02\",\"\",\"\",\"\",\"\",\"\",\"NA\"\r\n"
       ]
      },
      {
       "output_type": "stream",
       "stream": "stdout",
       "text": [
        "\n",
        "('\"2013-08-01 00:00', 2013, 8, 1, '00:00', '**', 18.7, '', 14.6, '', 77.0, '', 13.0, '', 3.0, '', 32.2, '', 101.6, '', nan, '', nan, '', 'Rain\"')"
       ]
      },
      {
       "output_type": "stream",
       "stream": "stdout",
       "text": [
        "\n",
        "('\"2013-08-31 23:00', 2013, 8, 31, '23:00', '**', 15.5, '', 14.6, '', 94.0, '', 34.0, '', 10.0, '', 32.2, '', 101.02, '', nan, '', nan, '', 'NA\"') \n",
        "\n",
        "('DateTime', '|O8')\n",
        "('Year', '<i8')\n",
        "('Month', '<i8')\n",
        "('Day', '<i8')\n",
        "('Time', '|O8')\n",
        "('Data_Quality', '|S30')\n",
        "('Temp_degC', '<f8')\n",
        "('Temp_Flag', '|S30')\n",
        "('Dew_Point_Temp_degC', '<f8')\n",
        "('Dew_Point_Temp_Flag', '|S30')\n",
        "('Rel_Hum', '<f8')\n",
        "('Rel_Hum_Flag', '|S30')\n",
        "('Wind_Dir_10s_deg', '<f8')\n",
        "('Wind_Dir_Flag', '|S30')\n",
        "('Wind_Spd_kmh', '<f8')\n",
        "('Wind_Spd_Flag', '|S30')\n",
        "('Visibility_km', '<f8')\n",
        "('Visibility_Flag', '|S30')\n",
        "('Stn_Press_kPa', '<f8')\n",
        "('Stn_Press_Flag', '|S30')\n",
        "('Hmdx', '<f8')\n",
        "('Hmdx_Flag', '|S30')\n",
        "('Wind_Chill', '<f8')\n",
        "('Wind_Chill_Flag', '|S30')\n",
        "('Weather', '|S30')\n"
       ]
      }
     ],
     "prompt_number": 45
    },
    {
     "cell_type": "markdown",
     "metadata": {},
     "source": [
      "We're going to want to use those functions again later,\n",
      "so let's go back to that cell and save the code out \n",
      "to a Python module so that we can `import` it when we need it:\n",
      "\n",
      "* Split the cell to separate our test code from the function definitions\n",
      "* Add an `import numpy as np` statement below the `import datetime` statement\n",
      "* Insert the `%%writefile climate_data.py` cell \"magic\" command at the top of the cell\n",
      "and run the cell to write the code to that file\n",
      "* Add and commit the `climate_data.py` file to your repo"
     ]
    },
    {
     "cell_type": "markdown",
     "metadata": {},
     "source": [
      "##Descriptive Statistics\n",
      "\n",
      "Now we can use array methods to do some basic analysis of the August 2013 weather.\n",
      "Let's look at temperatures:"
     ]
    },
    {
     "cell_type": "code",
     "collapsed": false,
     "input": [
      "temps = data['Temp_degC']\n",
      "print 'max:', temps.max(), 'on', data[temps.argmax()]['DateTime']\n",
      "print 'min:', temps.min(), 'on', data[temps.argmin()]['DateTime']\n",
      "print 'mean:', temps.mean()\n",
      "print 'std dev:', temps.std()"
     ],
     "language": "python",
     "metadata": {},
     "outputs": [
      {
       "output_type": "stream",
       "stream": "stdout",
       "text": [
        "max: 24.6 on \"2013-08-10 15:00\n",
        "min: 12.5 on \"2013-08-31 06:00\n",
        "mean: 18.4383064516\n",
        "std dev: 2.67189128631\n"
       ]
      }
     ],
     "prompt_number": 46
    },
    {
     "cell_type": "markdown",
     "metadata": {},
     "source": [
      "Why is there a `\"` on the front of the date-time stamps?\n",
      "\n",
      "It's an artifact of using `\",\"` as our delimeter.\n",
      "We can fix it easily."
     ]
    },
    {
     "cell_type": "code",
     "collapsed": false,
     "input": [
      "new_datetime = [d[1:] for d in data['DateTime']]\n",
      "data['DateTime'] = np.array(new_datetime)\n",
      "data[0]"
     ],
     "language": "python",
     "metadata": {},
     "outputs": [
      {
       "metadata": {},
       "output_type": "pyout",
       "prompt_number": 47,
       "text": [
        "('2013-08-01 00:00', 2013, 8, 1, '00:00', '**', 18.7, '', 14.6, '', 77.0, '', 13.0, '', 3.0, '', 32.2, '', 101.6, '', nan, '', nan, '', 'Rain\"')"
       ]
      }
     ],
     "prompt_number": 47
    },
    {
     "cell_type": "markdown",
     "metadata": {},
     "source": [
      "<hr>\n",
      "##List Comprehensions\n",
      "That first line is using a *list comprehension*,\n",
      "a Python construct that lets you compactly create a list\n",
      "by transforming and/or filtering the elements of a sequence."
     ]
    },
    {
     "cell_type": "code",
     "collapsed": false,
     "input": [
      "print [x*2 for x in range(10)]\n",
      "print [x for x in range(10) if x >= 5]"
     ],
     "language": "python",
     "metadata": {},
     "outputs": [
      {
       "output_type": "stream",
       "stream": "stdout",
       "text": [
        "[0, 2, 4, 6, 8, 10, 12, 14, 16, 18]\n",
        "[5, 6, 7, 8, 9]\n"
       ]
      }
     ],
     "prompt_number": 48
    },
    {
     "cell_type": "markdown",
     "metadata": {},
     "source": [
      "**Exercise:**\n",
      "Notice that there's a trailing `\"` character on every element of the `Weather` column.\n",
      "Use a list comprehension to clean that up.\n",
      "\n",
      "*Bonus points*: Use a list comprehension to confirm that the 30 character width we guessed for strings\n",
      "is long enough that the `Weather` values aren't truncated."
     ]
    },
    {
     "cell_type": "code",
     "collapsed": false,
     "input": [],
     "language": "python",
     "metadata": {},
     "outputs": []
    },
    {
     "cell_type": "markdown",
     "metadata": {},
     "source": [
      "<hr>"
     ]
    },
    {
     "cell_type": "markdown",
     "metadata": {},
     "source": [
      "Now let's use Boolean slicing to dig down to the day level in our data.\n",
      "Let's get the maximum temperature each day,\n",
      "and the time when it occurred."
     ]
    },
    {
     "cell_type": "code",
     "collapsed": false,
     "input": [
      "temps = data['Temp_degC']\n",
      "for day in range(1, 32):\n",
      "    mask = data['Day']==day\n",
      "    date = data[mask]['DateTime'][0][:11]\n",
      "    max_temp = temps[mask].max()\n",
      "    hour = data[mask][temps[mask].argmax()]['Time']\n",
      "    print 'max temperature on', date, 'was', max_temp, 'at', hour"
     ],
     "language": "python",
     "metadata": {},
     "outputs": [
      {
       "output_type": "stream",
       "stream": "stdout",
       "text": [
        "max temperature on 2013-08-01  was 21.2 at 14:00\n",
        "max temperature on 2013-08-02  was 17.6 at 16:00\n",
        "max temperature on 2013-08-03  was 20.2 at 17:00\n",
        "max temperature on 2013-08-04  was 22.3 at 15:00\n",
        "max temperature on 2013-08-05  was 22.7 at 14:00\n",
        "max temperature on 2013-08-06  was 23.6 at 17:00\n",
        "max temperature on 2013-08-07  was 24.5 at 17:00\n",
        "max temperature on 2013-08-08  was 23.7 at 17:00\n",
        "max temperature on 2013-08-09  was 23.9 at 14:00\n",
        "max temperature on 2013-08-10  was 24.6 at 15:00\n",
        "max temperature on 2013-08-11  was 21.1 at 14:00\n",
        "max temperature on 2013-08-12  was 23.0 at 13:00\n",
        "max temperature on 2013-08-13  was 22.6 at 18:00\n",
        "max temperature on 2013-08-14  was 23.4 at 11:00\n",
        "max temperature on 2013-08-15  was 21.8 at 10:00\n",
        "max temperature on 2013-08-16  was 23.5 at 13:00\n",
        "max temperature on 2013-08-17  was 23.8 at 16:00\n",
        "max temperature on 2013-08-18  was 22.0 at 17:00\n",
        "max temperature on 2013-08-19  was 22.4 at 16:00\n",
        "max temperature on 2013-08-20  was 21.4 at 16:00\n",
        "max temperature on 2013-08-21  was 22.1 at 14:00\n",
        "max temperature on 2013-08-22  was 24.2 at 15:00\n",
        "max temperature on 2013-08-23  was 22.1 at 14:00\n",
        "max temperature on 2013-08-24  was 20.9 at 13:00\n",
        "max temperature on 2013-08-25  was 22.0 at 16:00\n",
        "max temperature on 2013-08-26  was 22.3 at 14:00\n",
        "max temperature on 2013-08-27  was 22.0 at 14:00\n",
        "max temperature on 2013-08-28  was 21.8 at 16:00\n",
        "max temperature on 2013-08-29  was 20.5 at 15:00\n",
        "max temperature on 2013-08-30  was 21.6 at 16:00\n",
        "max temperature on 2013-08-31  was 19.6 at 16:00\n"
       ]
      }
     ],
     "prompt_number": 49
    },
    {
     "cell_type": "markdown",
     "metadata": {},
     "source": [
      "**Exercise:**\n",
      "Calculate the difference between the high and low daily temperatures in August 2013,\n",
      "and report the date on which the largest difference occurred.\n",
      "\n",
      "*Hint:* Checkout the `numpy.ndarray.ptp()` method."
     ]
    },
    {
     "cell_type": "code",
     "collapsed": false,
     "input": [],
     "language": "python",
     "metadata": {},
     "outputs": [],
     "prompt_number": 51
    },
    {
     "cell_type": "markdown",
     "metadata": {},
     "source": [
      "##Handling Daily Climate Data Files\n",
      "\n",
      "**Exercise:**\n",
      "It's not too difficult to extend our `read_climate_file()` and `fix_dtype()` functions\n",
      "to allow us to read the daily climate data files from Point Atkinson that we downloaded.\n",
      "The things that need to be done:\n",
      "\n",
      "- Skip a different number of lines at the top of the file\n",
      "- Handle the fact that the `Spd_of_Max_Gust_kmh` column sometimes contains `<31`\n",
      "\n",
      "While we're at it,\n",
      "we should use list comprehensions in the `read_climate_file()` function to clean up\n",
      "the leading and trailing `\"` character artifacts in the first and last columns\n",
      "before we return `data`.\n",
      "\n",
      "Start by using the `%loadpy` magic command to read your `climate_data.py` file into a cell."
     ]
    },
    {
     "cell_type": "code",
     "collapsed": false,
     "input": [
      "%loadpy climate_data.py"
     ],
     "language": "python",
     "metadata": {},
     "outputs": [],
     "prompt_number": 53
    },
    {
     "cell_type": "markdown",
     "metadata": {},
     "source": [
      "##Key Points\n",
      "- Use the `numpy.genfromtxt()` to read data from text files into NumPy arrays\n",
      "- Use `!` to prefix shell commands to execute them from a notebook cell\n",
      "- Use the `names` argument of `numpy.genfromtxt()` to read column names from the file, or to assign them\n",
      "- Use the `dtypes` argument of `numpy.genfromtxt()` to set column data types and (optionally) names\n",
      "- Use list comprehensions to compactly create lists by mutating and filtering the elements of sequences\n",
      "- Use `numpy.ndarray` methods and Boolean slices to explore and analyze data"
     ]
    }
   ],
   "metadata": {}
  }
 ]
}