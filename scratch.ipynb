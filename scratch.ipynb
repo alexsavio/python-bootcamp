{
 "metadata": {
  "name": "",
  "signature": "sha256:6f8abca949b76a51b9121272b1eadcfd8b30cdcee12067703b870cb06cafd271"
 },
 "nbformat": 3,
 "nbformat_minor": 0,
 "worksheets": []
}