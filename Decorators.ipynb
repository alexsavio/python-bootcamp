{
 "metadata": {
  "name": "",
  "signature": "sha256:0bb013e2c5c1ca0e3432328f2e2aa09ed50b8a8be7e4394344654dc747830f7b"
 },
 "nbformat": 3,
 "nbformat_minor": 0,
 "worksheets": [
  {
   "cells": [
    {
     "cell_type": "heading",
     "level": 1,
     "metadata": {},
     "source": [
      "Python Features: Decorators"
     ]
    },
    {
     "cell_type": "markdown",
     "metadata": {},
     "source": [
      "Alexandre M. S. (alexsavio@gmail.com) http://alexsavio.github.io/"
     ]
    },
    {
     "cell_type": "heading",
     "level": 2,
     "metadata": {},
     "source": [
      "Decorators"
     ]
    },
    {
     "cell_type": "markdown",
     "metadata": {},
     "source": [
      "A decorator is essentially a callable Python object that is used to modify or extend a function or class definition. One of the beauties of decorators is that a single decorator definition can be applied to multiple functions (or classes). Much can thereby be accomplished with decorators that would otherwise require lots of boilerplate (or even worse redundant!) code. [Flask](http://flask.pocoo.org/), for example, uses decorators as the mechanism for adding new endpoints to a web application. Examples of some of the more common uses of decorators include adding synchronization, type enforcement, logging, or pre/post conditions to a class or function."
     ]
    },
    {
     "cell_type": "heading",
     "level": 3,
     "metadata": {},
     "source": [
      "Example 1: Standard decorator pattern"
     ]
    },
    {
     "cell_type": "code",
     "collapsed": false,
     "input": [
      "class entryExit(object):\n",
      "\n",
      "    def __init__(self, f):\n",
      "        self.f = f\n",
      "\n",
      "    def __call__(self):\n",
      "        print \"Entering\", self.f.__name__\n",
      "        self.f()\n",
      "        print \"Exited\", self.f.__name__\n",
      "\n",
      "@entryExit\n",
      "def func1():\n",
      "    print \"inside func1()\"\n",
      "\n",
      "@entryExit\n",
      "def func2():\n",
      "    print \"inside func2()\"\n",
      "\n",
      "func1()\n",
      "func2()"
     ],
     "language": "python",
     "metadata": {},
     "outputs": [
      {
       "output_type": "stream",
       "stream": "stdout",
       "text": [
        "Entering func1\n",
        "inside func1()\n",
        "Exited func1\n",
        "Entering func2\n",
        "inside func2()\n",
        "Exited func2\n"
       ]
      }
     ],
     "prompt_number": 1
    },
    {
     "cell_type": "heading",
     "level": 3,
     "metadata": {},
     "source": [
      "Example 2: Using functions as decorators"
     ]
    },
    {
     "cell_type": "code",
     "collapsed": false,
     "input": [
      "def entryExit(f):\n",
      "    def new_f():\n",
      "        print \"Entering\", f.__name__\n",
      "        f()\n",
      "        print \"Exited\", f.__name__\n",
      "    #new_f.__name__ = f.__name__\n",
      "    return new_f\n",
      "\n",
      "@entryExit\n",
      "def func1():\n",
      "    print \"inside func1()\"\n",
      "\n",
      "@entryExit\n",
      "def func2():\n",
      "    print \"inside func2()\"\n",
      "\n",
      "func1()\n",
      "func2()\n",
      "print func1.__name__"
     ],
     "language": "python",
     "metadata": {},
     "outputs": [
      {
       "output_type": "stream",
       "stream": "stdout",
       "text": [
        "Entering func1\n",
        "inside func1()\n",
        "Exited func1\n",
        "Entering func2\n",
        "inside func2()\n",
        "Exited func2\n",
        "new_f\n"
       ]
      }
     ],
     "prompt_number": 2
    },
    {
     "cell_type": "markdown",
     "metadata": {},
     "source": [
      "Note that:\n",
      "    \n",
      "new_f() is defined within the body of entryExit(), so it is created and returned when entryExit() is called. Note that new_f() is a closure, because it captures the actual value of f.\n",
      "\n",
      "Once new_f() has been defined, it is returned from entryExit() so that the decorator mechanism can assign the result as the decorated function.\n",
      "\n",
      "The output of the line print func1.__name__ is new_f, because the new_f function has been substituted for the original function during decoration. If this is a problem you can change the name of the decorator function before you return it:"
     ]
    },
    {
     "cell_type": "markdown",
     "metadata": {},
     "source": [
      "More examples of decorators [here](https://wiki.python.org/moin/PythonDecoratorLibrary)."
     ]
    },
    {
     "cell_type": "markdown",
     "metadata": {},
     "source": [
      "## References\n",
      "\n",
      "+ https://www.artima.com/weblogs/viewpost.jsp?thread=240808"
     ]
    },
    {
     "cell_type": "code",
     "collapsed": false,
     "input": [],
     "language": "python",
     "metadata": {},
     "outputs": []
    }
   ],
   "metadata": {}
  }
 ]
}