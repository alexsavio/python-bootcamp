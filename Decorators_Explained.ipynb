{
 "metadata": {
  "celltoolbar": "Slideshow",
  "name": "",
  "signature": "sha256:347dd80b06e362bd92190db8ad61679feb000d6024ebe60c323e244fd7a1d444"
 },
 "nbformat": 3,
 "nbformat_minor": 0,
 "worksheets": [
  {
   "cells": [
    {
     "cell_type": "markdown",
     "metadata": {
      "slideshow": {
       "slide_type": "slide"
      }
     },
     "source": [
      "# Decorators Explained"
     ]
    },
    {
     "cell_type": "markdown",
     "metadata": {
      "slideshow": {
       "slide_type": "subslide"
      }
     },
     "source": [
      "### whoami\n",
      "\n",
      "[Alexandre Manh\u00e3es Savio](http://alexsavio.github.io/)\n",
      "\n",
      "[Github](http://www.github.com/alexsavio)\n",
      "\n",
      "twitter: [@alex_savio](http://www.twitter.com/alex_savio)\n",
      "\n",
      "alex.savio@neurita.com"
     ]
    },
    {
     "cell_type": "markdown",
     "metadata": {
      "slideshow": {
       "slide_type": "slide"
      }
     },
     "source": [
      "## A Brief Aside..."
     ]
    },
    {
     "cell_type": "markdown",
     "metadata": {
      "slideshow": {
       "slide_type": "fragment"
      }
     },
     "source": [
      "**everything** in Python is an object that can be treated like a value (e.g. functions, classes, modules)."
     ]
    },
    {
     "cell_type": "markdown",
     "metadata": {
      "slideshow": {
       "slide_type": "fragment"
      }
     },
     "source": [
      "You can bind names to these objects, pass them as arguments to functions, and return them from functions (among other things)."
     ]
    },
    {
     "cell_type": "code",
     "collapsed": false,
     "input": [
      "def is_even(value):\n",
      "    \"\"\"Return True if *value* is even.\"\"\"\n",
      "    return (value % 2) == 0\n",
      "\n",
      "def count_occurrences(target_list, predicate):\n",
      "    \"\"\"Return the number of times applying the callable *predicate* to a\n",
      "    list element returns True.\"\"\"\n",
      "    return sum([1 for e in target_list if predicate(e)])\n",
      "\n",
      "my_predicate = is_even\n",
      "my_list = [2, 4, 6, 7, 9, 11]\n",
      "result = count_occurrences(my_list, my_predicate)\n",
      "print(result)"
     ],
     "language": "python",
     "metadata": {
      "slideshow": {
       "slide_type": "fragment"
      }
     },
     "outputs": []
    },
    {
     "cell_type": "markdown",
     "metadata": {
      "slideshow": {
       "slide_type": "notes"
      }
     },
     "source": [
      "We've written a function that takes a list and another function (which happens to be a predicate function, meaning it returns True or False based on some property of the argument passed to it), and returns the number of times our predicate function holds true for an element in the list. While there are built-in functions to accomplish this, it's useful for illustrative purposes."
     ]
    },
    {
     "cell_type": "markdown",
     "metadata": {
      "slideshow": {
       "slide_type": "slide"
      }
     },
     "source": [
      "## Returning Functions"
     ]
    },
    {
     "cell_type": "markdown",
     "metadata": {
      "slideshow": {
       "slide_type": "fragment"
      }
     },
     "source": [
      "Functions can also be returned from functions as the return value. "
     ]
    },
    {
     "cell_type": "code",
     "collapsed": false,
     "input": [
      "def surround_with(surrounding):\n",
      "    \"\"\"Return a function that takes a single argument and.\"\"\"\n",
      "    def surround_with_value(word):\n",
      "        return '{}{}{}'.format(surrounding, word, surrounding)\n",
      "    return surround_with_value\n",
      "\n",
      "def transform_words(content, targets, transform):\n",
      "    \"\"\"Return a string based on *content* but with each \n",
      "    occurrence of words in *targets* replaced with\n",
      "    the result of applying *transform* to it.\"\"\"\n",
      "    result = ''\n",
      "    for word in content.split():\n",
      "        if word in targets:\n",
      "            result += ' {}'.format(transform(word))\n",
      "        else:\n",
      "            result += ' {}'.format(word)\n",
      "    return result\n",
      "\n",
      "markdown_string = 'I like Python but I do not own a Python'\n",
      "markdown_string_italicized = transform_words(markdown_string, \n",
      "                                             ['Python', 'own'],\n",
      "                                             surround_with('*'))\n",
      "print(markdown_string_italicized)"
     ],
     "language": "python",
     "metadata": {
      "slideshow": {
       "slide_type": "subslide"
      }
     },
     "outputs": [
      {
       "output_type": "stream",
       "stream": "stdout",
       "text": [
        " I like *Python* but I do not *own* a *Python*\n"
       ]
      }
     ],
     "prompt_number": 4
    },
    {
     "cell_type": "markdown",
     "metadata": {
      "slideshow": {
       "slide_type": "subslide"
      }
     },
     "source": [
      "You can think of `surround_with` as a little function \"factory\"."
     ]
    },
    {
     "cell_type": "markdown",
     "metadata": {
      "slideshow": {
       "slide_type": "notes"
      }
     },
     "source": [
      "You can think of surround_with as a little function \"factory\". It sits there waiting to create a function. You give it a value, and it gives you back a function that will surround a word argument with the value you gave it. Understanding what's happening here is crucial to understanding decorators. Our \"function factory\" doesn't ever return a \"normal\" value; it always returns a new function. Note that surround_with doesn't actually do the surrounding itself, it just creates a function that can do it whenever it's needed."
     ]
    },
    {
     "cell_type": "markdown",
     "metadata": {
      "slideshow": {
       "slide_type": "slide"
      }
     },
     "source": [
      "## Putting it all together\n",
      "\n",
      "Can we create a function that takes a function as a parameter and returns a function as the result?"
     ]
    },
    {
     "cell_type": "markdown",
     "metadata": {
      "slideshow": {
       "slide_type": "subslide"
      }
     },
     "source": [
      "### Example\n",
      "\n",
      "Dealing with currency values, we always want to prepend a '$'..."
     ]
    },
    {
     "cell_type": "code",
     "collapsed": false,
     "input": [
      "class Product(db.Model):\n",
      "\n",
      "    name = db.StringColumn\n",
      "    price = db.FloatColumn\n",
      "\n",
      "    def price_with_tax(self, tax_rate_percentage):\n",
      "        \"\"\"Return the price with *tax_rate_percentage* applied.\n",
      "        *tax_rate_percentage* is the tax rate expressed as a float, like\n",
      "        \"7.0\" for a 7% tax rate.\"\"\"\n",
      "        return price * (1 + (tax_rate_percentage * .01))"
     ],
     "language": "python",
     "metadata": {
      "slideshow": {
       "slide_type": "fragment"
      }
     },
     "outputs": []
    },
    {
     "cell_type": "markdown",
     "metadata": {
      "slideshow": {
       "slide_type": "subslide"
      }
     },
     "source": [
      "We create a function which takes a function and returns a new function."
     ]
    },
    {
     "cell_type": "code",
     "collapsed": false,
     "input": [
      "def currency(f):\n",
      "    def wrapper(*args, **kwargs):\n",
      "        return '$' + str(f(*args, **kwargs))\n",
      "\n",
      "    return wrapper"
     ],
     "language": "python",
     "metadata": {
      "slideshow": {
       "slide_type": "fragment"
      }
     },
     "outputs": []
    },
    {
     "cell_type": "markdown",
     "metadata": {
      "slideshow": {
       "slide_type": "fragment"
      }
     },
     "source": [
      "We include the 'args' and '*kwargs' as parameters to the wrapper function to make it more flexible."
     ]
    },
    {
     "cell_type": "raw",
     "metadata": {
      "slideshow": {
       "slide_type": "notes"
      }
     },
     "source": [
      "Since we don't know the parameters the function we're wrapping may take (and wrapper needs to call that function), we accept all possible positional (*args) and keyword (**args) arguments as parameters and \"forward\" them to the function call."
     ]
    },
    {
     "cell_type": "markdown",
     "metadata": {
      "slideshow": {
       "slide_type": "subslide"
      }
     },
     "source": [
      "With `currency` defined, we can now use the decorator notation to decorate our `price_with_tax` function"
     ]
    },
    {
     "cell_type": "code",
     "collapsed": false,
     "input": [
      "class Product(db.Model):\n",
      "\n",
      "    name = db.StringColumn\n",
      "    price = db.FloatColumn\n",
      "\n",
      "    @currency\n",
      "    def price_with_tax(self, tax_rate_percentage):\n",
      "        \"\"\"Return the price with *tax_rate_percentage* applied.\n",
      "        *tax_rate_percentage* is the tax rate expressed \n",
      "        as a float, like \"7.0\" for a 7% tax rate.\"\"\"\n",
      "        return price * (1 + (tax_rate_percentage * .01))"
     ],
     "language": "python",
     "metadata": {
      "slideshow": {
       "slide_type": "fragment"
      }
     },
     "outputs": []
    },
    {
     "cell_type": "markdown",
     "metadata": {
      "slideshow": {
       "slide_type": "subslide"
      }
     },
     "source": [
      "### Brief aside\n",
      "\n",
      "One problem is that wrapping `price_with_tax` with `currency` changes its `.__name__` and `.__doc__` to that of `currency`."
     ]
    },
    {
     "cell_type": "markdown",
     "metadata": {
      "slideshow": {
       "slide_type": "fragment"
      }
     },
     "source": [
      "The `functools` modules contains a useful tool, `wraps`, which will restore these values to what we would expect them to be."
     ]
    },
    {
     "cell_type": "code",
     "collapsed": false,
     "input": [
      "from functools import wraps\n",
      "\n",
      "def currency(f):\n",
      "    @wraps(f)\n",
      "    def wrapper(*args, **kwargs):\n",
      "        return '$' + str(f(*args, **kwargs))\n",
      "\n",
      "    return wrapper"
     ],
     "language": "python",
     "metadata": {
      "slideshow": {
       "slide_type": "fragment"
      }
     },
     "outputs": []
    },
    {
     "cell_type": "markdown",
     "metadata": {
      "slideshow": {
       "slide_type": "slide"
      }
     },
     "source": [
      "## Summary\n",
      "\n",
      "Decorators can be used to manipulate the language using the language we're manipulating."
     ]
    },
    {
     "cell_type": "markdown",
     "metadata": {
      "slideshow": {
       "slide_type": "fragment"
      }
     },
     "source": [
      "Notice that decorators *(being functions themselves)* can take arguments"
     ]
    },
    {
     "cell_type": "markdown",
     "metadata": {
      "slideshow": {
       "slide_type": "slide"
      }
     },
     "source": [
      "## References\n",
      "\n",
      "http://www.jeffknupp.com/blog/2013/11/29/improve-your-python-decorators-explained/\n",
      "\n",
      "http://www.jeffknupp.com/blog/2013/02/14/drastically-improve-your-python-understanding-pythons-execution-model/"
     ]
    }
   ],
   "metadata": {}
  }
 ]
}