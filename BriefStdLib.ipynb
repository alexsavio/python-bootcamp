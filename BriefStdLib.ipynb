{
 "metadata": {
  "name": "",
  "signature": "sha256:00b807b6b2966f2900e7f6acaadc270d85d66be48f15d74c53316ca606757127"
 },
 "nbformat": 3,
 "nbformat_minor": 0,
 "worksheets": [
  {
   "cells": [
    {
     "cell_type": "markdown",
     "metadata": {},
     "source": [
      "#Brief Tour of the Standard Library"
     ]
    },
    {
     "cell_type": "markdown",
     "metadata": {},
     "source": [
      "##Operating system interface"
     ]
    },
    {
     "cell_type": "code",
     "collapsed": false,
     "input": [
      "import os\n",
      "os.getcwd()      # Return the current working directory\n",
      "\n",
      "os.chdir('/server/accesslogs')   # Change current working directory\n",
      "os.system('mkdir today')   # Run the command mkdir in the system shell"
     ],
     "language": "python",
     "metadata": {},
     "outputs": []
    },
    {
     "cell_type": "markdown",
     "metadata": {},
     "source": [
      "The built-in [`dir`](https://docs.python.org/3.4/library/functions.html#dir) and [`help()`](https://docs.python.org/3.4/library/functions.html#help) functions are useful as interactive aids for working with large modules like [`os`](https://docs.python.org/3.4/library/os.html#module-os):"
     ]
    },
    {
     "cell_type": "code",
     "collapsed": false,
     "input": [
      "import os\n",
      "dir(os)"
     ],
     "language": "python",
     "metadata": {},
     "outputs": []
    },
    {
     "cell_type": "code",
     "collapsed": false,
     "input": [
      "os.path.abspath(os.path.expanduser('~/Projects/macuto'))"
     ],
     "language": "python",
     "metadata": {},
     "outputs": [
      {
       "metadata": {},
       "output_type": "pyout",
       "prompt_number": 11,
       "text": [
        "'/home/alexandre/Projects/macuto'"
       ]
      }
     ],
     "prompt_number": 11
    },
    {
     "cell_type": "code",
     "collapsed": false,
     "input": [
      "import shutil\n",
      "shutil.copyfile('data.db', 'archive.db')\n",
      "shutil.move('/build/executables', 'installdir')"
     ],
     "language": "python",
     "metadata": {},
     "outputs": []
    },
    {
     "cell_type": "markdown",
     "metadata": {},
     "source": [
      "##File Wildcards\n",
      "The [`glob`](https://docs.python.org/3.4/library/glob.html#module-glob) module provides a function for making file lists from directory wildcard searches:"
     ]
    },
    {
     "cell_type": "code",
     "collapsed": false,
     "input": [
      "from glob import glob\n",
      "glob('/home/alexandre/Projects/bcc/macuto/macuto/*.py')"
     ],
     "language": "python",
     "metadata": {},
     "outputs": [
      {
       "metadata": {},
       "output_type": "pyout",
       "prompt_number": 7,
       "text": [
        "['/home/alexandre/Projects/bcc/macuto/macuto/storage.py',\n",
        " '/home/alexandre/Projects/bcc/macuto/macuto/more_collections.py',\n",
        " '/home/alexandre/Projects/bcc/macuto/macuto/exceptions.py',\n",
        " '/home/alexandre/Projects/bcc/macuto/macuto/databuffer.py',\n",
        " '/home/alexandre/Projects/bcc/macuto/macuto/logger.py',\n",
        " '/home/alexandre/Projects/bcc/macuto/macuto/pandas.py',\n",
        " '/home/alexandre/Projects/bcc/macuto/macuto/strings.py',\n",
        " '/home/alexandre/Projects/bcc/macuto/macuto/__init__.py',\n",
        " '/home/alexandre/Projects/bcc/macuto/macuto/math.py',\n",
        " '/home/alexandre/Projects/bcc/macuto/macuto/endmember_induction.py',\n",
        " '/home/alexandre/Projects/bcc/macuto/macuto/config.py',\n",
        " '/home/alexandre/Projects/bcc/macuto/macuto/commands.py',\n",
        " '/home/alexandre/Projects/bcc/macuto/macuto/scriptutils.py',\n",
        " '/home/alexandre/Projects/bcc/macuto/macuto/threshold.py',\n",
        " '/home/alexandre/Projects/bcc/macuto/macuto/ipynb.py']"
       ]
      }
     ],
     "prompt_number": 7
    },
    {
     "cell_type": "markdown",
     "metadata": {},
     "source": [
      "##Command Line Arguments"
     ]
    },
    {
     "cell_type": "code",
     "collapsed": false,
     "input": [
      "import sys\n",
      "print(sys.argv)"
     ],
     "language": "python",
     "metadata": {},
     "outputs": [
      {
       "output_type": "stream",
       "stream": "stdout",
       "text": [
        "['-c', '-f', '/home/alexandre/.ipython/profile_default/security/kernel-f3d04f9a-15de-4cb9-840e-ce0ceecb28d6.json', \"--IPKernelApp.parent_appname='ipython-notebook'\", '--profile-dir', '/home/alexandre/.ipython/profile_default', '--parent=1']\n"
       ]
      }
     ],
     "prompt_number": 12
    },
    {
     "cell_type": "code",
     "collapsed": false,
     "input": [
      "sys.path.append('/home/alexandre/Projects/bcc/santiago_clinical')"
     ],
     "language": "python",
     "metadata": {},
     "outputs": [],
     "prompt_number": 14
    },
    {
     "cell_type": "markdown",
     "metadata": {},
     "source": [
      "More powerful and flexible command line processing is provided by the `argparse` module."
     ]
    },
    {
     "cell_type": "markdown",
     "metadata": {},
     "source": [
      "##Error Output Redirection and Program Termination"
     ]
    },
    {
     "cell_type": "markdown",
     "metadata": {},
     "source": [
      "The [`sys`](https://docs.python.org/3.4/library/sys.html#module-sys) module also has attributes for stdin, stdout, and stderr."
     ]
    },
    {
     "cell_type": "code",
     "collapsed": false,
     "input": [
      "sys.stderr.write('Warning, log file not found starting a new one\\n')"
     ],
     "language": "python",
     "metadata": {},
     "outputs": [
      {
       "output_type": "stream",
       "stream": "stderr",
       "text": [
        "Warning, log file not found starting a new one\n"
       ]
      }
     ],
     "prompt_number": 8
    },
    {
     "cell_type": "markdown",
     "metadata": {},
     "source": [
      "The most direct way to terminate a script is to use `sys.exit()`."
     ]
    },
    {
     "cell_type": "markdown",
     "metadata": {},
     "source": [
      "Another useful detail in `sys` module:"
     ]
    },
    {
     "cell_type": "code",
     "collapsed": false,
     "input": [
      "print(sys.path)"
     ],
     "language": "python",
     "metadata": {},
     "outputs": [
      {
       "output_type": "stream",
       "stream": "stdout",
       "text": [
        "['', '/home/alexandre/envs/mypy3/lib/python3.4/site-packages/PyUblas-2013.1-py3.4-linux-x86_64.egg', '/home/alexandre/envs/mypy3/lib/python3.4/site-packages/pytest-2.5.2-py3.4.egg', '/home/alexandre/envs/mypy3/lib/python3.4/site-packages/py-1.4.20-py3.4.egg', '/home/alexandre/envs/mypy3/lib/python3.4/site-packages/autodiff-0.5-py3.4.egg', '/home/alexandre/envs/mypy3/lib/python3.4/site-packages/meta-_-py3.4.egg', '/home/alexandre/envs/mypy3/lib/python3.4/site-packages/sklearn_pandas-0.0.8-py3.4.egg', '/home/alexandre/envs/mypy3/lib/python3.4', '/home/alexandre/envs/mypy3/lib/python3.4/plat-x86_64-linux-gnu', '/home/alexandre/envs/mypy3/lib/python3.4/lib-dynload', '/usr/lib/python3.4', '/usr/lib/python3.4/plat-x86_64-linux-gnu', '/home/alexandre/envs/mypy3/lib/python3.4/site-packages', '/home/alexandre/envs/mypy3/lib/python3.4/site-packages/IPython/extensions']\n"
       ]
      }
     ],
     "prompt_number": 44
    },
    {
     "cell_type": "markdown",
     "metadata": {},
     "source": [
      "##String Pattern Matching\n",
      "The [`re`](https://docs.python.org/3.4/library/re.html#module-re) module provides regular expression tools for advanced string processing."
     ]
    },
    {
     "cell_type": "code",
     "collapsed": false,
     "input": [
      "import re\n",
      "re.findall(r'\\bf[a-z]*', 'which foot or hand fell fastest')"
     ],
     "language": "python",
     "metadata": {},
     "outputs": [
      {
       "metadata": {},
       "output_type": "pyout",
       "prompt_number": 9,
       "text": [
        "['foot', 'fell', 'fastest']"
       ]
      }
     ],
     "prompt_number": 9
    },
    {
     "cell_type": "code",
     "collapsed": false,
     "input": [
      "re.sub(r'(\\b[a-z]+) \\1', r'\\1', 'cat in the the hat')"
     ],
     "language": "python",
     "metadata": {},
     "outputs": [
      {
       "metadata": {},
       "output_type": "pyout",
       "prompt_number": 10,
       "text": [
        "'cat in the hat'"
       ]
      }
     ],
     "prompt_number": 10
    },
    {
     "cell_type": "markdown",
     "metadata": {},
     "source": [
      "When only simple capabilities are needed, string methods are preferred because they are easier to read and debug:"
     ]
    },
    {
     "cell_type": "code",
     "collapsed": false,
     "input": [
      "'tea for too'.replace('too', 'two')"
     ],
     "language": "python",
     "metadata": {},
     "outputs": [
      {
       "metadata": {},
       "output_type": "pyout",
       "prompt_number": 11,
       "text": [
        "'tea for two'"
       ]
      }
     ],
     "prompt_number": 11
    },
    {
     "cell_type": "markdown",
     "metadata": {},
     "source": [
      "##Mathematics\n",
      "The [`math`](https://docs.python.org/3.4/library/math.html#module-math) module gives access to the underlying C library functions for floating point math:"
     ]
    },
    {
     "cell_type": "code",
     "collapsed": false,
     "input": [
      "import math\n",
      "math.cos(math.pi / 4)"
     ],
     "language": "python",
     "metadata": {},
     "outputs": [
      {
       "metadata": {},
       "output_type": "pyout",
       "prompt_number": 12,
       "text": [
        "0.7071067811865476"
       ]
      }
     ],
     "prompt_number": 12
    },
    {
     "cell_type": "code",
     "collapsed": false,
     "input": [
      "math.log(1024, 2)"
     ],
     "language": "python",
     "metadata": {},
     "outputs": [
      {
       "metadata": {},
       "output_type": "pyout",
       "prompt_number": 13,
       "text": [
        "10.0"
       ]
      }
     ],
     "prompt_number": 13
    },
    {
     "cell_type": "markdown",
     "metadata": {},
     "source": [
      "The [`random`](https://docs.python.org/3.4/library/random.html#module-random) module provides tools for making random selections:"
     ]
    },
    {
     "cell_type": "code",
     "collapsed": false,
     "input": [
      "import random\n",
      "random.choice(['apple', 'pear', 'banana'])"
     ],
     "language": "python",
     "metadata": {},
     "outputs": [
      {
       "metadata": {},
       "output_type": "pyout",
       "prompt_number": 20,
       "text": [
        "'apple'"
       ]
      }
     ],
     "prompt_number": 20
    },
    {
     "cell_type": "code",
     "collapsed": false,
     "input": [
      "random.sample(range(100), 10)   # sampling without replacement"
     ],
     "language": "python",
     "metadata": {},
     "outputs": [
      {
       "metadata": {},
       "output_type": "pyout",
       "prompt_number": 15,
       "text": [
        "[78, 48, 89, 34, 52, 53, 4, 91, 50, 44]"
       ]
      }
     ],
     "prompt_number": 15
    },
    {
     "cell_type": "code",
     "collapsed": false,
     "input": [
      "random.random()    # random float"
     ],
     "language": "python",
     "metadata": {},
     "outputs": [
      {
       "metadata": {},
       "output_type": "pyout",
       "prompt_number": 16,
       "text": [
        "0.5583753912654967"
       ]
      }
     ],
     "prompt_number": 16
    },
    {
     "cell_type": "code",
     "collapsed": false,
     "input": [
      "random.randrange(6)    # random integer chosen from range(6)"
     ],
     "language": "python",
     "metadata": {},
     "outputs": [
      {
       "metadata": {},
       "output_type": "pyout",
       "prompt_number": 17,
       "text": [
        "2"
       ]
      }
     ],
     "prompt_number": 17
    },
    {
     "cell_type": "markdown",
     "metadata": {},
     "source": [
      "The SciPy project <http://scipy.org> has many other modules for numerical computations."
     ]
    },
    {
     "cell_type": "markdown",
     "metadata": {},
     "source": [
      "##Internet Access\n",
      "There are a number of modules for accessing the internet and processing internet protocols. Two of the simplest are [`urllib.request`](https://docs.python.org/3.4/library/urllib.request.html#module-urllib.request) for retrieving data from URLs and [`smtplib`](https://docs.python.org/3.4/library/smtplib.html#module-smtplib) for sending mail:"
     ]
    },
    {
     "cell_type": "code",
     "collapsed": false,
     "input": [
      "from urllib.request import urlopen\n",
      "for line in urlopen('http://tycho.usno.navy.mil/cgi-bin/timer.pl'):\n",
      "    line = line.decode('utf-8')  # Decoding the binary data to text.\n",
      "    if 'EST' in line or 'EDT' in line:  # look for Eastern Time\n",
      "        print(line)"
     ],
     "language": "python",
     "metadata": {},
     "outputs": [
      {
       "output_type": "stream",
       "stream": "stdout",
       "text": [
        "<BR>May. 06, 11:45:14 AM EDT\tEastern Time\n",
        "\n"
       ]
      }
     ],
     "prompt_number": 24
    },
    {
     "cell_type": "code",
     "collapsed": false,
     "input": [
      "import smtplib\n",
      "server = smtplib.SMTP('localhost')\n",
      "server.sendmail('soothsayer@example.org', 'jcaesar@example.org',\n",
      "\"\"\"To: jcaesar@example.org\n",
      "From: soothsayer@example.org\n",
      "\n",
      "Beware the Ides of March.\n",
      "\"\"\")\n",
      "server.quit()"
     ],
     "language": "python",
     "metadata": {},
     "outputs": [
      {
       "ename": "ConnectionRefusedError",
       "evalue": "[Errno 111] Connection refused",
       "output_type": "pyerr",
       "traceback": [
        "\u001b[1;31m---------------------------------------------------------------------------\u001b[0m\n\u001b[1;31mConnectionRefusedError\u001b[0m                    Traceback (most recent call last)",
        "\u001b[1;32m<ipython-input-25-b27c526897ae>\u001b[0m in \u001b[0;36m<module>\u001b[1;34m()\u001b[0m\n\u001b[0;32m      1\u001b[0m \u001b[1;32mimport\u001b[0m \u001b[0msmtplib\u001b[0m\u001b[1;33m\u001b[0m\u001b[0m\n\u001b[1;32m----> 2\u001b[1;33m \u001b[0mserver\u001b[0m \u001b[1;33m=\u001b[0m \u001b[0msmtplib\u001b[0m\u001b[1;33m.\u001b[0m\u001b[0mSMTP\u001b[0m\u001b[1;33m(\u001b[0m\u001b[1;34m'localhost'\u001b[0m\u001b[1;33m)\u001b[0m\u001b[1;33m\u001b[0m\u001b[0m\n\u001b[0m\u001b[0;32m      3\u001b[0m server.sendmail('soothsayer@example.org', 'jcaesar@example.org',\n\u001b[0;32m      4\u001b[0m \"\"\"To: jcaesar@example.org\n\u001b[0;32m      5\u001b[0m \u001b[0mFrom\u001b[0m\u001b[1;33m:\u001b[0m \u001b[0msoothsayer\u001b[0m\u001b[1;33m@\u001b[0m\u001b[0mexample\u001b[0m\u001b[1;33m.\u001b[0m\u001b[0morg\u001b[0m\u001b[1;33m\u001b[0m\u001b[0m\n",
        "\u001b[1;32m/usr/lib/python3.4/smtplib.py\u001b[0m in \u001b[0;36m__init__\u001b[1;34m(self, host, port, local_hostname, timeout, source_address)\u001b[0m\n\u001b[0;32m    240\u001b[0m \u001b[1;33m\u001b[0m\u001b[0m\n\u001b[0;32m    241\u001b[0m         \u001b[1;32mif\u001b[0m \u001b[0mhost\u001b[0m\u001b[1;33m:\u001b[0m\u001b[1;33m\u001b[0m\u001b[0m\n\u001b[1;32m--> 242\u001b[1;33m             \u001b[1;33m(\u001b[0m\u001b[0mcode\u001b[0m\u001b[1;33m,\u001b[0m \u001b[0mmsg\u001b[0m\u001b[1;33m)\u001b[0m \u001b[1;33m=\u001b[0m \u001b[0mself\u001b[0m\u001b[1;33m.\u001b[0m\u001b[0mconnect\u001b[0m\u001b[1;33m(\u001b[0m\u001b[0mhost\u001b[0m\u001b[1;33m,\u001b[0m \u001b[0mport\u001b[0m\u001b[1;33m)\u001b[0m\u001b[1;33m\u001b[0m\u001b[0m\n\u001b[0m\u001b[0;32m    243\u001b[0m             \u001b[1;32mif\u001b[0m \u001b[0mcode\u001b[0m \u001b[1;33m!=\u001b[0m \u001b[1;36m220\u001b[0m\u001b[1;33m:\u001b[0m\u001b[1;33m\u001b[0m\u001b[0m\n\u001b[0;32m    244\u001b[0m                 \u001b[1;32mraise\u001b[0m \u001b[0mSMTPConnectError\u001b[0m\u001b[1;33m(\u001b[0m\u001b[0mcode\u001b[0m\u001b[1;33m,\u001b[0m \u001b[0mmsg\u001b[0m\u001b[1;33m)\u001b[0m\u001b[1;33m\u001b[0m\u001b[0m\n",
        "\u001b[1;32m/usr/lib/python3.4/smtplib.py\u001b[0m in \u001b[0;36mconnect\u001b[1;34m(self, host, port, source_address)\u001b[0m\n\u001b[0;32m    319\u001b[0m         \u001b[1;32mif\u001b[0m \u001b[0mself\u001b[0m\u001b[1;33m.\u001b[0m\u001b[0mdebuglevel\u001b[0m \u001b[1;33m>\u001b[0m \u001b[1;36m0\u001b[0m\u001b[1;33m:\u001b[0m\u001b[1;33m\u001b[0m\u001b[0m\n\u001b[0;32m    320\u001b[0m             \u001b[0mprint\u001b[0m\u001b[1;33m(\u001b[0m\u001b[1;34m'connect:'\u001b[0m\u001b[1;33m,\u001b[0m \u001b[1;33m(\u001b[0m\u001b[0mhost\u001b[0m\u001b[1;33m,\u001b[0m \u001b[0mport\u001b[0m\u001b[1;33m)\u001b[0m\u001b[1;33m,\u001b[0m \u001b[0mfile\u001b[0m\u001b[1;33m=\u001b[0m\u001b[0mstderr\u001b[0m\u001b[1;33m)\u001b[0m\u001b[1;33m\u001b[0m\u001b[0m\n\u001b[1;32m--> 321\u001b[1;33m         \u001b[0mself\u001b[0m\u001b[1;33m.\u001b[0m\u001b[0msock\u001b[0m \u001b[1;33m=\u001b[0m \u001b[0mself\u001b[0m\u001b[1;33m.\u001b[0m\u001b[0m_get_socket\u001b[0m\u001b[1;33m(\u001b[0m\u001b[0mhost\u001b[0m\u001b[1;33m,\u001b[0m \u001b[0mport\u001b[0m\u001b[1;33m,\u001b[0m \u001b[0mself\u001b[0m\u001b[1;33m.\u001b[0m\u001b[0mtimeout\u001b[0m\u001b[1;33m)\u001b[0m\u001b[1;33m\u001b[0m\u001b[0m\n\u001b[0m\u001b[0;32m    322\u001b[0m         \u001b[0mself\u001b[0m\u001b[1;33m.\u001b[0m\u001b[0mfile\u001b[0m \u001b[1;33m=\u001b[0m \u001b[1;32mNone\u001b[0m\u001b[1;33m\u001b[0m\u001b[0m\n\u001b[0;32m    323\u001b[0m         \u001b[1;33m(\u001b[0m\u001b[0mcode\u001b[0m\u001b[1;33m,\u001b[0m \u001b[0mmsg\u001b[0m\u001b[1;33m)\u001b[0m \u001b[1;33m=\u001b[0m \u001b[0mself\u001b[0m\u001b[1;33m.\u001b[0m\u001b[0mgetreply\u001b[0m\u001b[1;33m(\u001b[0m\u001b[1;33m)\u001b[0m\u001b[1;33m\u001b[0m\u001b[0m\n",
        "\u001b[1;32m/usr/lib/python3.4/smtplib.py\u001b[0m in \u001b[0;36m_get_socket\u001b[1;34m(self, host, port, timeout)\u001b[0m\n\u001b[0;32m    290\u001b[0m                                  file=stderr)\n\u001b[0;32m    291\u001b[0m         return socket.create_connection((host, port), timeout,\n\u001b[1;32m--> 292\u001b[1;33m                                         self.source_address)\n\u001b[0m\u001b[0;32m    293\u001b[0m \u001b[1;33m\u001b[0m\u001b[0m\n\u001b[0;32m    294\u001b[0m     \u001b[1;32mdef\u001b[0m \u001b[0mconnect\u001b[0m\u001b[1;33m(\u001b[0m\u001b[0mself\u001b[0m\u001b[1;33m,\u001b[0m \u001b[0mhost\u001b[0m\u001b[1;33m=\u001b[0m\u001b[1;34m'localhost'\u001b[0m\u001b[1;33m,\u001b[0m \u001b[0mport\u001b[0m\u001b[1;33m=\u001b[0m\u001b[1;36m0\u001b[0m\u001b[1;33m,\u001b[0m \u001b[0msource_address\u001b[0m\u001b[1;33m=\u001b[0m\u001b[1;32mNone\u001b[0m\u001b[1;33m)\u001b[0m\u001b[1;33m:\u001b[0m\u001b[1;33m\u001b[0m\u001b[0m\n",
        "\u001b[1;32m/usr/lib/python3.4/socket.py\u001b[0m in \u001b[0;36mcreate_connection\u001b[1;34m(address, timeout, source_address)\u001b[0m\n\u001b[0;32m    507\u001b[0m \u001b[1;33m\u001b[0m\u001b[0m\n\u001b[0;32m    508\u001b[0m     \u001b[1;32mif\u001b[0m \u001b[0merr\u001b[0m \u001b[1;32mis\u001b[0m \u001b[1;32mnot\u001b[0m \u001b[1;32mNone\u001b[0m\u001b[1;33m:\u001b[0m\u001b[1;33m\u001b[0m\u001b[0m\n\u001b[1;32m--> 509\u001b[1;33m         \u001b[1;32mraise\u001b[0m \u001b[0merr\u001b[0m\u001b[1;33m\u001b[0m\u001b[0m\n\u001b[0m\u001b[0;32m    510\u001b[0m     \u001b[1;32melse\u001b[0m\u001b[1;33m:\u001b[0m\u001b[1;33m\u001b[0m\u001b[0m\n\u001b[0;32m    511\u001b[0m         \u001b[1;32mraise\u001b[0m \u001b[0merror\u001b[0m\u001b[1;33m(\u001b[0m\u001b[1;34m\"getaddrinfo returns an empty list\"\u001b[0m\u001b[1;33m)\u001b[0m\u001b[1;33m\u001b[0m\u001b[0m\n",
        "\u001b[1;32m/usr/lib/python3.4/socket.py\u001b[0m in \u001b[0;36mcreate_connection\u001b[1;34m(address, timeout, source_address)\u001b[0m\n\u001b[0;32m    498\u001b[0m             \u001b[1;32mif\u001b[0m \u001b[0msource_address\u001b[0m\u001b[1;33m:\u001b[0m\u001b[1;33m\u001b[0m\u001b[0m\n\u001b[0;32m    499\u001b[0m                 \u001b[0msock\u001b[0m\u001b[1;33m.\u001b[0m\u001b[0mbind\u001b[0m\u001b[1;33m(\u001b[0m\u001b[0msource_address\u001b[0m\u001b[1;33m)\u001b[0m\u001b[1;33m\u001b[0m\u001b[0m\n\u001b[1;32m--> 500\u001b[1;33m             \u001b[0msock\u001b[0m\u001b[1;33m.\u001b[0m\u001b[0mconnect\u001b[0m\u001b[1;33m(\u001b[0m\u001b[0msa\u001b[0m\u001b[1;33m)\u001b[0m\u001b[1;33m\u001b[0m\u001b[0m\n\u001b[0m\u001b[0;32m    501\u001b[0m             \u001b[1;32mreturn\u001b[0m \u001b[0msock\u001b[0m\u001b[1;33m\u001b[0m\u001b[0m\n\u001b[0;32m    502\u001b[0m \u001b[1;33m\u001b[0m\u001b[0m\n",
        "\u001b[1;31mConnectionRefusedError\u001b[0m: [Errno 111] Connection refused"
       ]
      }
     ],
     "prompt_number": 25
    },
    {
     "cell_type": "markdown",
     "metadata": {},
     "source": [
      "##Dates and Times\n",
      "The [`datetime`](https://docs.python.org/3.4/library/datetime.html#module-datetime) module supplies classes for manipulating dates and times in both simple and complex ways."
     ]
    },
    {
     "cell_type": "code",
     "collapsed": false,
     "input": [
      "# dates are easily constructed and formatted\n",
      "from datetime import date\n",
      "now = date.today()\n",
      "now"
     ],
     "language": "python",
     "metadata": {},
     "outputs": [
      {
       "metadata": {},
       "output_type": "pyout",
       "prompt_number": 26,
       "text": [
        "datetime.date(2014, 5, 6)"
       ]
      }
     ],
     "prompt_number": 26
    },
    {
     "cell_type": "code",
     "collapsed": false,
     "input": [
      "now.strftime(\"%m-%d-%y. %d %b %Y is a %A on the %d day of %B.\")"
     ],
     "language": "python",
     "metadata": {},
     "outputs": [
      {
       "metadata": {},
       "output_type": "pyout",
       "prompt_number": 27,
       "text": [
        "'05-06-14. 06 May 2014 is a Tuesday on the 06 day of May.'"
       ]
      }
     ],
     "prompt_number": 27
    },
    {
     "cell_type": "code",
     "collapsed": false,
     "input": [
      "# dates support calendar arithmetic\n",
      "birthday = date(1964, 7, 31)\n",
      "age = now - birthday\n",
      "age.days"
     ],
     "language": "python",
     "metadata": {},
     "outputs": [
      {
       "metadata": {},
       "output_type": "pyout",
       "prompt_number": 28,
       "text": [
        "18176"
       ]
      }
     ],
     "prompt_number": 28
    },
    {
     "cell_type": "markdown",
     "metadata": {},
     "source": [
      "##Data Compression\n",
      "Common data archiving and compression formats are directly supported by modules including: `zlib`, `gzip`, `bz2`, `lzma`, `zipfile` and `tarfile`."
     ]
    },
    {
     "cell_type": "code",
     "collapsed": false,
     "input": [
      "import zlib\n",
      "s = b'witch which has which witches wrist watch'\n",
      "len(s)"
     ],
     "language": "python",
     "metadata": {},
     "outputs": [
      {
       "metadata": {},
       "output_type": "pyout",
       "prompt_number": 29,
       "text": [
        "41"
       ]
      }
     ],
     "prompt_number": 29
    },
    {
     "cell_type": "code",
     "collapsed": false,
     "input": [
      "t = zlib.compress(s)\n",
      "len(t)"
     ],
     "language": "python",
     "metadata": {},
     "outputs": [
      {
       "metadata": {},
       "output_type": "pyout",
       "prompt_number": 30,
       "text": [
        "37"
       ]
      }
     ],
     "prompt_number": 30
    },
    {
     "cell_type": "code",
     "collapsed": false,
     "input": [
      "zlib.decompress(t)"
     ],
     "language": "python",
     "metadata": {},
     "outputs": [
      {
       "metadata": {},
       "output_type": "pyout",
       "prompt_number": 32,
       "text": [
        "b'witch which has which witches wrist watch'"
       ]
      }
     ],
     "prompt_number": 32
    },
    {
     "cell_type": "code",
     "collapsed": false,
     "input": [
      "zlib.crc32(s)"
     ],
     "language": "python",
     "metadata": {},
     "outputs": [
      {
       "metadata": {},
       "output_type": "pyout",
       "prompt_number": 33,
       "text": [
        "226805979"
       ]
      }
     ],
     "prompt_number": 33
    },
    {
     "cell_type": "markdown",
     "metadata": {},
     "source": [
      "##Performance Measurement\n",
      "The [`timeit`](https://docs.python.org/3.4/library/timeit.html#module-timeit) module quickly demonstrates a modest performance advantage:"
     ]
    },
    {
     "cell_type": "code",
     "collapsed": false,
     "input": [
      "from timeit import Timer\n",
      "Timer('t=a; a=b; b=t', 'a=1; b=2').timeit()"
     ],
     "language": "python",
     "metadata": {},
     "outputs": [
      {
       "metadata": {},
       "output_type": "pyout",
       "prompt_number": 34,
       "text": [
        "0.039651929000683594"
       ]
      }
     ],
     "prompt_number": 34
    },
    {
     "cell_type": "code",
     "collapsed": false,
     "input": [
      "Timer('a,b = b,a', 'a=1; b=2').timeit()"
     ],
     "language": "python",
     "metadata": {},
     "outputs": [
      {
       "metadata": {},
       "output_type": "pyout",
       "prompt_number": 35,
       "text": [
        "0.021405554998636944"
       ]
      }
     ],
     "prompt_number": 35
    },
    {
     "cell_type": "code",
     "collapsed": false,
     "input": [
      "%timeit 1+2"
     ],
     "language": "python",
     "metadata": {},
     "outputs": [
      {
       "output_type": "stream",
       "stream": "stdout",
       "text": [
        "100000000 loops, best of 3: 17.1 ns per loop\n"
       ]
      }
     ],
     "prompt_number": 15
    },
    {
     "cell_type": "markdown",
     "metadata": {},
     "source": [
      "In contrast to `timeit`\u2018s fine level of granularity, the `profile` and `pstats` modules provide tools for identifying time critical sections in larger blocks of code."
     ]
    },
    {
     "cell_type": "markdown",
     "metadata": {},
     "source": [
      "##Quality Control\n",
      "The [`doctest`](https://docs.python.org/3.4/library/doctest.html#module-doctest) module provides a tool for scanning a module and validating tests embedded in a program\u2019s docstrings."
     ]
    },
    {
     "cell_type": "code",
     "collapsed": false,
     "input": [
      "def average(values):\n",
      "    \"\"\"Computes the arithmetic mean of a list of numbers.\n",
      "\n",
      "    >>> print(average([20, 30, 70]))\n",
      "    40.0\n",
      "    \"\"\"\n",
      "    return sum(values) / len(values)\n",
      "\n",
      "import doctest\n",
      "doctest.testmod()   # automatically validate the embedded tests"
     ],
     "language": "python",
     "metadata": {},
     "outputs": [
      {
       "metadata": {},
       "output_type": "pyout",
       "prompt_number": 36,
       "text": [
        "TestResults(failed=0, attempted=1)"
       ]
      }
     ],
     "prompt_number": 36
    },
    {
     "cell_type": "code",
     "collapsed": false,
     "input": [
      "import unittest\n",
      "\n",
      "class TestStatisticalFunctions(unittest.TestCase):\n",
      "\n",
      "    def test_average(self):\n",
      "        self.assertEqual(average([20, 30, 70]), 40.0)\n",
      "        self.assertEqual(round(average([1, 5, 7]), 1), 4.3)\n",
      "        with self.assertRaises(ZeroDivisionError):\n",
      "            average([])\n",
      "        with self.assertRaises(TypeError):\n",
      "            average(20, 30, 70)\n",
      "\n",
      "unittest.main() # Calling from the command line invokes all tests"
     ],
     "language": "python",
     "metadata": {},
     "outputs": [
      {
       "output_type": "stream",
       "stream": "stderr",
       "text": [
        "usage: -c [-h] [-v] [-q] [-f] [-c] [-b] [tests [tests ...]]\n",
        "-c: error: unrecognized arguments: --IPKernelApp.parent_appname='ipython-notebook' --profile-dir /home/alexandre/.ipython/profile_nbserver --parent=1\n"
       ]
      },
      {
       "ename": "SystemExit",
       "evalue": "2",
       "output_type": "pyerr",
       "traceback": [
        "An exception has occurred, use %tb to see the full traceback.\n",
        "\u001b[1;31mSystemExit\u001b[0m\u001b[1;31m:\u001b[0m 2\n"
       ]
      },
      {
       "output_type": "stream",
       "stream": "stderr",
       "text": [
        "To exit: use 'exit', 'quit', or Ctrl-D.\n"
       ]
      }
     ],
     "prompt_number": 37
    },
    {
     "cell_type": "markdown",
     "metadata": {},
     "source": [
      "The [`unittest`](https://docs.python.org/3.4/library/unittest.html#module-unittest) module is not as effortless as the doctest module, but it allows a more comprehensive set of tests to be maintained in a separate file:"
     ]
    },
    {
     "cell_type": "markdown",
     "metadata": {},
     "source": [
      "##Output Formatting\n",
      "+ https://docs.python.org/3.4/library/reprlib.html#module-reprlib\n",
      "+ https://docs.python.org/3.4/library/pprint.html#module-pprint\n",
      "+ https://docs.python.org/3.4/library/textwrap.html#module-textwrap\n",
      "+ https://docs.python.org/3.4/library/locale.html#module-locale"
     ]
    },
    {
     "cell_type": "code",
     "collapsed": false,
     "input": [],
     "language": "python",
     "metadata": {},
     "outputs": []
    },
    {
     "cell_type": "markdown",
     "metadata": {},
     "source": [
      "##Templating\n",
      "The [`string`](https://docs.python.org/3.4/library/string.html) module includes a versatile [`Template`](https://docs.python.org/3.4/library/string.html#string.Template) class with a simplified syntax suitable for editing by end-users. \n",
      "This allows users to customize their applications without having to alter the application."
     ]
    },
    {
     "cell_type": "code",
     "collapsed": false,
     "input": [
      "from string import Template\n",
      "t = Template('${village}folk send $$10 to $cause.')\n",
      "t.substitute(village='Nottingham', cause='the ditch fund')"
     ],
     "language": "python",
     "metadata": {},
     "outputs": [
      {
       "metadata": {},
       "output_type": "pyout",
       "prompt_number": 2,
       "text": [
        "'Nottinghamfolk send $10 to the ditch fund.'"
       ]
      }
     ],
     "prompt_number": 2
    },
    {
     "cell_type": "code",
     "collapsed": false,
     "input": [
      "import time, os.path\n",
      "photofiles = ['img_1074.jpg', 'img_1076.jpg', 'img_1077.jpg']\n",
      "class BatchRename(Template):\n",
      "    delimiter = '%'\n",
      "#fmt = input('Enter rename style (%d-date %n-seqnum %f-format):  ')\n",
      "fmt = 'Ashley_%d\\_%n%f'"
     ],
     "language": "python",
     "metadata": {},
     "outputs": [],
     "prompt_number": 9
    },
    {
     "cell_type": "code",
     "collapsed": false,
     "input": [
      "t = BatchRename(fmt)\n",
      "date = time.strftime('%d%b%y')\n",
      "for i, filename in enumerate(photofiles):\n",
      "    base, ext = os.path.splitext(filename)\n",
      "    newname = t.substitute(d=date, n=i, f=ext)\n",
      "    print('{0} --> {1}'.format(filename, newname))"
     ],
     "language": "python",
     "metadata": {},
     "outputs": [
      {
       "output_type": "stream",
       "stream": "stdout",
       "text": [
        "img_1074.jpg --> Ashley_04Aug14\\_0.jpg\n",
        "img_1076.jpg --> Ashley_04Aug14\\_1.jpg\n",
        "img_1077.jpg --> Ashley_04Aug14\\_2.jpg\n"
       ]
      }
     ],
     "prompt_number": 10
    },
    {
     "cell_type": "markdown",
     "metadata": {},
     "source": [
      "##Working with Binary Data Record Layouts"
     ]
    },
    {
     "cell_type": "markdown",
     "metadata": {},
     "source": [
      "##Multi-threading\n",
      "Threading is a technique for decoupling tasks which are not sequentially dependent. Threads can be used to improve the responsiveness of applications that accept user input while other tasks run in the background."
     ]
    },
    {
     "cell_type": "code",
     "collapsed": false,
     "input": [
      "import threading, zipfile\n",
      "\n",
      "class AsyncZip(threading.Thread):\n",
      "    def __init__(self, infile, outfile):\n",
      "        threading.Thread.__init__(self)\n",
      "        self.infile = infile\n",
      "        self.outfile = outfile\n",
      "    def run(self):\n",
      "        f = zipfile.ZipFile(self.outfile, 'w', zipfile.ZIP_DEFLATED)\n",
      "        f.write(self.infile)\n",
      "        f.close()\n",
      "        print('Finished background zip of:', self.infile)\n",
      "\n",
      "background = AsyncZip('all_iris_data.npz', 'myarchive.zip')\n",
      "background.start()\n",
      "print('The main program continues to run in foreground.')\n",
      "\n",
      "background.join()    # Wait for the background task to finish\n",
      "print('Main program waited until background was done.')"
     ],
     "language": "python",
     "metadata": {},
     "outputs": [
      {
       "output_type": "stream",
       "stream": "stdout",
       "text": [
        "The main program continues to run in foreground.\n",
        "Finished background zip of: all_iris_data.npz\n",
        "Main program waited until background was done.\n"
       ]
      }
     ],
     "prompt_number": 42
    },
    {
     "cell_type": "code",
     "collapsed": false,
     "input": [
      "!ls"
     ],
     "language": "python",
     "metadata": {},
     "outputs": [
      {
       "output_type": "stream",
       "stream": "stdout",
       "text": [
        "all_iris_data.npz\t   Input Output.ipynb\t   Lambda Expressions.ipynb  Python basics.ipynb\r\n",
        "Brief StdLib.ipynb\t   intro_imaging\t   myarchive.zip\t     Python vs Java.ipynb\r\n",
        "Decorators.ipynb\t   intro_machine_learning  mytestfile.hdf5\t     Quickstart.ipynb\r\n",
        "Defining classes.ipynb\t   intro_programming\t   Naming conventions.ipynb  Regular Expressions.ipynb\r\n",
        "DocsAndTesting.ipynb\t   intro_scientific_stack  np_vector.mat\t     start.sh\r\n",
        "ExceptionsDebugging.ipynb  intro_signalprocessing  OOP.ipynb\t\t     tutorial1.h5\r\n",
        "GitIntro.ipynb\t\t   iris_data.csv\t   PyTest101.ipynb\r\n",
        "index.ipynb\t\t   iris_data.npy\t   Python 2 vs 3.ipynb\r\n"
       ]
      }
     ],
     "prompt_number": 43
    },
    {
     "cell_type": "markdown",
     "metadata": {},
     "source": [
      "The preferred approach to task coordination is to concentrate all access to a resource in a single thread and then use the [`queue`](https://docs.python.org/3.4/library/queue.html#module-queue) module to feed that thread with requests from other threads. Applications using `Queue` objects for inter-thread communication and coordination are easier to design, more readable, and more reliable."
     ]
    },
    {
     "cell_type": "markdown",
     "metadata": {},
     "source": [
      "##Logging\n",
      "The [`logging`](https://docs.python.org/3.4/library/logging.html#module-logging) module offers a full featured and flexible logging system. At its simplest, log messages are sent to a file or to sys.stderr:"
     ]
    },
    {
     "cell_type": "code",
     "collapsed": false,
     "input": [
      "import logging\n",
      "logging.debug('Debugging information')\n",
      "logging.info('Informational message')\n",
      "logging.warning('Warning:config file %s not found', 'server.conf')\n",
      "logging.error('Error occurred')\n",
      "logging.critical('Critical error -- shutting down')"
     ],
     "language": "python",
     "metadata": {},
     "outputs": [
      {
       "output_type": "stream",
       "stream": "stderr",
       "text": [
        "WARNING:root:Warning:config file server.conf not found\n"
       ]
      },
      {
       "output_type": "stream",
       "stream": "stderr",
       "text": [
        "ERROR:root:Error occurred\n"
       ]
      },
      {
       "output_type": "stream",
       "stream": "stderr",
       "text": [
        "CRITICAL:root:Critical error -- shutting down\n"
       ]
      }
     ],
     "prompt_number": 45
    },
    {
     "cell_type": "markdown",
     "metadata": {},
     "source": [
      "Other output options include routing messages through email, datagrams, sockets, or to an HTTP Server. New filters can select different routing based on message priority: DEBUG, INFO, WARNING, ERROR, and CRITICAL."
     ]
    },
    {
     "cell_type": "code",
     "collapsed": false,
     "input": [
      "#myapp.py\n",
      "import logging\n",
      "import time\n",
      "logging.basicConfig(filename='myapp.log', filemode='w',\n",
      "                    level=logging.INFO,\n",
      "                    format='%(asctime)s %(message)s')\n",
      "\n",
      "def do_something():\n",
      "    logger = logging.getLogger('do_something')\n",
      "    logger.info('Doing something')\n",
      "    time.sleep(3)\n",
      "\n",
      "logger = logging.getLogger('main')\n",
      "\n",
      "logger.info('Started')\n",
      "\n",
      "do_something()\n",
      "\n",
      "logger.info('Finished')"
     ],
     "language": "python",
     "metadata": {},
     "outputs": [
      {
       "output_type": "stream",
       "stream": "stderr",
       "text": [
        "INFO:main:Started\n"
       ]
      },
      {
       "output_type": "stream",
       "stream": "stderr",
       "text": [
        "INFO:main:Finished\n"
       ]
      }
     ],
     "prompt_number": 83
    },
    {
     "cell_type": "code",
     "collapsed": false,
     "input": [
      "!python myapp.py"
     ],
     "language": "python",
     "metadata": {},
     "outputs": [],
     "prompt_number": 87
    },
    {
     "cell_type": "code",
     "collapsed": false,
     "input": [
      "!more myapp.log"
     ],
     "language": "python",
     "metadata": {},
     "outputs": [
      {
       "output_type": "stream",
       "stream": "stdout",
       "text": [
        "2014-05-06 18:54:19,070 Started\r\n",
        "2014-05-06 18:54:19,070 Doing something\r\n",
        "2014-05-06 18:54:22,073 Finished\r\n"
       ]
      }
     ],
     "prompt_number": 88
    },
    {
     "cell_type": "markdown",
     "metadata": {},
     "source": [
      "##Weak References\n",
      "Python does automatic memory management (reference counting for most objects and [garbage collection](https://docs.python.org/3.4/glossary.html#term-garbage-collection) to eliminate cycles). The memory is freed shortly after the last reference to it has been eliminated."
     ]
    },
    {
     "cell_type": "markdown",
     "metadata": {},
     "source": [
      "The [`weakref`](https://docs.python.org/3.4/library/weakref.html#module-weakref) module provides tools for tracking objects without creating a reference. When the object is no longer needed, it is automatically removed from a weakref table and a callback is triggered for weakref objects."
     ]
    },
    {
     "cell_type": "markdown",
     "metadata": {},
     "source": [
      "##Tools for Working with Lists"
     ]
    },
    {
     "cell_type": "markdown",
     "metadata": {},
     "source": [
      "###array\n",
      "The [`array`](https://docs.python.org/3.4/library/array.html#module-array) module provides an `array()` object that is like a list that stores only homogeneous data and stores it more compactly.\n",
      "\n",
      "The following example shows an array of numbers stored as two byte unsigned binary numbers (typecode \"H\") rather than the usual 16 bytes per entry for regular lists of Python int objects:"
     ]
    },
    {
     "cell_type": "code",
     "collapsed": false,
     "input": [
      "from array import array\n",
      "a = array('H', [4000, 10, 700, 22222])\n",
      "sum(a)"
     ],
     "language": "python",
     "metadata": {},
     "outputs": [
      {
       "metadata": {},
       "output_type": "pyout",
       "prompt_number": 89,
       "text": [
        "26932"
       ]
      }
     ],
     "prompt_number": 89
    },
    {
     "cell_type": "code",
     "collapsed": false,
     "input": [
      "a[1:3]"
     ],
     "language": "python",
     "metadata": {},
     "outputs": [
      {
       "metadata": {},
       "output_type": "pyout",
       "prompt_number": 90,
       "text": [
        "array('H', [10, 700])"
       ]
      }
     ],
     "prompt_number": 90
    },
    {
     "cell_type": "code",
     "collapsed": false,
     "input": [
      "names = ['alex', 'darya', 'borja']\n",
      "for idx, n in enumerate(names):\n",
      "    print(n)\n",
      "    print(idx)"
     ],
     "language": "python",
     "metadata": {},
     "outputs": [
      {
       "output_type": "stream",
       "stream": "stdout",
       "text": [
        "alex\n",
        "0\n",
        "darya\n",
        "1\n",
        "borja\n",
        "2\n"
       ]
      }
     ],
     "prompt_number": 22
    },
    {
     "cell_type": "code",
     "collapsed": false,
     "input": [
      "list(range(1, 10, 3))"
     ],
     "language": "python",
     "metadata": {},
     "outputs": [
      {
       "metadata": {},
       "output_type": "pyout",
       "prompt_number": 19,
       "text": [
        "[1, 4, 7]"
       ]
      }
     ],
     "prompt_number": 19
    },
    {
     "cell_type": "markdown",
     "metadata": {},
     "source": [
      "###collections\n",
      "The [`collections`](https://docs.python.org/3.4/library/collections.html#module-collections) module provides a [`deque()`](https://docs.python.org/3.4/library/collections.html#collections.deque) object that is like a list with faster appends and pops from the left side but slower lookups in the middle."
     ]
    },
    {
     "cell_type": "code",
     "collapsed": false,
     "input": [
      "from collections import deque\n",
      "d = deque([\"task1\", \"task2\", \"task3\"])\n",
      "d.append(\"task4\")\n",
      "print(\"Handling\", d.popleft())"
     ],
     "language": "python",
     "metadata": {},
     "outputs": [
      {
       "output_type": "stream",
       "stream": "stdout",
       "text": [
        "Handling task1\n"
       ]
      }
     ],
     "prompt_number": 92
    },
    {
     "cell_type": "markdown",
     "metadata": {},
     "source": [
      "The `collections` module also offer other interesting classes as: [`OrdereDict`](https://docs.python.org/3.4/library/collections.html#collections.OrderedDict), [`defaultdict`](https://docs.python.org/3.4/library/collections.html#collections.defaultdict)"
     ]
    },
    {
     "cell_type": "markdown",
     "metadata": {},
     "source": [
      "##Decimal Floating Point Arithmetic"
     ]
    },
    {
     "cell_type": "markdown",
     "metadata": {},
     "source": [
      "The [`decimal`](https://docs.python.org/3.4/library/decimal.html#module-decimal) module offers a [`Decimal`](https://docs.python.org/3.4/library/decimal.html#decimal.Decimal) datatype for decimal floating point arithmetic. Compared to the built-in [`float`](https://docs.python.org/3.4/library/functions.html#float) implementation of binary floating point, the class is especially helpful for:\n",
      "\n",
      "+ financial applications and other uses which require exact decimal representation,\n",
      "+ control over precision,\n",
      "+ control over rounding to meet legal or regulatory requirements,\n",
      "+ tracking of significant decimal places, or\n",
      "+ applications where the user expects the results to match calculations done by hand."
     ]
    },
    {
     "cell_type": "code",
     "collapsed": false,
     "input": [
      "from decimal import *\n",
      "round(Decimal('0.70') * Decimal('1.05'), 2)"
     ],
     "language": "python",
     "metadata": {},
     "outputs": [
      {
       "metadata": {},
       "output_type": "pyout",
       "prompt_number": 93,
       "text": [
        "Decimal('0.74')"
       ]
      }
     ],
     "prompt_number": 93
    },
    {
     "cell_type": "code",
     "collapsed": false,
     "input": [
      "round(.70 * 1.05, 2)"
     ],
     "language": "python",
     "metadata": {},
     "outputs": [
      {
       "metadata": {},
       "output_type": "pyout",
       "prompt_number": 95,
       "text": [
        "0.735"
       ]
      }
     ],
     "prompt_number": 95
    },
    {
     "cell_type": "markdown",
     "metadata": {},
     "source": [
      "Exact representation enables the `Decimal` class to perform modulo calculations and equality tests that are unsuitable for binary floating point:"
     ]
    },
    {
     "cell_type": "code",
     "collapsed": false,
     "input": [
      "Decimal('1.00') % Decimal('.10')"
     ],
     "language": "python",
     "metadata": {},
     "outputs": [
      {
       "metadata": {},
       "output_type": "pyout",
       "prompt_number": 98,
       "text": [
        "Decimal('0.00')"
       ]
      }
     ],
     "prompt_number": 98
    },
    {
     "cell_type": "code",
     "collapsed": false,
     "input": [
      "1.00 % 0.10"
     ],
     "language": "python",
     "metadata": {},
     "outputs": [
      {
       "metadata": {},
       "output_type": "pyout",
       "prompt_number": 99,
       "text": [
        "0.09999999999999995"
       ]
      }
     ],
     "prompt_number": 99
    },
    {
     "cell_type": "code",
     "collapsed": false,
     "input": [
      "sum([Decimal('0.1')]*10) == Decimal('1.0')"
     ],
     "language": "python",
     "metadata": {},
     "outputs": [
      {
       "metadata": {},
       "output_type": "pyout",
       "prompt_number": 100,
       "text": [
        "True"
       ]
      }
     ],
     "prompt_number": 100
    },
    {
     "cell_type": "code",
     "collapsed": false,
     "input": [
      "sum([0.1]*10) == 1.0"
     ],
     "language": "python",
     "metadata": {},
     "outputs": [
      {
       "metadata": {},
       "output_type": "pyout",
       "prompt_number": 106,
       "text": [
        "False"
       ]
      }
     ],
     "prompt_number": 106
    },
    {
     "cell_type": "markdown",
     "metadata": {},
     "source": [
      "The `decimal` module provides arithmetic with as much precision as needed:"
     ]
    },
    {
     "cell_type": "code",
     "collapsed": false,
     "input": [
      "getcontext().prec = 10\n",
      "Decimal(1) / Decimal(7)"
     ],
     "language": "python",
     "metadata": {},
     "outputs": [
      {
       "metadata": {},
       "output_type": "pyout",
       "prompt_number": 97,
       "text": [
        "Decimal('0.1428571429')"
       ]
      }
     ],
     "prompt_number": 97
    },
    {
     "cell_type": "markdown",
     "metadata": {},
     "source": [
      "##References\n",
      "+ https://docs.python.org/3.4/tutorial/stdlib.html\n",
      "+ https://docs.python.org/3.4/tutorial/stdlib2.html"
     ]
    }
   ],
   "metadata": {}
  }
 ]
}