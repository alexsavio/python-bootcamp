{
 "metadata": {
  "name": "",
  "signature": "sha256:bd5ed5e4546bf6f6e3bfe24a27b065541feabac67744e7dc05876f02a919d853"
 },
 "nbformat": 3,
 "nbformat_minor": 0,
 "worksheets": [
  {
   "cells": [
    {
     "cell_type": "heading",
     "level": 1,
     "metadata": {},
     "source": [
      "Python basics"
     ]
    },
    {
     "cell_type": "markdown",
     "metadata": {},
     "source": [
      "Alexandre M. S. (alexsavio@gmail.com) http://alexsavio.github.io/"
     ]
    },
    {
     "cell_type": "markdown",
     "metadata": {},
     "source": [
      "> *Python\u2019s elegant syntax and dynamic typing, together with its interpreted nature, make it an ideal language for scripting and rapid application development in many areas on most platforms* -- Python v2.7.2 Manual\n",
      "\n",
      "### What is Python?\n",
      "+ General purpose, high-level language invented by Dutchman Guido van Rossum.\n",
      "\n",
      "+ Multiple paradigms\n",
      "    + scripting\n",
      "    + object-oriented\n",
      "    + imperative\n",
      "    + functional\n",
      "\n",
      "\n",
      "### Where Python Excels:\n",
      "\n",
      "+ Easy, concise, elegant and powerful\n",
      "+ Batteries included\n",
      "+ Large open source library collection for scientific computation (see [Python(x,y) Package Index](https://code.google.com/p/pythonxy/wiki/StandardPlugins))\n",
      "\n",
      "### Where it falls short:\n",
      "\n",
      "+ Low performance (not if we use the right libraries, like [NumPy](http://www.numpy.org/))\n",
      "+ No concurrency \"in its veins\" (as in [Scala](http://www.scala-lang.org/) or [Go](http://golang.org/))\n",
      "+ No compile-time error check\n",
      "+ Deployment could be painfull (specially on Windows)\n",
      "\n",
      "## Platforms\n",
      "\n",
      "+ Linux/OS X: Python and *Scipy* stack already included\n",
      "+ Windows: the official Python distribution alone (from [python.org](http://www.python.org)) does not came with scientific libraries. You can use [WinPython](http://winpython.sourceforge.net/) - a very complete Python scientific distribution. [Download and install version 2.7.6](http://sourceforge.net/projects/winpython/files/latest/download?source=files) if you want to do the exercises presented on this course.\n",
      "\n",
      "## Integrated Development Environments (IDE)\n",
      "\n",
      "For Python code development you will probably want to use a [Python IDE](http://stackoverflow.com/questions/81584/what-ide-to-use-for-python). Here are a few that we stumbled upon that you might try:\n",
      "\n",
      "+ [Vim](http://justinlilly.com/vim/vim_and_python.html), [Emacs](http://tkf.github.io/emacs-ipython-notebook/), Notepad++\n",
      "+ [PyCharm](http://www.jetbrains.com/pycharm/) or [Eclipse w/ PyDev](http://pydev.org/) (for a more application driven development)\n",
      "+ [Ninja](http://ninja-ide.org/)\n",
      "+ [Spyder](https://code.google.com/p/spyderlib/) (MATLAB\u00ae like IDE) - intended to be used in this course (bundled with [WinPython](http://http://winpython.sourceforge.net/))\n",
      "\n",
      "## Interactive Shells\n",
      "\n",
      "+ [IPython](http://ipython.org/)\n",
      "+ [bpython](http://bpython-interpreter.org/)\n",
      "\n",
      "## [Package Repository](https://pypi.python.org/pypi)\n",
      "\n",
      "The [Python Package Index (PyPI)](https://pypi.python.org/pypi) is a repository of software for the Python programming language.\n",
      "\n",
      "## [Official Documentation](https://docs.python.org/3/)\n",
      "\n",
      "+ [The Python Tutorial](https://docs.python.org/3/tutorial/index.html)\n",
      "\n",
      "+ [The Python Standard Library](https://docs.python.org/3/library/index.html)"
     ]
    },
    {
     "cell_type": "markdown",
     "metadata": {},
     "source": [
      "What is Python particularly good for? When is using Python the \"right choice\" for a project.\n",
      "---\n",
      "\n",
      "+ *Ease of use and ease of refactoring*, thanks to the flexibility of Python\u2019s syntax, which makes it especially useful for rapid prototyping.\n",
      "\n",
      "\n",
      "+ *More compact code*, thanks again to Python\u2019s syntax, along with a wealth of functionally-rich Python libraries (distributed freely with most Python language implementations).\n",
      "\n",
      "\n",
      "+ *A dynamically-typed and strongly-typed language*, offering the rare combination of code flexibility while at the same time avoiding pesky implicit-type-conversion bugs.\n",
      "\n",
      "\n",
      "+ *It\u2019s free and open source!* Need we say more?\n",
      "\n",
      "\n",
      "With regard to the question of when using Python is the \u201cright choice\u201d for a project, the complete answer also depends on a number of issues orthogonal to the language itself, such as prior technology investment, skill set of the team, and so on. Although the question as stated above implies interest in a strictly technical answer, a developer who will raise these additional issues in an interview will always \u201cscore more points\u201d with me since it indicates an awareness of, and sensitivity to, the \u201cbigger picture\u201d (i.e., beyond just the technology being employed). Conversely, a response that Python is always the right choice is a clear sign of an unsophisticated developer.\n"
     ]
    },
    {
     "cell_type": "markdown",
     "metadata": {},
     "source": [
      "What are some drawbacks of the Python language?\n",
      "---\n",
      "\n",
      "+ *[The Global Interpreter Lock (GIL)](https://wiki.python.org/moin/GlobalInterpreterLock)*. CPython (the most common Python implementation) is not fully thread safe. In order to support multi-threaded Python programs, CPython provides a global lock that must be held by the current thread before it can safely access Python objects. As a result, no matter how many threads or processors are present, only one thread is ever being executed at any given time. In comparison, it is worth noting that the PyPy implementation \u2013 discussed in more detail later in this post \u2013 provides a stackless mode that supports micro-threads for massive concurrency.\n",
      "\n",
      "\n",
      "+ *Execution speed*. Python can be slower than compiled languages since it is interpreted. (Well, sort of. See the next question and answer\u2026)\n",
      "\n"
     ]
    },
    {
     "cell_type": "markdown",
     "metadata": {},
     "source": [
      "Is Python interpreted or compiled?\n",
      "---\n",
      "\n",
      "As noted in [Why Are There So Many Pythons?](http://www.toptal.com/python/why-are-there-so-many-pythons), this is, frankly, a bit of a trick question in that is malformed. Python itself is nothing more than an interface definition (as is true with any language specification) of which there multiple implementations. Accordingly, the question of whether \u201cPython\u201d is interpreted or compiled does not apply to the Python language itself; rather, it applies to each specific implementation of the Python specification.\n",
      "\n",
      "Further complicating the answer to this question is the fact that, in the case of CPython (the most common Python implementation), the answer really is \u201csort of both\u201d. Specifically, with CPython, code is first compiled and then interpreted. More precisely, it is not precompiled to native machine code, but rather to bytecode. While machine code is certainly faster, bytecode is more portable and secure. The bytecode is then interpreted in the case of CPython (or both interpreted and compiled to optimized machine code at runtime in the case of [PyPy](http://pypy.org/)."
     ]
    },
    {
     "cell_type": "markdown",
     "metadata": {},
     "source": [
      "What are some alternative implementations to CPython? When and why might you use them?\n",
      "---\n",
      "\n",
      "One of the more prominent alternative implementations is [Jython](http://www.jython.org/), a Python implementation written in Java that utilizes the Java Virtual Machine (JVM). While CPython produces bytecode to run on the CPython VM, Jython produces Java bytecode to run on the JVM.\n",
      "\n",
      "Another is [IronPython](http://ironpython.net/), written in C# and targeting the .NET stack. IronPython runs on Microsoft\u2019s Common Language Runtime (CLR).\n",
      "\n",
      "As also pointed out in [Why Are There So Many Pythons?](http://www.toptal.com/python/why-are-there-so-many-pythons), it is entirely possible to survive without ever touching a non-CPython implementation of Python, but there are advantages to be had from switching, most of which are dependent on your technology stack.\n",
      "\n",
      "Another noteworthy alternative implementation is [PyPy](http://pypy.org/) whose key features include:\n",
      "\n",
      "+ *Speed*. Thanks to its Just-in-Time (JIT) compiler, Python programs often run faster on PyPy.\n",
      "\n",
      "\n",
      "+ *Memory usage*. Large, memory-hungry Python programs might end up taking less space with PyPy than they do in CPython.\n",
      "\n",
      "\n",
      "+ *Compatibility*. PyPy is highly compatible with existing python code. It supports cffi and can run popular python libraries like twisted and django.\n",
      "    \n",
      "\n",
      "+ *Sandboxing*. PyPy provides the ability to run untrusted code in a fully secure way.\n",
      "\n",
      "\n",
      "+ *Stackless mode*. PyPy comes by default with support for stackless mode, providing micro-threads for massive concurrency."
     ]
    },
    {
     "cell_type": "markdown",
     "metadata": {},
     "source": [
      "##Background material\n",
      "\n",
      "+ [Lectures on scientific computing with Python](https://github.com/jrjohansson/scientific-python-lectures#online-read-only-versions)\n",
      "+ [A Hands-On Introduction to Using Python in the Atmospheric and Oceanic Sciences](http://www.johnny-lin.com/pyintro/)\n",
      "+ [Enthought](https://www.enthought.com/)\n",
      "+ [Python Scientific Lecture Notes](http://scipy-lectures.github.io/)\n",
      "+ [Lightning Talk - Rich Signell - Oceanographic Anaylsis with Python](http://vimeopro.com/pydata/pydata-nyc-2012/video/53095330)\n",
      "+ [Why Python is the Next Wave in Earth Sciences Computing](http://journals.ametsoc.org/doi/pdf/10.1175/BAMS-D-12-00148.1)\n"
     ]
    },
    {
     "cell_type": "markdown",
     "metadata": {},
     "source": [
      "### References\n",
      "+ http://www.toptal.com/python\n",
      "+ http://nbviewer.ipython.org/github/Unidata/tds-python-workshop/blob/master/introduction.ipynb"
     ]
    },
    {
     "cell_type": "code",
     "collapsed": false,
     "input": [],
     "language": "python",
     "metadata": {},
     "outputs": [],
     "prompt_number": 0
    },
    {
     "cell_type": "code",
     "collapsed": false,
     "input": [],
     "language": "python",
     "metadata": {},
     "outputs": []
    }
   ],
   "metadata": {}
  }
 ]
}