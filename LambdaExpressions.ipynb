{
 "metadata": {
  "name": "",
  "signature": "sha256:a5cfdc2c33b20f6ee3ce1a592e2bbdbb0f52f5a0e823f79c8cbe30eaca8d75a7"
 },
 "nbformat": 3,
 "nbformat_minor": 0,
 "worksheets": [
  {
   "cells": [
    {
     "cell_type": "heading",
     "level": 1,
     "metadata": {},
     "source": [
      "Python Features: Lambda Expressions"
     ]
    },
    {
     "cell_type": "markdown",
     "metadata": {},
     "source": [
      "Alexandre M. S. (alexsavio@gmail.com) http://alexsavio.github.io/"
     ]
    },
    {
     "cell_type": "heading",
     "level": 2,
     "metadata": {},
     "source": [
      "Lambda Expressions"
     ]
    },
    {
     "cell_type": "markdown",
     "metadata": {},
     "source": [
      "Lambda expressions are a shorthand technique for creating single line, anonymous functions. Their simple, inline nature often \u2013 though not always \u2013 leads to more readable and concise code than the alternative of formal function declarations. On the other hand, their terse inline nature, by definition, very much limits what they are capable of doing and their applicability. Being anonymous and inline, the only way to use the same lambda function in multiple locations in your code is to specify it redundantly."
     ]
    },
    {
     "cell_type": "code",
     "collapsed": false,
     "input": [
      "def f (x): return x**2\n",
      "print(f(8))\n",
      "\n",
      "g = lambda x: x**2\n",
      "print(g(8))"
     ],
     "language": "python",
     "metadata": {},
     "outputs": [
      {
       "output_type": "stream",
       "stream": "stdout",
       "text": [
        "64\n",
        "64\n"
       ]
      }
     ],
     "prompt_number": 1
    },
    {
     "cell_type": "markdown",
     "metadata": {},
     "source": [
      "As you can see, f() and g() do exactly the same and can be used in the same ways. Note that the lambda definition does not include a \"return\" statement -- it always contains an expression which is returned. Also note that you can put a lambda definition anywhere a function is expected, and you don't have to assign it to a variable at all. "
     ]
    },
    {
     "cell_type": "heading",
     "level": 3,
     "metadata": {},
     "source": [
      "Filter, map and reduce"
     ]
    },
    {
     "cell_type": "code",
     "collapsed": false,
     "input": [
      "filter?"
     ],
     "language": "python",
     "metadata": {},
     "outputs": [],
     "prompt_number": 8
    },
    {
     "cell_type": "code",
     "collapsed": false,
     "input": [
      "map?"
     ],
     "language": "python",
     "metadata": {},
     "outputs": []
    },
    {
     "cell_type": "code",
     "collapsed": false,
     "input": [
      "reduce?"
     ],
     "language": "python",
     "metadata": {},
     "outputs": [],
     "prompt_number": 9
    },
    {
     "cell_type": "code",
     "collapsed": false,
     "input": [
      "foo = [2, 18, 9, 22, 17, 24, 8, 12, 27]\n",
      "print (foo)\n",
      "\n",
      "print('Divisible by 3:')\n",
      "print(filter(lambda x: x % 3 == 0, foo))\n",
      "\n",
      "print('Multiply by 2 and add 10:')\n",
      "print(map(lambda x: x * 2 + 10, foo))\n",
      "\n",
      "print('Divisible by 3:')\n",
      "print(reduce(lambda x, y: x + y, foo))"
     ],
     "language": "python",
     "metadata": {},
     "outputs": [
      {
       "output_type": "stream",
       "stream": "stdout",
       "text": [
        "[18, 9, 24, 12, 27]\n",
        "[14, 46, 28, 54, 44, 58, 26, 34, 64]\n",
        "139\n"
       ]
      }
     ],
     "prompt_number": 2
    },
    {
     "cell_type": "markdown",
     "metadata": {},
     "source": [
      "In the first example, filter() calls our lambda function for each element of the list, and returns a new list that contains only those elements for which the function returned \"True\". In this case, we get a list of all elements that are multiples of 3. The expression x % 3 == 0 computes the remainder of x divided by 3 and compares the result with 0 (which is true if x is evenly divisible by 3).\n",
      "\n",
      "In the second example, map() is used to convert our list. The given function is called for every element in the original list, and a new list is created which contains the return values from our lambda function. In this case, it computes 2 * x + 10 for every element.\n",
      "\n",
      "Finally, reduce() is somewhat special. The \"worker function\" for this one must accept two arguments (we've called them x and y here), not just one. The function is called with the first two elements from the list, then with the result of that call and the third element, and so on, until all of the list elements have been handled. This means that our function is called n-1 times if the list contains n elements. The return value of the last call is the result of the reduce() construct. In the above example, it simply adds the arguments, so we get the sum of all elements. (Note: since Python 2.3 there's a built-in function sum()that does the same thing more efficiently.) "
     ]
    },
    {
     "cell_type": "heading",
     "level": 2,
     "metadata": {},
     "source": [
      "List comprehensions"
     ]
    },
    {
     "cell_type": "markdown",
     "metadata": {},
     "source": [
      "List comprehensions provide a concise syntax for creating lists. List comprehensions are commonly used to make lists where each element is the result of some operation(s) applied to each member of another sequence or iterable. They can also be used to create a subsequence of those elements whose members satisfy a certain condition. In Python, list comprehensions provide an alternative to using the built-in map() and filter() functions."
     ]
    },
    {
     "cell_type": "code",
     "collapsed": false,
     "input": [
      "sentence = 'It is raining cats and dogs'\n",
      "words = sentence.split()\n",
      "print (words)\n",
      "\n",
      "#lambda\n",
      "lengths = map(lambda word: len(word), words)\n",
      "print(lengths)\n",
      "\n",
      "#list comprehension\n",
      "lengths = [len(word) for word in words]\n",
      "print(lengths)"
     ],
     "language": "python",
     "metadata": {},
     "outputs": [
      {
       "output_type": "stream",
       "stream": "stdout",
       "text": [
        "['It', 'is', 'raining', 'cats', 'and', 'dogs']\n",
        "[2, 2, 7, 4, 3, 4]\n",
        "[2, 2, 7, 4, 3, 4]\n"
       ]
      }
     ],
     "prompt_number": 4
    },
    {
     "cell_type": "code",
     "collapsed": false,
     "input": [
      "#Compare\n",
      "%timeit lengths = map(lambda word: len(word), words)\n",
      "\n",
      "%timeit lengths = [len(word) for word in words]\n"
     ],
     "language": "python",
     "metadata": {},
     "outputs": [
      {
       "output_type": "stream",
       "stream": "stdout",
       "text": [
        "1000000 loops, best of 3: 748 ns per loop\n",
        "1000000 loops, best of 3: 366 ns per loop"
       ]
      },
      {
       "output_type": "stream",
       "stream": "stdout",
       "text": [
        "\n"
       ]
      }
     ],
     "prompt_number": 7
    },
    {
     "cell_type": "markdown",
     "metadata": {},
     "source": [
      "This is because calling a lambda function creates a new stack frame while the expression in the list comprehension is evaluated without creating a new stack frame."
     ]
    },
    {
     "cell_type": "heading",
     "level": 2,
     "metadata": {},
     "source": [
      "Generator Expression"
     ]
    },
    {
     "cell_type": "code",
     "collapsed": false,
     "input": [
      "sum(x**2 for x in range(1, 11))"
     ],
     "language": "python",
     "metadata": {},
     "outputs": [
      {
       "metadata": {},
       "output_type": "pyout",
       "prompt_number": 10,
       "text": [
        "385"
       ]
      }
     ],
     "prompt_number": 10
    },
    {
     "cell_type": "markdown",
     "metadata": {},
     "source": [
      "This calls the built-in function sum() with as its argument a generator expression that yields the squares of the numbers from 1 through 10 inclusive. The sum() function adds up the values in its argument resulting in an answer of 385. The advantage over sum([x**2 for x in range(1, 11)]) should be obvious. The latter creates a list containing all the squares, which is then iterated over once before it is thrown away. For large collections these savings in memory usage are an important consideration."
     ]
    },
    {
     "cell_type": "markdown",
     "metadata": {},
     "source": [
      "## More details\n",
      "\n",
      "As the applied usage of lambda expressions and list comprehensions can overlap, opinions vary widely as to when and where to use one vs. the other. One point to bear in mind, though, is that a list comprehension executes somewhat faster than a comparable solution using map and lambda (some quick tests yielded a performance difference of roughly 10%). This is because calling a lambda function creates a new stack frame while the expression in the list comprehension is evaluated without doing so."
     ]
    },
    {
     "cell_type": "markdown",
     "metadata": {},
     "source": [
      "List comprehensions provide an alternative to using the built-in map() and filter() functions. map(f, S) is equivalent to [f(x) for x in S] while filter(P, S) is equivalent to [x for x in S if P(x)]. One would think that list comprehensions have little to recommend themselves over the seemingly more compact map() and filter() notations. However, the picture changes if one looks at a more realistic example. Suppose we want to add 1 to the elements of a list, producing a new list. The list comprehension solution is [x+1 for x in S]. The solution using map() is map(lambda x: x+1, S). The part \u201clambda x: x+1\u201d is Python\u2019s notation for an anonymous function defined in-line."
     ]
    },
    {
     "cell_type": "markdown",
     "metadata": {},
     "source": [
      "## References\n",
      "\n",
      "+ https://www.artima.com/weblogs/viewpost.jsp?thread=240808\n",
      "+ http://python-history.blogspot.com.es/2010/06/from-list-comprehensions-to-generator.html"
     ]
    },
    {
     "cell_type": "code",
     "collapsed": false,
     "input": [],
     "language": "python",
     "metadata": {},
     "outputs": []
    }
   ],
   "metadata": {}
  }
 ]
}