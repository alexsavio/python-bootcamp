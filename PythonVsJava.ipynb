{
 "metadata": {
  "name": "",
  "signature": "sha256:de9051807e440429bdbd15333d19f6d5d008debbf207045f7bd3ceebbfb2531c"
 },
 "nbformat": 3,
 "nbformat_minor": 0,
 "worksheets": [
  {
   "cells": [
    {
     "cell_type": "heading",
     "level": 1,
     "metadata": {},
     "source": [
      "What are some key differences to bear in mind when coding in Python vs. Java?"
     ]
    },
    {
     "cell_type": "markdown",
     "metadata": {},
     "source": [
      "Alexandre M. S. (alexsavio@gmail.com) http://alexsavio.github.io/"
     ]
    },
    {
     "cell_type": "markdown",
     "metadata": {},
     "source": [
      "The differences between Java and Python are numerous and would likely be a topic worthy of its own (lengthy) post. Below is just a brief sampling of some key differences between the two languages."
     ]
    },
    {
     "cell_type": "markdown",
     "metadata": {},
     "source": [
      "Here is a sampling of some key differences to bear in mind when coding in Python vs. Java:"
     ]
    },
    {
     "cell_type": "markdown",
     "metadata": {},
     "source": [
      "+ *Dynamic vs static typing*. One of the biggest differences between the two languages is that Java is restricted to static typing whereas Python supports dynamic typing of variables."
     ]
    },
    {
     "cell_type": "markdown",
     "metadata": {},
     "source": [
      "+ *Static vs. class methods*. A static method in Java does not translate to a Python class method.\n",
      "\n",
      "\n",
      "    - In Python, calling a class method involves an additional memory allocation that calling a static method or function does not.\n",
      "\n",
      "\n",
      "    - In Java, dotted names (e.g., `foo.bar.method`) are looked up by the compiler, so at runtime it really doesn't matter how many of them you have. In Python, however, the lookups occur at runtime, so \"each dot counts\"."
     ]
    },
    {
     "cell_type": "markdown",
     "metadata": {},
     "source": [
      "+ *Method overloading*. Whereas Java requires explicit specification of multiple same-named functions with different signatures, the same can be accomplished in Python with a single function that includes optional arguments with default values if not specified by the caller.\n",
      "\n",
      "\n",
      "+ *Single vs. double quotes*. Whereas the use of single quotes vs. double quotes has significance in Java, they can be used interchangeably in Python (but no, it won\u2019t something foolish like beginnning the same string with a double quote and trying to end it with a single quote, or vice versa!).\n",
      "\n",
      "\n",
      "+ *Getters and setters (not!)*. Getters and setters in Python are superfluous; rather, you should use the \u2018property\u2019 built-in (that\u2019s what it\u2019s for!). In Python, getters and setters are a waste of both CPU and programmer time.\n",
      "\n",
      "\n",
      "+ *Classes are optional*. Whereas Java requires every function to be defined in the context of an enclosing class definition, Python has no such requirement.\n",
      "\n",
      "\n",
      "+ *Indentation matters\u2026* in Python. This bites many a newbie Python programmer."
     ]
    },
    {
     "cell_type": "markdown",
     "metadata": {},
     "source": [
      "### Reference:\n",
      "\n",
      "- http://www.toptal.com/python"
     ]
    },
    {
     "cell_type": "code",
     "collapsed": false,
     "input": [],
     "language": "python",
     "metadata": {},
     "outputs": []
    }
   ],
   "metadata": {}
  }
 ]
}