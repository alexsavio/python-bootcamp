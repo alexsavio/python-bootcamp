{
 "metadata": {
  "celltoolbar": "Slideshow",
  "name": "",
  "signature": "sha256:4505b2c1be79f1dbe7c703be6b88c1145acee1638fd9ff19e9f4d563d4f76582"
 },
 "nbformat": 3,
 "nbformat_minor": 0,
 "worksheets": [
  {
   "cells": [
    {
     "cell_type": "markdown",
     "metadata": {
      "slideshow": {
       "slide_type": "slide"
      }
     },
     "source": [
      "# *yield* and *generators* Explained"
     ]
    },
    {
     "cell_type": "markdown",
     "metadata": {
      "slideshow": {
       "slide_type": "subslide"
      }
     },
     "source": [
      "### whoami\n",
      "\n",
      "Alexandre Manh\u00e3es Savio\n",
      "\n",
      "<i class=\"icon icon-home icon-white\"></i> http://alexsavio.github.io/\n",
      "\n",
      "<i class=\"icon icon-cloud icon-white\"></i> http://www.github.com/alexsavio\n",
      "\n",
      "<i class=\"icon icon-user icon-white\"></i> [@alex_savio](http://www.twitter.com/alex_savio)\n",
      "\n",
      "<i class=\"icon icon-envelope icon-white\"></i> alex.savio@neurita.com"
     ]
    },
    {
     "cell_type": "markdown",
     "metadata": {
      "slideshow": {
       "slide_type": "slide"
      }
     },
     "source": [
      "## Subroutines\n",
      "\n",
      "Functions whose execution continues until a `return statement`, `exception`, or the end of the function (implicit `return None`)."
     ]
    },
    {
     "cell_type": "markdown",
     "metadata": {
      "slideshow": {
       "slide_type": "fragment"
      }
     },
     "source": [
      "Any work done by the function and stored in local variables is lost."
     ]
    },
    {
     "cell_type": "markdown",
     "metadata": {
      "slideshow": {
       "slide_type": "fragment"
      }
     },
     "source": [
      "These are known as subroutines."
     ]
    },
    {
     "cell_type": "markdown",
     "metadata": {
      "slideshow": {
       "slide_type": "slide"
      }
     },
     "source": [
      "## Generators or coroutines\n",
      "\n",
      "A generator is a \"function\" which is able to yield a series of values."
     ]
    },
    {
     "cell_type": "markdown",
     "metadata": {
      "slideshow": {
       "slide_type": "fragment"
      }
     },
     "source": [
      "Such a function would need to be able to \"save its work\"."
     ]
    },
    {
     "cell_type": "markdown",
     "metadata": {
      "slideshow": {
       "slide_type": "fragment"
      }
     },
     "source": [
      "\"to yield\": to give place or precedence"
     ]
    },
    {
     "cell_type": "markdown",
     "metadata": {
      "slideshow": {
       "slide_type": "slide"
      }
     },
     "source": [
      "### `Yield` implies that the transfer of control is temporary and voluntary, and our function expects to regain it in the future."
     ]
    },
    {
     "cell_type": "markdown",
     "metadata": {
      "slideshow": {
       "slide_type": "slide"
      }
     },
     "source": [
      "### In Python, *functions* with these capabilities are called *generators*."
     ]
    },
    {
     "cell_type": "markdown",
     "metadata": {
      "slideshow": {
       "slide_type": "slide"
      }
     },
     "source": [
      "### In other languages they are known as *coroutines*."
     ]
    },
    {
     "cell_type": "markdown",
     "metadata": {
      "slideshow": {
       "slide_type": "slide"
      }
     },
     "source": [
      "## Example: Fun With Prime Numbers\n",
      "\n",
      "Let's write a function that takes a **list of ints** and returns some Iterable containing the elements which are **prime** numbers."
     ]
    },
    {
     "cell_type": "code",
     "collapsed": false,
     "input": [
      "def get_primes(input_list):\n",
      "    result_list = list()\n",
      "    for element in input_list:\n",
      "        if is_prime(element):\n",
      "            result_list.append()\n",
      "\n",
      "    return result_list"
     ],
     "language": "python",
     "metadata": {
      "slideshow": {
       "slide_type": "subslide"
      }
     },
     "outputs": [],
     "prompt_number": 1
    },
    {
     "cell_type": "code",
     "collapsed": false,
     "input": [
      "# or better yet...\n",
      "\n",
      "def get_primes(input_list):\n",
      "    return (element for element in input_list if is_prime(element))"
     ],
     "language": "python",
     "metadata": {
      "slideshow": {
       "slide_type": "subslide"
      }
     },
     "outputs": [],
     "prompt_number": 17
    },
    {
     "cell_type": "code",
     "collapsed": false,
     "input": [
      "# here's a possible implementation of is_prime\n",
      "import math\n",
      "\n",
      "def is_prime(number):\n",
      "    if number > 1:\n",
      "        if number == 2:\n",
      "            return True\n",
      "        if number % 2 == 0:\n",
      "            return False\n",
      "        for current in range(3, int(math.sqrt(number) + 1), 2):\n",
      "            if number % current == 0: \n",
      "                return False\n",
      "        return True\n",
      "    return False"
     ],
     "language": "python",
     "metadata": {
      "slideshow": {
       "slide_type": "subslide"
      }
     },
     "outputs": [],
     "prompt_number": 21
    },
    {
     "cell_type": "markdown",
     "metadata": {
      "slideshow": {
       "slide_type": "slide"
      }
     },
     "source": [
      "### Dealing With Infinite Sequences\n",
      "\n",
      "The user wants to use our `get_primes` function on a very large list of numbers."
     ]
    },
    {
     "cell_type": "markdown",
     "metadata": {
      "slideshow": {
       "slide_type": "fragment"
      }
     },
     "source": [
      "In fact, the list is so large that merely creating it would consume all of the system's memory."
     ]
    },
    {
     "cell_type": "markdown",
     "metadata": {
      "slideshow": {
       "slide_type": "fragment"
      }
     },
     "source": [
      "To work around this, she wants to be able to call `get_primes` with a start value and get all the primes larger than start."
     ]
    },
    {
     "cell_type": "markdown",
     "metadata": {
      "slideshow": {
       "slide_type": "subslide"
      }
     },
     "source": [
      "## Clearly, we can't return a list of all the prime numbers from start to infinity"
     ]
    },
    {
     "cell_type": "markdown",
     "metadata": {
      "slideshow": {
       "slide_type": "subslide"
      }
     },
     "source": [
      "Imagine what we could do if `get_primes` could simply return the *next* value instead of all the values at once."
     ]
    },
    {
     "cell_type": "markdown",
     "metadata": {
      "slideshow": {
       "slide_type": "fragment"
      }
     },
     "source": [
      "It wouldn't need to create a list at all."
     ]
    },
    {
     "cell_type": "markdown",
     "metadata": {
      "slideshow": {
       "slide_type": "fragment"
      }
     },
     "source": [
      "No list, no memory issues."
     ]
    },
    {
     "cell_type": "code",
     "collapsed": false,
     "input": [
      "#we'd get stuck after returning the first value if we had:\n",
      "\n",
      "def get_primes(start):\n",
      "    for element in magical_infinite_range(start):\n",
      "        if is_prime(element):\n",
      "            return element"
     ],
     "language": "python",
     "metadata": {
      "slideshow": {
       "slide_type": "subslide"
      }
     },
     "outputs": []
    },
    {
     "cell_type": "markdown",
     "metadata": {
      "slideshow": {
       "slide_type": "notes"
      }
     },
     "source": [
      "Functions, though, can't do this. When they return, they're done for good. Even if we could guarantee a function would be called again, we have no way of saying, \"OK, now, instead of starting at the first line like we normally do, start up where we left off at line 4.\" Functions have a single entry point: the first line."
     ]
    },
    {
     "cell_type": "markdown",
     "metadata": {
      "slideshow": {
       "slide_type": "slide"
      }
     },
     "source": [
      "## Enter the Generator\n",
      "\n",
      "A *generator function* is defined like a normal function, but whenever it needs to generate a value, it does so with the *yield* keyword rather than *return*."
     ]
    },
    {
     "cell_type": "markdown",
     "metadata": {
      "slideshow": {
       "slide_type": "fragment"
      }
     },
     "source": [
      "If the body of a `def` contains yield, the function automatically becomes a *generator function*."
     ]
    },
    {
     "cell_type": "markdown",
     "metadata": {
      "slideshow": {
       "slide_type": "subslide"
      }
     },
     "source": [
      "## *Generator* is a special type of *iterator*\n",
      "\n",
      "To be considered *iterators*, *generators* must define a few methods, e.g., `__next__()`"
     ]
    },
    {
     "cell_type": "markdown",
     "metadata": {
      "slideshow": {
       "slide_type": "fragment"
      }
     },
     "source": [
      "Since a *generator* is a type of *iterator*, it can be used in a `for` loop."
     ]
    },
    {
     "cell_type": "markdown",
     "metadata": {
      "slideshow": {
       "slide_type": "fragment"
      }
     },
     "source": [
      "So whenever `next()` is called on a *generator*, the *generator* is responsible for passing back a value to whomever called `next()`."
     ]
    },
    {
     "cell_type": "markdown",
     "metadata": {
      "slideshow": {
       "slide_type": "fragment"
      }
     },
     "source": [
      "It does so by calling yield along with the value to be passed back (e.g. `yield 7`). "
     ]
    },
    {
     "cell_type": "markdown",
     "metadata": {
      "slideshow": {
       "slide_type": "subslide"
      }
     },
     "source": [
      "## `yield` is just return (plus a little magic) for *generator functions*."
     ]
    },
    {
     "cell_type": "markdown",
     "metadata": {
      "slideshow": {
       "slide_type": "slide"
      }
     },
     "source": [
      "## Example: A Simple *generator function*"
     ]
    },
    {
     "cell_type": "code",
     "collapsed": false,
     "input": [
      "def simple_generator_function():\n",
      "    yield 1\n",
      "    yield 2\n",
      "    yield 3"
     ],
     "language": "python",
     "metadata": {
      "slideshow": {
       "slide_type": "fragment"
      }
     },
     "outputs": [],
     "prompt_number": 32
    },
    {
     "cell_type": "markdown",
     "metadata": {
      "slideshow": {
       "slide_type": "subslide"
      }
     },
     "source": [
      "And here are two simple ways to use it:"
     ]
    },
    {
     "cell_type": "code",
     "collapsed": false,
     "input": [
      "for value in simple_generator_function():\n",
      "    print(value)"
     ],
     "language": "python",
     "metadata": {
      "slideshow": {
       "slide_type": "subslide"
      }
     },
     "outputs": [
      {
       "output_type": "stream",
       "stream": "stdout",
       "text": [
        "1\n",
        "2\n",
        "3\n"
       ]
      }
     ],
     "prompt_number": 33
    },
    {
     "cell_type": "code",
     "collapsed": false,
     "input": [
      "our_generator = simple_generator_function()\n",
      "\n",
      "next(our_generator)"
     ],
     "language": "python",
     "metadata": {
      "slideshow": {
       "slide_type": "subslide"
      }
     },
     "outputs": [
      {
       "metadata": {},
       "output_type": "pyout",
       "prompt_number": 34,
       "text": [
        "1"
       ]
      }
     ],
     "prompt_number": 34
    },
    {
     "cell_type": "code",
     "collapsed": false,
     "input": [
      "next(our_generator)"
     ],
     "language": "python",
     "metadata": {
      "slideshow": {
       "slide_type": "fragment"
      }
     },
     "outputs": [
      {
       "metadata": {},
       "output_type": "pyout",
       "prompt_number": 35,
       "text": [
        "2"
       ]
      }
     ],
     "prompt_number": 35
    },
    {
     "cell_type": "code",
     "collapsed": false,
     "input": [
      "next(our_generator)"
     ],
     "language": "python",
     "metadata": {
      "slideshow": {
       "slide_type": "fragment"
      }
     },
     "outputs": [
      {
       "metadata": {},
       "output_type": "pyout",
       "prompt_number": 36,
       "text": [
        "3"
       ]
      }
     ],
     "prompt_number": 36
    },
    {
     "cell_type": "code",
     "collapsed": false,
     "input": [
      "next(our_generator)"
     ],
     "language": "python",
     "metadata": {
      "slideshow": {
       "slide_type": "fragment"
      }
     },
     "outputs": [
      {
       "ename": "StopIteration",
       "evalue": "",
       "output_type": "pyerr",
       "traceback": [
        "\u001b[1;31m---------------------------------------------------------------------------\u001b[0m\n\u001b[1;31mStopIteration\u001b[0m                             Traceback (most recent call last)",
        "\u001b[1;32m<ipython-input-37-7e48a609051a>\u001b[0m in \u001b[0;36m<module>\u001b[1;34m()\u001b[0m\n\u001b[1;32m----> 1\u001b[1;33m \u001b[0mnext\u001b[0m\u001b[1;33m(\u001b[0m\u001b[0mour_generator\u001b[0m\u001b[1;33m)\u001b[0m\u001b[1;33m\u001b[0m\u001b[0m\n\u001b[0m",
        "\u001b[1;31mStopIteration\u001b[0m: "
       ]
      }
     ],
     "prompt_number": 37
    },
    {
     "cell_type": "markdown",
     "metadata": {
      "slideshow": {
       "slide_type": "slide"
      }
     },
     "source": [
      "## Where is the magic?\n",
      "\n",
      "When a generator function calls `yield`, the \"state\" of the *generator function* is frozen."
     ]
    },
    {
     "cell_type": "markdown",
     "metadata": {
      "slideshow": {
       "slide_type": "fragment"
      }
     },
     "source": [
      "The values of all variables are saved and the next line of code to be executed is recorded until `next()` is called again."
     ]
    },
    {
     "cell_type": "markdown",
     "metadata": {
      "slideshow": {
       "slide_type": "fragment"
      }
     },
     "source": [
      "If `next()` is never called again, the state recorded during the `yield` call is (eventually) discarded. "
     ]
    },
    {
     "cell_type": "markdown",
     "metadata": {
      "slideshow": {
       "slide_type": "slide"
      }
     },
     "source": [
      "## Let's rewrite `get_primes`\n",
      "\n",
      "Using a simple `while` loop, we can create our own infinite sequence:"
     ]
    },
    {
     "cell_type": "code",
     "collapsed": false,
     "input": [
      "def get_primes(number):\n",
      "    while True:\n",
      "        if is_prime(number):\n",
      "            yield number\n",
      "        number += 1"
     ],
     "language": "python",
     "metadata": {
      "slideshow": {
       "slide_type": "fragment"
      }
     },
     "outputs": [],
     "prompt_number": 19
    },
    {
     "cell_type": "markdown",
     "metadata": {
      "slideshow": {
       "slide_type": "fragment"
      }
     },
     "source": [
      "If a *generator function* calls `return` or reaches the end its definition, a `StopIteration` exception is raised."
     ]
    },
    {
     "cell_type": "markdown",
     "metadata": {
      "slideshow": {
       "slide_type": "fragment"
      }
     },
     "source": [
      "The `while` loop is there to make sure we never reach the end of `get_primes`. "
     ]
    },
    {
     "cell_type": "markdown",
     "metadata": {
      "slideshow": {
       "slide_type": "fragment"
      }
     },
     "source": [
      "This is a common idiom when dealing with infinite series (and *generators* in general)."
     ]
    },
    {
     "cell_type": "markdown",
     "metadata": {
      "slideshow": {
       "slide_type": "notes"
      }
     },
     "source": [
      "This signals to whoever was calling `next()` that the *generator* is exhausted (this is normal *iterator* behavior). \n",
      "\n",
      "It is also the reason the `while True`: loop is present in `get_primes`.\n",
      "\n",
      "If it weren't, the first time `next()` was called we would check if the number is prime and possibly yield it. \n",
      "If `next()` were called again, we would uselessly add `1` to number and hit the end of the *generator function* (causing `StopIteration` to be raised). \n",
      "\n",
      "Once a *generator* has been exhausted, calling `next()` on it will result in an error, so you can only consume all the values of a *generator* once."
     ]
    },
    {
     "cell_type": "code",
     "collapsed": false,
     "input": [
      "our_generator = simple_generator_function()\n",
      "for value in our_generator:\n",
      "    print(value)"
     ],
     "language": "python",
     "metadata": {
      "slideshow": {
       "slide_type": "subslide"
      }
     },
     "outputs": [
      {
       "output_type": "stream",
       "stream": "stdout",
       "text": [
        "1\n",
        "2\n",
        "3\n"
       ]
      }
     ],
     "prompt_number": 12
    },
    {
     "cell_type": "code",
     "collapsed": false,
     "input": [
      "print(next(our_generator))"
     ],
     "language": "python",
     "metadata": {
      "slideshow": {
       "slide_type": "fragment"
      }
     },
     "outputs": [
      {
       "ename": "StopIteration",
       "evalue": "",
       "output_type": "pyerr",
       "traceback": [
        "\u001b[1;31m---------------------------------------------------------------------------\u001b[0m\n\u001b[1;31mStopIteration\u001b[0m                             Traceback (most recent call last)",
        "\u001b[1;32m<ipython-input-13-834439ef347e>\u001b[0m in \u001b[0;36m<module>\u001b[1;34m()\u001b[0m\n\u001b[1;32m----> 1\u001b[1;33m \u001b[0mprint\u001b[0m\u001b[1;33m(\u001b[0m\u001b[0mnext\u001b[0m\u001b[1;33m(\u001b[0m\u001b[0mour_generator\u001b[0m\u001b[1;33m)\u001b[0m\u001b[1;33m)\u001b[0m\u001b[1;33m\u001b[0m\u001b[0m\n\u001b[0m",
        "\u001b[1;31mStopIteration\u001b[0m: "
       ]
      }
     ],
     "prompt_number": 13
    },
    {
     "cell_type": "code",
     "collapsed": false,
     "input": [
      "# however, we can always create a new generator\n",
      "# by calling the generator function again...\n",
      "\n",
      "new_generator = simple_generator_function()\n",
      "print(next(new_generator)) # perfectly valid"
     ],
     "language": "python",
     "metadata": {
      "slideshow": {
       "slide_type": "subslide"
      }
     },
     "outputs": [
      {
       "output_type": "stream",
       "stream": "stdout",
       "text": [
        "1\n"
       ]
      }
     ],
     "prompt_number": 14
    },
    {
     "cell_type": "markdown",
     "metadata": {
      "slideshow": {
       "slide_type": "slide"
      }
     },
     "source": [
      "## Visualizing the flow\n",
      "\n",
      "Let's write a function that uses `get_primes`"
     ]
    },
    {
     "cell_type": "code",
     "collapsed": false,
     "input": [
      "def get_primes(number):\n",
      "    while True:\n",
      "        if is_prime(number):\n",
      "            yield number\n",
      "        number += 1\n",
      "\n",
      "def solve_number_10():\n",
      "    # She *is* working on Project Euler #10, I knew it!\n",
      "    total = 2\n",
      "    for next_prime in get_primes(3):\n",
      "        if next_prime < 2000000:\n",
      "            total += next_prime\n",
      "        else:\n",
      "            print(total)\n",
      "            return\n",
      "\n",
      "solve_number_10()"
     ],
     "language": "python",
     "metadata": {
      "slideshow": {
       "slide_type": "fragment"
      }
     },
     "outputs": [
      {
       "output_type": "stream",
       "stream": "stdout",
       "text": [
        "142913828922\n"
       ]
      }
     ],
     "prompt_number": 22
    },
    {
     "cell_type": "raw",
     "metadata": {
      "slideshow": {
       "slide_type": "notes"
      }
     },
     "source": [
      "It's helpful to visualize how the first few elements are created when we call get_primes in solve_number_10's for loop. \n",
      "\n",
      "When the for loop requests the first value from get_primes, we enter get_primes as we would in a normal function.\n",
      "\n",
      "    We enter the while loop on line 3\n",
      "    The if condition holds (3 is prime)\n",
      "    We yield the value 3 and control to solve_number_10.\n",
      "\n",
      "Then, back in solve_number_10:\n",
      "\n",
      "    The value 3 is passed back to the for loop\n",
      "    The for loop assigns next_prime to this value\n",
      "    next_prime is added to total\n",
      "    The for loop requests the next element from get_primes\n",
      "\n",
      "This time, though, instead of entering get_primes back at the top, we resume at line 5, where we left off.\n",
      "\n",
      "Most importantly, number still has the same value it did when we called yield (i.e. 3). Remember, yield both passes a value to whoever called next(), and saves the \"state\" of the generator function. Clearly, then, number is incremented to 4, we hit the top of the while loop, and keep incrementing number until we hit the next prime number (5). Again we yield the value of number to the for loop in solve_number_10. This cycle continues until the for loop stops (at the first prime greater than 2,000,000)."
     ]
    },
    {
     "cell_type": "markdown",
     "metadata": {
      "slideshow": {
       "slide_type": "slide"
      }
     },
     "source": [
      "## More Magic!\n",
      "\n",
      "In [PEP 342](http://legacy.python.org/dev/peps/pep-0342/), support was added for passing values into generators."
     ]
    },
    {
     "cell_type": "markdown",
     "metadata": {
      "slideshow": {
       "slide_type": "fragment"
      }
     },
     "source": [
      "PEP 342 gave generators the power to yield a value (as before), receive a value, or both yield a value and receive a (possibly different) value in a single statement."
     ]
    },
    {
     "cell_type": "markdown",
     "metadata": {
      "slideshow": {
       "slide_type": "subslide"
      }
     },
     "source": [
      "Let's return to our prime number example. "
     ]
    },
    {
     "cell_type": "markdown",
     "metadata": {
      "slideshow": {
       "slide_type": "fragment"
      }
     },
     "source": [
      "We'll find the smallest prime number greater than successive powers of a number (i.e. for 10, we want the smallest prime greater than 10, then 100, then 1000, etc.)."
     ]
    },
    {
     "cell_type": "code",
     "collapsed": false,
     "input": [
      "def print_successive_primes(iterations, base=10):\n",
      "    # like normal functions, a generator function\n",
      "    # can be assigned to a variable\n",
      "\n",
      "    prime_generator = get_primes(base)\n",
      "    # missing code...\n",
      "    for power in range(iterations):\n",
      "        # missing code...\n",
      "\n",
      "def get_primes(number):\n",
      "    while True:\n",
      "        if is_prime(number):\n",
      "        # ... what goes here?"
     ],
     "language": "python",
     "metadata": {
      "slideshow": {
       "slide_type": "fragment"
      }
     },
     "outputs": []
    },
    {
     "cell_type": "markdown",
     "metadata": {
      "slideshow": {
       "slide_type": "subslide"
      }
     },
     "source": [
      "`other = yield foo` means, \"yield foo and, when a value is sent to me, set other to that value.\""
     ]
    },
    {
     "cell_type": "code",
     "collapsed": false,
     "input": [
      "def get_primes(number):\n",
      "    while True:\n",
      "        if is_prime(number):\n",
      "            number = yield number\n",
      "        number += 1"
     ],
     "language": "python",
     "metadata": {
      "slideshow": {
       "slide_type": "fragment"
      }
     },
     "outputs": [],
     "prompt_number": 23
    },
    {
     "cell_type": "markdown",
     "metadata": {
      "slideshow": {
       "slide_type": "subslide"
      }
     },
     "source": [
      "You can \"send\" values to a *generator* using the generator's `send` method."
     ]
    },
    {
     "cell_type": "markdown",
     "metadata": {
      "slideshow": {
       "slide_type": "fragment"
      }
     },
     "source": [
      "In this way, we can set `number` to a different value each time the generator `yield`s."
     ]
    },
    {
     "cell_type": "markdown",
     "metadata": {
      "slideshow": {
       "slide_type": "subslide"
      }
     },
     "source": [
      "We can now fill in the missing code in `print_successive_primes`:"
     ]
    },
    {
     "cell_type": "code",
     "collapsed": false,
     "input": [
      "def print_successive_primes(iterations, base=10):\n",
      "    prime_generator = get_primes(base)\n",
      "    prime_generator.send(None)\n",
      "    for power in range(iterations):\n",
      "        print(prime_generator.send(base ** power))"
     ],
     "language": "python",
     "metadata": {
      "slideshow": {
       "slide_type": "subslide"
      }
     },
     "outputs": [],
     "prompt_number": 28
    },
    {
     "cell_type": "markdown",
     "metadata": {
      "slideshow": {
       "slide_type": "fragment"
      }
     },
     "source": [
      "`send` both sends a value to the *generator* and returns the value yielded by the *generator* ."
     ]
    },
    {
     "cell_type": "markdown",
     "metadata": {
      "slideshow": {
       "slide_type": "fragment"
      }
     },
     "source": [
      "When you're using send to \"start\" a *generator* (that is, execute the code from the first line of the generator function up to the first yield statement), you must send None. "
     ]
    },
    {
     "cell_type": "markdown",
     "metadata": {
      "slideshow": {
       "slide_type": "fragment"
      }
     },
     "source": [
      "This makes sense, since by definition the *generator* hasn't gotten to the first `yield` statement yet, so if we sent a real value there would be nothing to \"receive\" it."
     ]
    },
    {
     "cell_type": "code",
     "collapsed": false,
     "input": [
      "print_successive_primes(10, base=2)"
     ],
     "language": "python",
     "metadata": {
      "slideshow": {
       "slide_type": "subslide"
      }
     },
     "outputs": [
      {
       "output_type": "stream",
       "stream": "stdout",
       "text": [
        "2\n",
        "3\n",
        "5\n",
        "11\n",
        "17\n",
        "37\n",
        "67\n",
        "131\n",
        "257\n",
        "521\n"
       ]
      }
     ],
     "prompt_number": 30
    },
    {
     "cell_type": "markdown",
     "metadata": {
      "slideshow": {
       "slide_type": "slide"
      }
     },
     "source": [
      "## This hasn't even started yet..."
     ]
    },
    {
     "cell_type": "code",
     "collapsed": false,
     "input": [
      "import random\n",
      "\n",
      "def get_data():\n",
      "    \"\"\"Return 3 random integers between 0 and 9\"\"\"\n",
      "    return random.sample(range(10), 3)\n",
      "\n",
      "def consume():\n",
      "    \"\"\"Displays a running average across lists of \n",
      "    integers sent to it\n",
      "    \"\"\"\n",
      "    running_sum = 0\n",
      "    data_items_seen = 0\n",
      "\n",
      "    while True:\n",
      "        data = yield\n",
      "        data_items_seen += len(data)\n",
      "        running_sum += sum(data)\n",
      "        avg = running_sum / float(data_items_seen)\n",
      "        print('The running average is {}'.format(avg))\n",
      "\n",
      "def produce(consumer):\n",
      "    \"\"\"Produces a set of values and forwards them to the \n",
      "    pre-defined consumer function\n",
      "    \"\"\"\n",
      "    while True:\n",
      "        data = get_data()\n",
      "        print('Produced {}'.format(data))\n",
      "        consumer.send(data)\n",
      "        yield"
     ],
     "language": "python",
     "metadata": {
      "slideshow": {
       "slide_type": "subslide"
      }
     },
     "outputs": [],
     "prompt_number": 27
    },
    {
     "cell_type": "code",
     "collapsed": false,
     "input": [
      "if __name__ == '__main__':\n",
      "    consumer = consume()\n",
      "    consumer.send(None)\n",
      "    producer = produce(consumer)\n",
      "\n",
      "    for _ in range(10):\n",
      "        print('Producing...')\n",
      "        next(producer)"
     ],
     "language": "python",
     "metadata": {
      "slideshow": {
       "slide_type": "subslide"
      }
     },
     "outputs": [
      {
       "output_type": "stream",
       "stream": "stdout",
       "text": [
        "Producing...\n",
        "Produced [7, 0, 2]\n",
        "The running average is 3.0\n",
        "Producing...\n",
        "Produced [1, 9, 2]\n",
        "The running average is 3.5\n",
        "Producing...\n",
        "Produced [3, 1, 6]\n",
        "The running average is 3.4444444444444446\n",
        "Producing...\n",
        "Produced [8, 3, 9]\n",
        "The running average is 4.25\n",
        "Producing...\n",
        "Produced [4, 2, 3]\n",
        "The running average is 4.0\n",
        "Producing...\n",
        "Produced [5, 1, 7]\n",
        "The running average is 4.055555555555555\n",
        "Producing...\n",
        "Produced [6, 3, 0]\n",
        "The running average is 3.9047619047619047\n",
        "Producing...\n",
        "Produced [3, 2, 5]\n",
        "The running average is 3.8333333333333335\n",
        "Producing...\n",
        "Produced [7, 6, 5]\n",
        "The running average is 4.074074074074074\n",
        "Producing...\n",
        "Produced [2, 9, 4]\n",
        "The running average is 4.166666666666667\n"
       ]
      }
     ],
     "prompt_number": 26
    },
    {
     "cell_type": "markdown",
     "metadata": {
      "slideshow": {
       "slide_type": "slide"
      }
     },
     "source": [
      "### Python Level 3"
     ]
    },
    {
     "cell_type": "code",
     "collapsed": false,
     "input": [
      "from functools import wraps\n",
      "\n",
      "def pumped(gen):\n",
      "    @wraps(gen)\n",
      "    def inner(*args, **kwargs):\n",
      "        g = gen(*args, **kwargs)\n",
      "        next(g)\n",
      "        return g.send\n",
      "    return inner\n",
      "\n",
      "\n",
      "@pumped\n",
      "def predicate(x, state=0, constraint=lambda _, __: True):\n",
      "    values = []\n",
      "    value = yield\n",
      "    while True:\n",
      "        if state+value <= x and constraint(values, value): # take values until you exceed the maximum\n",
      "            state += value\n",
      "            value = yield True\n",
      "            values.append(value)\n",
      "        else:\n",
      "            value = yield False"
     ],
     "language": "python",
     "metadata": {
      "slideshow": {
       "slide_type": "subslide"
      }
     },
     "outputs": [],
     "prompt_number": 31
    },
    {
     "cell_type": "code",
     "collapsed": false,
     "input": [
      "items = [[1, 2, 3, 4, 5, 6], [10, 11, 12, 13, 14]]\n",
      "\n",
      "from itertools import repeat, chain, takewhile\n",
      "greedy = lambda items, predicate: chain.from_iterable(takewhile(predicate,repeat(x)) for x in items)"
     ],
     "language": "python",
     "metadata": {
      "slideshow": {
       "slide_type": "fragment"
      }
     },
     "outputs": []
    },
    {
     "cell_type": "markdown",
     "metadata": {
      "slideshow": {
       "slide_type": "slide"
      }
     },
     "source": [
      "## Summary\n",
      "\n",
      "*generators* are used to generate a series of values"
     ]
    },
    {
     "cell_type": "markdown",
     "metadata": {
      "slideshow": {
       "slide_type": "fragment"
      }
     },
     "source": [
      "`yield` is like the return of *generator functions*"
     ]
    },
    {
     "cell_type": "markdown",
     "metadata": {
      "slideshow": {
       "slide_type": "fragment"
      }
     },
     "source": [
      "The only other thing `yield` does is save the \"state\" of a *generator function*"
     ]
    },
    {
     "cell_type": "markdown",
     "metadata": {
      "slideshow": {
       "slide_type": "fragment"
      }
     },
     "source": [
      "A *generator* is a special type of *iterator*"
     ]
    },
    {
     "cell_type": "markdown",
     "metadata": {
      "slideshow": {
       "slide_type": "fragment"
      }
     },
     "source": [
      "Like *iterators*, we can get the next value from a generator using `next()`"
     ]
    },
    {
     "cell_type": "markdown",
     "metadata": {
      "slideshow": {
       "slide_type": "fragment"
      }
     },
     "source": [
      "`for` gets values by calling `next()` implicitly"
     ]
    },
    {
     "cell_type": "markdown",
     "metadata": {
      "slideshow": {
       "slide_type": "slide"
      }
     },
     "source": [
      "## References\n",
      "\n",
      "http://www.jeffknupp.com/blog/2013/04/07/improve-your-python-yield-and-generators-explained/"
     ]
    }
   ],
   "metadata": {}
  }
 ]
}