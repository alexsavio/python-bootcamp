{
 "metadata": {
  "name": "",
  "signature": "sha256:64862c644e4f4eb2cbbd728ac121eb4457095b5b9a5499b38a1c279535c29a21"
 },
 "nbformat": 3,
 "nbformat_minor": 0,
 "worksheets": [
  {
   "cells": [
    {
     "cell_type": "markdown",
     "metadata": {},
     "source": [
      "<small><i>This notebook was put together by Morgan Fouesneau for UW's [Astro 599](http://www.astro.washington.edu/users/vanderplas/Astr599/) course. Source and license info is on [GitHub](https://github.com/jakevdp/2013_fall_ASTR599/).</i></small>"
     ]
    },
    {
     "cell_type": "markdown",
     "metadata": {},
     "source": [
      "# Object-oriented programming: Principles in 1h by Examples\n",
      "-- **M. Fouesneau** \n",
      "[ morgan.fouesneau@astro.washington.edu ]\n",
      "\n",
      "Astro599 ( http://www.astro.washington.edu/users/vanderplas/Astr599/schedule )\n",
      "\n",
      "Prezi presentation is available at: http://bit.ly/18FylbC"
     ]
    },
    {
     "cell_type": "code",
     "collapsed": false,
     "input": [
      "# make sure pylab runs inline when using the notebook\n",
      "%pylab inline  \n",
      "import numpy as np\n",
      "import pylab as plt"
     ],
     "language": "python",
     "metadata": {},
     "outputs": [
      {
       "output_type": "stream",
       "stream": "stdout",
       "text": [
        "Populating the interactive namespace from numpy and matplotlib\n"
       ]
      }
     ],
     "prompt_number": 1
    },
    {
     "cell_type": "code",
     "collapsed": false,
     "input": [
      "def ezrc(fontSize=22., lineWidth=2., labelSize=None, tickmajorsize=10, tickminorsize=5):\n",
      "    \"\"\"\n",
      "    slides - Define params to make pretty fig for slides\n",
      "    \"\"\"\n",
      "    from pylab import rc, rcParams\n",
      "    if labelSize is None:\n",
      "        labelSize = fontSize + 5\n",
      "    rc('figure', figsize=(9, 7))\n",
      "    #rc('figure', figsize=(8, 6))\n",
      "    rc('lines', linewidth=lineWidth)\n",
      "    rcParams['grid.linewidth'] = lineWidth\n",
      "    rc('font', size=fontSize, family='serif', weight='small')\n",
      "    rc('axes', linewidth=lineWidth, labelsize=labelSize)\n",
      "    rc('legend', borderpad=0.1, markerscale=1., fancybox=False)\n",
      "    #rc('text', usetex=True)\n",
      "    rc('image', aspect='auto')\n",
      "    #rc('ps', useafm=True, fonttype=3)\n",
      "    rcParams['xtick.major.size'] = tickmajorsize\n",
      "    rcParams['xtick.minor.size'] = tickminorsize\n",
      "    rcParams['ytick.major.size'] = tickmajorsize\n",
      "    rcParams['ytick.minor.size'] = tickminorsize\n",
      "    \n",
      "ezrc(20) # making figures cleaner for slides"
     ],
     "language": "python",
     "metadata": {},
     "outputs": [],
     "prompt_number": 2
    },
    {
     "cell_type": "markdown",
     "metadata": {},
     "source": [
      "## In python All is objects"
     ]
    },
    {
     "cell_type": "markdown",
     "metadata": {},
     "source": [
      "**Text is object**"
     ]
    },
    {
     "cell_type": "code",
     "collapsed": false,
     "input": [
      "s = 'some text'"
     ],
     "language": "python",
     "metadata": {},
     "outputs": [],
     "prompt_number": 3
    },
    {
     "cell_type": "code",
     "collapsed": false,
     "input": [
      "s.upper()"
     ],
     "language": "python",
     "metadata": {},
     "outputs": [
      {
       "metadata": {},
       "output_type": "pyout",
       "prompt_number": 4,
       "text": [
        "'SOME TEXT'"
       ]
      }
     ],
     "prompt_number": 4
    },
    {
     "cell_type": "markdown",
     "metadata": {},
     "source": [
      "**Modules are objects**"
     ]
    },
    {
     "cell_type": "code",
     "collapsed": false,
     "input": [
      "import numpy as np\n",
      "np"
     ],
     "language": "python",
     "metadata": {},
     "outputs": [
      {
       "metadata": {},
       "output_type": "pyout",
       "prompt_number": 5,
       "text": [
        "<module 'numpy' from '/Users/jakevdp/anaconda/python.app/Contents/lib/python2.7/site-packages/numpy/__init__.pyc'>"
       ]
      }
     ],
     "prompt_number": 5
    },
    {
     "cell_type": "code",
     "collapsed": false,
     "input": [
      "type(np)"
     ],
     "language": "python",
     "metadata": {},
     "outputs": [
      {
       "metadata": {},
       "output_type": "pyout",
       "prompt_number": 6,
       "text": [
        "module"
       ]
      }
     ],
     "prompt_number": 6
    },
    {
     "cell_type": "code",
     "collapsed": false,
     "input": [
      "np.__name__"
     ],
     "language": "python",
     "metadata": {},
     "outputs": [
      {
       "metadata": {},
       "output_type": "pyout",
       "prompt_number": 7,
       "text": [
        "'numpy'"
       ]
      }
     ],
     "prompt_number": 7
    },
    {
     "cell_type": "code",
     "collapsed": false,
     "input": [
      "np.__class__"
     ],
     "language": "python",
     "metadata": {},
     "outputs": [
      {
       "metadata": {},
       "output_type": "pyout",
       "prompt_number": 8,
       "text": [
        "module"
       ]
      }
     ],
     "prompt_number": 8
    },
    {
     "cell_type": "code",
     "collapsed": false,
     "input": [
      "print np.__dict__.keys()   # we'll see __dict__ later"
     ],
     "language": "python",
     "metadata": {},
     "outputs": [
      {
       "output_type": "stream",
       "stream": "stdout",
       "text": [
        "['disp', 'union1d', 'all', 'issubsctype', 'savez', 'atleast_2d', 'restoredot', 'ptp', 'unicode_', 'ix_', 'mirr', 'blackman', 'FLOATING_POINT_SUPPORT', 'busdaycalendar', 'pkgload', 'void', 'unicode0', 'ERR_RAISE', 'void0', 'tri', 'diag_indices', 'array_equal', 'fmod', 'True_', 'indices', 'loads', 'round', 'set_numeric_ops', 'pmt', '_mat', 'cosh', 'object0', 'rate', 'FPE_OVERFLOW', 'index_exp', 'append', 'compat', 'nanargmax', 'hstack', 'typename', 'diag', 'rollaxis', 'ERR_WARN', 'polyfit', 'version', 'memmap', 'nan_to_num', 'complex64', 'fmax', 'spacing', 'sinh', '__git_revision__', 'PackageLoader', 'sinc', 'trunc', 'vstack', 'ERR_PRINT', 'asscalar', 'less_equal', 'BUFSIZE', 'object_', 'divide', 'csingle', 'dtype', 'unsignedinteger', 'fastCopyAndTranspose', 'bitwise_and', 'uintc', 'select', 'deg2rad', 'bytes_', 'eye', 'kron', 'newbuffer', 'negative', 'busday_offset', 'mintypecode', 'MAXDIMS', 'sort', 'einsum', 'uint0', 'zeros_like', 'int_asbuffer', 'uint8', 'chararray', 'linspace', 'resize', 'uint64', 'ma', 'true_divide', 'Inf', 'finfo', 'triu_indices', 'infty', 'add_newdoc', 'seterrcall', 'logical_or', 'minimum', 'WRAP', 'tan', 'absolute', 'array_repr', 'get_array_wrap', 'polymul', 'tile', 'array_str', 'setdiff1d', 'sin', 'longlong', 'product', 'int16', 'str_', 'mat', 'fv', 'max', 'asanyarray', 'uint', 'npv', 'logaddexp', 'flatnonzero', 'short', 'correlate', 'fromstring', 'left_shift', 'searchsorted', 'int64', 'may_share_memory', 'dsplit', 'intersect1d', 'can_cast', 'ppmt', 'show_config', 'cumsum', 'roots', 'outer', 'CLIP', 'fix', 'busday_count', 'timedelta64', 'degrees', 'choose', 'FPE_INVALID', 'recfromcsv', 'fill_diagonal', 'empty_like', 'logaddexp2', 'greater', 'histogram2d', 'polyint', 'rank', 'datetime64', 'complexfloating', 'ndindex', 'ctypeslib', 'PZERO', 'isfortran', 'asfarray', 'radians', 'fliplr', 'alen', 'recarray', 'modf', 'mean', 'square', 'ogrid', 'nanargmin', 'r_', 'diag_indices_from', 'hanning', 's_', 'allclose', 'extract', 'float16', 'ulonglong', 'matrix', 'asarray', 'poly1d', 'promote_types', 'rec', 'datetime_as_string', 'uint32', 'math', 'log2', '__builtins__', 'cumproduct', 'diagonal', 'atleast_1d', 'meshgrid', 'transpose', 'column_stack', 'put', 'byte', 'remainder', 'row_stack', 'expm1', 'nper', 'ndfromtxt', 'place', 'DataSource', 'newaxis', 'arccos', 'signedinteger', 'ndim', 'rint', 'number', 'arctan2', 'little_endian', 'ldexp', 'lookfor', 'array', 'vsplit', 'common_type', 'size', 'logical_xor', 'geterrcall', 'sometrue', 'exp2', 'bool8', 'msort', 'alltrue', 'zeros', 'False_', '__NUMPY_SETUP__', 'nansum', 'bool_', 'inexact', 'broadcast', 'copyto', 'amin', 'arctanh', 'typecodes', 'rot90', 'savetxt', 'sign', 'sctypes', 'std', 'not_equal', 'fromfunction', 'tril_indices_from', '__config__', 'double', 'require', 'typeNA', 'str', 'getbuffer', 'abs', 'clip', 'savez_compressed', 'frompyfunc', 'triu_indices_from', 'conjugate', 'alterdot', 'asfortranarray', 'binary_repr', 'angle', 'lib', 'min', 'unwrap', 'apply_over_axes', 'ERR_LOG', 'right_shift', 'take', 'get_numarray_include', 'trace', 'warnings', 'any', 'who', 'compress', 'histogramdd', 'issubclass_', 'multiply', 'mask_indices', 'amax', 'logical_not', 'average', 'nan', 'nbytes', 'exp', 'result_type', 'dot', 'maximum_sctype', 'longfloat', 'random', 'setxor1d', 'copy', 'FPE_UNDERFLOW', 'frexp', 'errstate', 'nanmin', 'swapaxes', 'SHIFT_OVERFLOW', 'complex256', 'fft', 'digitize', '__file__', 'NZERO', 'ceil', 'ones', 'add_newdoc_ufunc', 'deprecate', 'median', 'geterr', 'convolve', 'isreal', 'where', 'isfinite', 'SHIFT_UNDERFLOW', 'MachAr', 'argmax', 'testing', 'deprecate_with_doc', 'polyder', 'rad2deg', 'isnan', '__all__', 'irr', 'sctypeDict', 'NINF', 'min_scalar_type', 'count_nonzero', 'sort_complex', 'nested_iters', 'concatenate', 'ERR_DEFAULT2', 'vdot', 'bincount', 'copysign', 'array2string', 'corrcoef', 'fromregex', 'vectorize', 'set_printoptions', 'trim_zeros', 'unravel_index', 'cos', 'float64', 'arccosh', 'ushort', 'equal', 'cumprod', 'float_', 'vander', 'geterrobj', 'load', 'fromiter', 'poly', 'bitwise_or', 'polynomial', 'diff', 'iterable', 'array_split', 'get_include', 'pv', 'tensordot', 'piecewise', 'invert', 'UFUNC_PYVALS_NAME', 'SHIFT_INVALID', 'ubyte', 'c_', 'flexible', 'pi', '__doc__', 'empty', 'find_common_type', 'isposinf', 'arcsin', 'sctypeNA', 'imag', 'sctype2char', 'singlecomplex', 'SHIFT_DIVIDEBYZERO', 'matrixlib', 'apply_along_axis', 'reciprocal', 'tanh', 'dstack', 'cov', 'cast', 'logspace', 'packbits', 'issctype', 'mgrid', 'longdouble', 'signbit', 'conj', 'asmatrix', 'inf', 'flatiter', 'bitwise_xor', 'fabs', 'generic', 'reshape', 'NaN', 'cross', 'sqrt', '__package__', 'longcomplex', 'complex', 'pad', 'split', 'floor_divide', '__version__', 'format_parser', 'nextafter', 'polyval', 'flipud', 'i0', 'iscomplexobj', 'mafromtxt', 'bartlett', 'polydiv', 'identity', 'safe_eval', 'greater_equal', 'floor', 'trapz', 'PINF', 'recfromtxt', 'add_newdocs', 'RankWarning', 'ascontiguousarray', 'less', 'putmask', 'UFUNC_BUFSIZE_DEFAULT', 'unicode', 'half', 'NAN', 'typeDict', '__path__', 'shape', 'setbufsize', 'cfloat', 'RAISE', 'isscalar', 'character', 'bench', 'source', 'add', 'uint16', 'bool', 'ufunc', 'save', 'ravel', 'float32', 'real', 'int32', 'tril_indices', 'around', 'lexsort', 'complex_', 'ComplexWarning', 'ipmt', '_import_tools', 'atleast_3d', 'isneginf', 'integer', 'unique', 'mod', 'insert', 'bitwise_not', 'getbufsize', 'array_equiv', 'get_printoptions', 'asarray_chkfinite', 'in1d', 'interp', 'hypot', 'logical_and', 'arange', 'diagflat', 'float128', 'byte_bounds', 'nonzero', 'kaiser', 'polysub', 'fromfile', 'prod', 'nanmax', 'core', 'object', 'seterrobj', 'power', 'nditer', 'percentile', 'FPE_DIVIDEBYZERO', '__name__', 'subtract', 'frombuffer', 'iscomplex', 'add_docstring', 'argsort', 'fmin', 'ones_like', 'is_busday', 'arcsinh', 'intc', 'float', 'ndenumerate', 'intp', 'unpackbits', 'Infinity', 'log', 'cdouble', 'complex128', 'long', 'round_', 'broadcast_arrays', 'inner', 'var', 'int_', 'log10', 'uintp', 'linalg', 'histogram', 'issubdtype', 'int0', 'squeeze', 'int8', 'info', 'seterr', 'argmin', 'genfromtxt', 'maximum', 'record', 'obj2sctype', 'clongdouble', 'sum', 'isrealobj', 'log1p', 'delete', 'tril', 'int', 'ediff1d', 'char', 'single', 'loadtxt', 'ScalarType', 'triu', 'floating', 'expand_dims', 'Tester', 'polyadd', 'ERR_IGNORE', 'emath', 'arctan', 'bmat', 'isclose', 'ERR_DEFAULT', 'test', 'roll', 'string0', 'compare_chararrays', 'iinfo', 'real_if_close', 'repeat', 'hamming', 'ALLOW_THREADS', 'ravel_multi_index', 'string_', 'isinf', 'ndarray', 'e', 'ERR_CALL', 'datetime_data', 'clongfloat', 'hsplit', 'gradient', 'base_repr', 'argwhere', 'set_string_function']\n"
       ]
      }
     ],
     "prompt_number": 9
    },
    {
     "cell_type": "markdown",
     "metadata": {},
     "source": [
      "**Matplotlib of course**"
     ]
    },
    {
     "cell_type": "code",
     "collapsed": false,
     "input": [
      "import pylab as plt\n",
      "plt.plot(range(10))"
     ],
     "language": "python",
     "metadata": {},
     "outputs": [
      {
       "metadata": {},
       "output_type": "pyout",
       "prompt_number": 10,
       "text": [
        "[<matplotlib.lines.Line2D at 0x105ee1d10>]"
       ]
      },
      {
       "metadata": {},
       "output_type": "display_data",
       "png": "[encoded data removed]",
       "text": [
        "<matplotlib.figure.Figure at 0x105eb9b90>"
       ]
      }
     ],
     "prompt_number": 10
    },
    {
     "cell_type": "markdown",
     "metadata": {},
     "source": [
      "`[<matplotlib.lines.Line2D at 0x30c3e90>]`\n",
      "\n",
      "plot returns an instance of a **Line2D object**"
     ]
    },
    {
     "cell_type": "code",
     "collapsed": false,
     "input": [
      "import pylab as plt\n",
      "r = []\n",
      "r.append( plt.plot(range(10)) )\n",
      "r.append( plt.xlabel('measured') )\n",
      "r.append( plt.ylabel('calculated') )\n",
      "r.append( plt.title('Measured vs. calculated') )\n",
      "r.append( plt.grid(True) )\n",
      "print r"
     ],
     "language": "python",
     "metadata": {},
     "outputs": [
      {
       "output_type": "stream",
       "stream": "stdout",
       "text": [
        "[[<matplotlib.lines.Line2D object at 0x10615e750>], <matplotlib.text.Text object at 0x102302910>, <matplotlib.text.Text object at 0x106148e50>, <matplotlib.text.Text object at 0x106151810>, None]\n"
       ]
      },
      {
       "metadata": {},
       "output_type": "display_data",
       "png": "[encoded data removed]",
       "text": [
        "<matplotlib.figure.Figure at 0x105ee98d0>"
       ]
      }
     ],
     "prompt_number": 11
    },
    {
     "cell_type": "code",
     "collapsed": false,
     "input": [
      "import pylab as plt\n",
      "# ------- make a figure ----------------------------\n",
      "plt.plot(range(10))\n",
      "plt.grid(True)\n",
      "\n",
      "# ------- access objects and change them ------------\n",
      "ax = plt.gca()   # gca == get current axis\n",
      "line = ax.lines[0]  \n",
      "line.set_marker('o')\n",
      "line.set_markersize(20)\n",
      "line.set_linewidth(2)\n",
      "plt.setp(line, color='g')  # set property\n",
      "\n",
      "#change the figure style\n",
      "plt.tick_params(which='both', width=2)\n",
      "ax.xaxis.set_ticks_position('bottom')\n",
      "ax.yaxis.set_ticks_position('left')\n",
      "for k, sk in ax.spines.items():\n",
      "    if k in ('top', 'right'):\n",
      "        sk.set_color('None')     \n",
      "    else:\n",
      "        sk.set_position(('outward', 20))\n",
      "        \n",
      "# add labels\n",
      "plt.xlabel('measured') \n",
      "plt.ylabel('calculated') \n",
      "plt.title('Measured vs. calculated')"
     ],
     "language": "python",
     "metadata": {},
     "outputs": [
      {
       "metadata": {},
       "output_type": "pyout",
       "prompt_number": 12,
       "text": [
        "<matplotlib.text.Text at 0x106191390>"
       ]
      },
      {
       "metadata": {},
       "output_type": "display_data",
       "png": "[encoded data removed]",
       "text": [
        "<matplotlib.figure.Figure at 0x10614b490>"
       ]
      }
     ],
     "prompt_number": 12
    },
    {
     "cell_type": "markdown",
     "metadata": {},
     "source": [
      "## Let's make a class Vector"
     ]
    },
    {
     "cell_type": "markdown",
     "metadata": {},
     "source": [
      "The simplest form of class definition looks like this:"
     ]
    },
    {
     "cell_type": "code",
     "collapsed": false,
     "input": [
      "class DummyClass:\n",
      "    pass"
     ],
     "language": "python",
     "metadata": {},
     "outputs": [],
     "prompt_number": 13
    },
    {
     "cell_type": "markdown",
     "metadata": {},
     "source": [
      "Class objects support two kinds of operations: **attribute references** and **methods**.\n",
      "\n",
      "Attribute references use the standard syntax used for all attribute references in Python: `obj.name`. \n",
      "\n",
      "    \n",
      "So, a class definition looked like this:"
     ]
    },
    {
     "cell_type": "code",
     "collapsed": false,
     "input": [
      "class DummyClass(object):\n",
      "    \"\"\"A simple example class\"\"\"\n",
      "    i = 12345\n",
      "    \n",
      "    def __init__(self, val=10):\n",
      "        self.value = val\n",
      "        \n",
      "    def f(self):\n",
      "        return 'hello world'"
     ],
     "language": "python",
     "metadata": {},
     "outputs": [],
     "prompt_number": 30
    },
    {
     "cell_type": "code",
     "collapsed": false,
     "input": [
      "d1 = DummyClass()\n",
      "d1.value"
     ],
     "language": "python",
     "metadata": {},
     "outputs": [
      {
       "metadata": {},
       "output_type": "pyout",
       "prompt_number": 33,
       "text": [
        "10"
       ]
      }
     ],
     "prompt_number": 33
    },
    {
     "cell_type": "markdown",
     "metadata": {},
     "source": [
      "then `DummyClass.i` and `DummyClass.f` are valid attribute references, returning an integer and a function object, respectively."
     ]
    },
    {
     "cell_type": "markdown",
     "metadata": {},
     "source": [
      "### First exercise, make a vector class:\n",
      "\n",
      "**attributes**\n",
      "\n",
      "* x, y, z: 3d coordinates\n",
      "\n",
      "**methods**\n",
      "\n",
      "* sum\n",
      "* scalar product\n",
      "* etc"
     ]
    },
    {
     "cell_type": "markdown",
     "metadata": {},
     "source": [
      "When a class defines an `__init__()` method, class instantiation automatically invokes `__init__()` for the newly-created class instance. So in this example, a new, initialized instance can be obtained by:"
     ]
    },
    {
     "cell_type": "code",
     "collapsed": false,
     "input": [
      "class Vector(object):\n",
      "    \n",
      "    def __init__(self):\n",
      "        pass"
     ],
     "language": "python",
     "metadata": {},
     "outputs": [],
     "prompt_number": 15
    },
    {
     "cell_type": "markdown",
     "metadata": {},
     "source": [
      "**Note**: Often, the first argument of a method is called `self`. \n",
      "This is nothing more than a convention: the name self has absolutely no special meaning to Python. \n",
      "    \n",
      "Note, however, that by not following the convention your code may be less readable to other Python programmers, and it is also conceivable that a class browser program might be written that relies upon such a convention."
     ]
    },
    {
     "cell_type": "code",
     "collapsed": false,
     "input": [
      "class Vector(object):   \n",
      "    def __init__(self, x,y,z): \n",
      "        \"\"\" constructor \"\"\"\n",
      "        pass\n",
      "        \n",
      "    def sum(self, p):       \n",
      "        \"\"\" addition: self+p \"\"\"\n",
      "        pass\n",
      "    \n",
      "    def scalarProd(self,p):\n",
      "        \"\"\" A.B = sum(a[k].b[k]) \"\"\"\n",
      "        pass"
     ],
     "language": "python",
     "metadata": {},
     "outputs": [],
     "prompt_number": 16
    },
    {
     "cell_type": "markdown",
     "metadata": {},
     "source": [
      "A solution:"
     ]
    },
    {
     "cell_type": "code",
     "collapsed": false,
     "input": [
      "class Vector(object):   \n",
      "    def __init__(self, x_val, y_val, z_val): \n",
      "        \"\"\" constructor \"\"\"\n",
      "        self.x = x_val\n",
      "        self.y = y_val\n",
      "        self.z = z_val\n",
      "        \n",
      "    def _sum(self, p):\n",
      "        \"\"\" addition: v = self+p \n",
      "        \n",
      "        Parameters\n",
      "        ----------\n",
      "        p: Vector\n",
      "        \n",
      "        Returns\n",
      "        -------\n",
      "        v: Vector\n",
      "        Sum of self and p\n",
      "        \"\"\"\n",
      "        v = Vector(self.x, self.y, self.z)\n",
      "\n",
      "        v.x += p.x\n",
      "        v.y += p.y\n",
      "        v.z += p.z\n",
      "        \n",
      "        return v\n",
      "        \n",
      "    \n",
      "    def scalarProd(self, p):\n",
      "        \"\"\" A.B = sum(a[k].b[k]) \n",
      "        Parameters\n",
      "        ----------\n",
      "        p: Vector\n",
      "        \n",
      "        Returns\n",
      "        -------\n",
      "        v: scalar\n",
      "        \"\"\"\n",
      "        return sum([self.x * p.x, self.y * p.y, self.z * p.z])\n",
      "    \n",
      "    def __repr__(self):\n",
      "        return 'Vector({}, {}, {})'.format(self.x, self.y, self.z)\n",
      "        #return 'Vector(%f, %f, %f)'%(self.x, self.y, self.z)\n",
      "        \n",
      "    def __add__(self, p):\n",
      "        return self.sum(p)\n",
      "    \n",
      "    def generic(self, *args, **kwargs):\n",
      "        self.x = kwargs.get('x_val', 10)\n",
      "        \n",
      "        print(args[0])\n",
      "        print(args)\n",
      "        print(kwargs)\n",
      "    \n",
      "    @classmethod\n",
      "    def sum_a_y_b(cls, a, b):\n",
      "        suma = cls(a.x, a.y, b.y)\n",
      "        \n",
      "        return suma.sum(b)\n",
      "    \n",
      "    @property\n",
      "    def time(self):\n",
      "        return self.y"
     ],
     "language": "python",
     "metadata": {},
     "outputs": [],
     "prompt_number": 97
    },
    {
     "cell_type": "code",
     "collapsed": false,
     "input": [
      "x = Vector(1, 0, 0)\n",
      "y = Vector(0, 1, 0)\n",
      "z = Vector(0, 0, 1)\n",
      "\n",
      "print (\"x.y = \", x.scalarProd(y))\n",
      "\n",
      "#x.generic(10, 'kaka', z_val=20, y_val='hola')\n",
      "#print(x)\n",
      "x.sum_a_y_b(y, z)\n",
      "x.x"
     ],
     "language": "python",
     "metadata": {},
     "outputs": [
      {
       "output_type": "stream",
       "stream": "stdout",
       "text": [
        "x.y =  0\n"
       ]
      },
      {
       "metadata": {},
       "output_type": "pyout",
       "prompt_number": 99,
       "text": [
        "1"
       ]
      }
     ],
     "prompt_number": 99
    },
    {
     "cell_type": "code",
     "collapsed": false,
     "input": [
      "import inspect\n",
      "i = 10\n",
      "i.__mul__"
     ],
     "language": "python",
     "metadata": {},
     "outputs": [
      {
       "metadata": {},
       "output_type": "pyout",
       "prompt_number": 72,
       "text": [
        "<method-wrapper '__mul__' of int object at 0x9f8920>"
       ]
      }
     ],
     "prompt_number": 72
    },
    {
     "cell_type": "markdown",
     "metadata": {},
     "source": [
      "`object.__repr__(self)`\n",
      "\n",
      "Called by the `repr()` built-in function and by string conversions (reverse quotes) to compute the \"official\" string representation of an object. \n",
      "\n",
      "`object.__str__(self)`\n",
      "\n",
      "Called by the `str()` built-in function and by the print statement to compute the \"informal\" string representation of an object. \n",
      "\n",
      "\n",
      "http://docs.python.org/2/reference/datamodel.html"
     ]
    },
    {
     "cell_type": "code",
     "collapsed": false,
     "input": [
      "class Vector(object):   \n",
      "    \n",
      "    # your previous solution\n",
      "    \n",
      "    def __str__(self):\n",
      "        # your solution here"
     ],
     "language": "python",
     "metadata": {},
     "outputs": []
    },
    {
     "cell_type": "code",
     "collapsed": false,
     "input": [
      "x = Vector(1, 0, 0)\n",
      "y = Vector(0, 1, 0)\n",
      "z = Vector(0, 0, 1)\n",
      "\n",
      "print \"x.y = \", x.scalarProd(y)\n",
      "print x"
     ],
     "language": "python",
     "metadata": {},
     "outputs": []
    },
    {
     "cell_type": "markdown",
     "metadata": {},
     "source": [
      "What about checking that $x^2 + y^2 + 2\\cdot x \\cdot y = (x + y) ^ 2$"
     ]
    },
    {
     "cell_type": "code",
     "collapsed": false,
     "input": [
      "x.scalarProd(x) + y.scalarProd(y)\n",
      "x.scalarProd(x) + y.scalarProd(y) + 2 * x.scalarProd(y) == x.sum(y).scalarProd(x.sum(y))"
     ],
     "language": "python",
     "metadata": {},
     "outputs": [
      {
       "metadata": {},
       "output_type": "pyout",
       "prompt_number": 64,
       "text": [
        "True"
       ]
      }
     ],
     "prompt_number": 64
    },
    {
     "cell_type": "code",
     "collapsed": false,
     "input": [
      "x ** 2 + y ** 2 + 2 * x * y == (x + y) ** 2"
     ],
     "language": "python",
     "metadata": {},
     "outputs": []
    },
    {
     "cell_type": "markdown",
     "metadata": {},
     "source": [
      "Implement common operators `__add__`, `__sub__`, `__mul__`, ...\n",
      "see http://docs.python.org/2/reference/datamodel.html"
     ]
    },
    {
     "cell_type": "code",
     "collapsed": false,
     "input": [
      "# put the new version of your class here"
     ],
     "language": "python",
     "metadata": {},
     "outputs": []
    },
    {
     "cell_type": "code",
     "collapsed": false,
     "input": [
      "x = Vector(1, 0, 0)\n",
      "y = Vector(0, 1, 0)\n",
      "z = Vector(0, 0, 1)\n",
      "\n",
      "xy = x * y\n",
      "print \"x.y = \", xy\n",
      "print x\n",
      "x * x + y * y + 2 * x * y == (x + y) ** 2"
     ],
     "language": "python",
     "metadata": {},
     "outputs": []
    },
    {
     "cell_type": "markdown",
     "metadata": {},
     "source": [
      "###Bonus exercise\n",
      "\n",
      "Generalize the class vector and all operations to N-dimensions\n",
      "(tip: you can use numpy arrays)\n"
     ]
    },
    {
     "cell_type": "code",
     "collapsed": false,
     "input": [
      "#code here"
     ],
     "language": "python",
     "metadata": {},
     "outputs": []
    },
    {
     "cell_type": "markdown",
     "metadata": {},
     "source": [
      "## A Teaser about Decorators\n",
      "\n",
      "This section is a very quick introduction to a very pythonic coding process: **decorations**\n",
      "    \n",
      "A decorator is just a **callable** object that takes a function as an argument and returns a replacement function. We\u2019ll start simply and work our way up to useful decorators. In other words: **a function that writes a function of a function**\n",
      "    \n",
      "Look carefully through our decorator example below. We defined a function named `outer` that has a single parameter `some_func`. Inside `outer` we define an nested function named `inner`. \n",
      "\n",
      "Since Python 2.4, you can wrap a function in a decorator by pre-pending the function definition with a decorator name and the `@` symbol. In the code samples below above we decorated our function using this syntax, however it\u2019s important to recognize that this is no different than simply replacing the original variable with the return from the wrapper function- **Python just adds some syntactic sugar to make what is going on very explicit.**"
     ]
    },
    {
     "cell_type": "code",
     "collapsed": false,
     "input": [
      "def outer(some_func):\n",
      "    def inner():\n",
      "        print \"before some_func\"\n",
      "        ret = some_func() # 1\n",
      "        return ret + 1\n",
      "    return inner\n",
      "\n",
      "@outer\n",
      "def foo():\n",
      "    return 1\n",
      "\n",
      "# transparently equivalent to\n",
      "# foo = outer(foo)\n",
      "\n",
      "foo()"
     ],
     "language": "python",
     "metadata": {},
     "outputs": [
      {
       "output_type": "stream",
       "stream": "stdout",
       "text": [
        "before some_func\n"
       ]
      },
      {
       "metadata": {},
       "output_type": "pyout",
       "prompt_number": 18,
       "text": [
        "2"
       ]
      }
     ],
     "prompt_number": 18
    },
    {
     "cell_type": "markdown",
     "metadata": {},
     "source": [
      "Examples of 2 decorators: \n",
      "    \n",
      "* timing a function (which also implements the context manager usage)\n",
      "* memoization feature: caching output of a function according to its call arguments."
     ]
    },
    {
     "cell_type": "code",
     "collapsed": false,
     "input": [
      "import collections\n",
      "import functools\n",
      "from functools import wraps\n",
      "import time, math, sys\n",
      "\n",
      "class timeit(object):\n",
      "\t\"\"\" Time a block of your code.\n",
      "    Decorator and context manager\n",
      "\t\"\"\"\n",
      "\tdef __init__(self, f=None, verbose=True, text=None):\n",
      "\t\tself.f = f\n",
      "\t\tif not self.f is None:\n",
      "\t\t\tif type(self.f) != str:\n",
      "\t\t\t\tfunctools.update_wrapper(self, f)\n",
      "\t\t\t\tself.text = self.__name__\n",
      "\t\t\telse:\n",
      "\t\t\t\tself.text = f\n",
      "\t\telse:\n",
      "\t\t\tself.text = text or ''\n",
      "\t\tself.verbose = verbose\n",
      "\n",
      "\tdef __enter__(self):\n",
      "\t\tprint \"Timing %s\" % (self.text)\n",
      "\t\tself.start = time.time()\n",
      "\n",
      "\tdef __exit__(self, exc_type, exc_val, exc_tb):\n",
      "\t\tself.stop = time.time()\n",
      "\t\tprint self.time\n",
      "\n",
      "\tdef __pretty_print(self, t):\n",
      "\t\tunits = [u\"s\", u\"ms\",u'us',\"ns\"]\n",
      "\t\tscaling = [1, 1e3, 1e6, 1e9]\n",
      "\t\tif t > 0.0 and t < 1000.0:\n",
      "\t\t\torder = min(-int(math.floor(math.log10(t)) // 3), 3)\n",
      "\t\telif best >= 1000.0:\n",
      "\t\t\torder = 0\n",
      "\t\telse:\n",
      "\t\t\torder = 3\n",
      "\t\treturn \"%s Execution time: %.3g %s\" % (self.text, t * scaling[order], units[order])\n",
      "\n",
      "\t@property\n",
      "\tdef time(self):\n",
      "\t\treturn self.__pretty_print(self.stop-self.start)\n",
      "\n",
      "\tdef __call__(self, *args, **kwargs):\n",
      "\t\tself.start = time.time()\n",
      "\t\tr = self.f(*args, **kwargs)\n",
      "\t\tself.stop = time.time()\n",
      "\t\tif self.verbose:\n",
      "\t\t\tprint self.time\n",
      "\t\treturn r\n"
     ],
     "language": "python",
     "metadata": {},
     "outputs": [],
     "prompt_number": 19
    },
    {
     "cell_type": "code",
     "collapsed": false,
     "input": [
      "class memoize(dict):\n",
      "\t'''Decorator that caches a function's return\n",
      "    value each time it is called. If called \n",
      "    later with the same arguments, the cached \n",
      "    value is returned (not reevaluated).\n",
      "\t'''\n",
      "\tdef __init__(self, func):\n",
      "\t\tself.func = func\n",
      "\t\tfunctools.update_wrapper(self, func)\n",
      "\n",
      "\tdef __getitem__(self, *key):\n",
      "\t\treturn dict.__getitem__(self, key)\n",
      "\n",
      "\tdef __missing__(self, key):\n",
      "\t\tret = self[key] = self.func(*key)\n",
      "\t\treturn ret\n",
      "\n",
      "\t__call__ = __getitem__\n",
      "\n",
      "\tdef __repr__(self):\n",
      "\t\t'''Return the function's docstring.'''\n",
      "\t\treturn self.func.__doc__\n"
     ],
     "language": "python",
     "metadata": {},
     "outputs": [],
     "prompt_number": 20
    },
    {
     "cell_type": "code",
     "collapsed": false,
     "input": [
      "@timeit\n",
      "@memoize\n",
      "def f(*args, **kwargs):\n",
      "    import time\n",
      "    time.sleep(5)\n",
      "    return (args, kwargs)"
     ],
     "language": "python",
     "metadata": {},
     "outputs": [],
     "prompt_number": 21
    },
    {
     "cell_type": "code",
     "collapsed": false,
     "input": [
      "f(10)\n",
      "f(10)"
     ],
     "language": "python",
     "metadata": {},
     "outputs": [
      {
       "output_type": "stream",
       "stream": "stdout",
       "text": [
        "f Execution time: 5 s\n",
        "f Execution time: 5.01 us\n"
       ]
      },
      {
       "metadata": {},
       "output_type": "pyout",
       "prompt_number": 22,
       "text": [
        "((10,), {})"
       ]
      }
     ],
     "prompt_number": 22
    },
    {
     "cell_type": "markdown",
     "metadata": {},
     "source": [
      "## Implementing the IMF as an object"
     ]
    },
    {
     "cell_type": "markdown",
     "metadata": {},
     "source": [
      "### Inheritance\n",
      "Of course, a language feature would not be worthy of the name \u201cclass\u201d without supporting inheritance. The syntax for a derived class definition looks like this:"
     ]
    },
    {
     "cell_type": "code",
     "collapsed": false,
     "input": [
      "class IMF(object):\n",
      "    mass = [0.1, 120.]\n",
      "\n",
      "    \n",
      "class Salpeter(IMF):\n",
      "    pass"
     ],
     "language": "python",
     "metadata": {},
     "outputs": []
    },
    {
     "cell_type": "code",
     "collapsed": false,
     "input": [
      "f = Salpeter()\n",
      "print f.mass"
     ],
     "language": "python",
     "metadata": {},
     "outputs": []
    },
    {
     "cell_type": "markdown",
     "metadata": {},
     "source": [
      "Execution of a derived class definition proceeds the same as for a base class. When the class object is constructed, the base class is remembered. This is used for resolving attribute references: if a requested attribute is not found in the class, the search proceeds to look in the base class. This rule is applied recursively if the base class itself is derived from some other class.\n",
      "\n",
      "There\u2019s nothing special about instantiation of derived classes: `Salpeter()` creates a new instance of the class. Method references are resolved as follows: the corresponding class attribute is searched, ascending up the chain of parent classes if necessary, and the method reference is valid if this yields a function object.\n",
      "\n",
      "Derived classes may override methods of their base classes.\n",
      "\n",
      "An overriding method in a derived class may in fact want to extend rather than simply replace the base class method of the same name. There is a simple way to call the base class method directly: just call `IMF.methodname(self, *args, **kwargs)`. It is common to call the parent constructor in the derived class constructor:\n",
      "\n",
      "```\n",
      "def Salpeter(IMF):\n",
      "    def __init__(self, *args, **kwargs):\n",
      "        IMF.__init__(self, *args, **kwargs)\n",
      "```\n",
      "\n",
      "Note that the above example is equivalent to doing nothing special and thus can be omitted (it is the implicit definition from inheritance)"
     ]
    },
    {
     "cell_type": "markdown",
     "metadata": {},
     "source": [
      "## Homework: fully implement an IMF concept.\n",
      "\n",
      "\n",
      "**due Monday, October 14th**\n",
      "        \n",
      "\n",
      "\n",
      "__Similarly to last week assignment__\n",
      "\n",
      "* Create a new notebook or a copy of the current one, and call it `HW2.ipynb`,\n",
      "\n",
      "* complete this part, embed resulting figures in the notebook. Comment your code: each function/method must have at least one line of description.\n",
      "* The assignment should be turned in by submitting a pull request to the github repository: `jakevdp/ASTR599_homework`. (see Astro599 website for help)"
     ]
    },
    {
     "cell_type": "markdown",
     "metadata": {},
     "source": [
      "**The requirements are:**\n",
      "\n",
      "* Computing the expected number of stars per mass bin\n",
      "* Computing the mass enclosed in a given mass range\n",
      "* Being able to draw random masses from an IMF\n",
      "* What is the average mass predicted by an IMF?\n",
      "\n",
      "Below is a template of IMF class. **Feel free to adapt.**"
     ]
    },
    {
     "cell_type": "code",
     "collapsed": false,
     "input": [
      "class IMF(object):\n",
      "    \"\"\"\n",
      "    IMF object class\n",
      "    let you define an IMF as multiple power-laws.\n",
      "\n",
      "    attributes:\n",
      "        norm:    norm of the function\n",
      "    \"\"\"\n",
      "\n",
      "    def __init__(self, *args, **kwargs):\n",
      "        \"\"\"\n",
      "        \"\"\"\n",
      "        pass\n",
      "\n",
      "    def get_enclosed_mass(self, Mmin, Mmax):\n",
      "        \"\"\"Get the enclosed mass over a given mass range.\n",
      "        \"\"\"\n",
      "        pass\n",
      "\n",
      "    def get_enclosed_Nstar(self, Mmin, Mmax):\n",
      "        \"\"\"Get the enclosed dN over a given mass range\n",
      "        \"\"\"\n",
      "        pass\n",
      "\n",
      "    def get_avg_mass(self, Mmin, Mmax):\n",
      "        \"\"\" get the avg mass over a given range \"\"\"\n",
      "        pass\n",
      "\n",
      "    def getValue(self, m):\n",
      "        \"\"\" returns the value of the normalized IMF at a given mass m:\n",
      "            note: m can be an iterable\n",
      "        \"\"\"\n",
      "        pass\n",
      "\n",
      "    def random(self, N, massMin=None, massMax=None):\n",
      "        \"\"\" Draw samples from this distribution\n",
      "        Samples are distributed over the interval [massMin, massMax]\n",
      "        Interval is truncated to the IMF range definition if it extents beyond it. \n",
      "        (taken as is otherwise)\n",
      "        \"\"\"\n",
      "        pass\n",
      "    \n",
      "    def __call__(self, m=None):\n",
      "        return self.getValue(m)\n"
     ],
     "language": "python",
     "metadata": {},
     "outputs": []
    },
    {
     "cell_type": "markdown",
     "metadata": {},
     "source": [
      "Plot at least a couple of mass functions on the same figure"
     ]
    },
    {
     "cell_type": "code",
     "collapsed": false,
     "input": [
      "#your code here"
     ],
     "language": "python",
     "metadata": {},
     "outputs": []
    },
    {
     "cell_type": "markdown",
     "metadata": {},
     "source": [
      "Draw a random sample of N masses from one mass function and show that the sample follows the desired distribution"
     ]
    },
    {
     "cell_type": "code",
     "collapsed": false,
     "input": [
      "#code here"
     ],
     "language": "python",
     "metadata": {},
     "outputs": []
    }
   ],
   "metadata": {}
  }
 ]
}