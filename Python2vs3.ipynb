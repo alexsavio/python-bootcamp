{
 "metadata": {
  "name": "",
  "signature": "sha256:bbe54a50e0b3c94417a00e9a630241fc2577cc53ce4f1cf9ea8866cfca74a12c"
 },
 "nbformat": 3,
 "nbformat_minor": 0,
 "worksheets": [
  {
   "cells": [
    {
     "cell_type": "heading",
     "level": 1,
     "metadata": {},
     "source": [
      "Key differences between Python 2 and 3"
     ]
    },
    {
     "cell_type": "markdown",
     "metadata": {},
     "source": [
      "Alexandre M. S. (alexsavio@gmail.com) http://alexsavio.github.io/"
     ]
    },
    {
     "cell_type": "markdown",
     "metadata": {},
     "source": [
      "There are some good articles already that are summarizing the differences between Python 2 and 3, e.g.,  \n",
      "- [https://wiki.python.org/moin/Python2orPython3](https://wiki.python.org/moin/Python2orPython3)\n",
      "- [https://docs.python.org/3.0/whatsnew/3.0.html](https://docs.python.org/3.0/whatsnew/3.0.html)\n",
      "- [http://python3porting.com/differences.html](http://python3porting.com/differences.html)\n",
      "- [https://docs.python.org/3/howto/pyporting.html](https://docs.python.org/3/howto/pyporting.html)  \n",
      "etc.\n",
      "\n",
      "But it might be still worthwhile, especially for Python newcomers, to take a look at some of those!\n",
      "(Note: the the code was executed in Python 3.4.0 and Python 2.7.5 and copied from interactive shell sessions.)"
     ]
    },
    {
     "cell_type": "markdown",
     "metadata": {},
     "source": [
      "Although Python 2 is formally considered legacy at this point, its use is still widespread enough that is important for a developer to recognize the differences between Python 2 and 3.\n",
      "\n",
      "Here are some of the key differences that a developer should be aware of:"
     ]
    },
    {
     "cell_type": "markdown",
     "metadata": {},
     "source": [
      "### Unicode..."
     ]
    },
    {
     "cell_type": "markdown",
     "metadata": {},
     "source": [
      "Text and Data instead of Unicode and 8-bit strings. Python 3.0 uses the concepts of text and (binary) data instead of Unicode strings and 8-bit strings. The biggest ramification of this is that any attempt to mix text and data in Python 3.0 raises a TypeError (to combine the two safely, you must decode bytes or encode Unicode, but you need to know the proper encoding, e.g. UTF-8).\n",
      "\n",
      "This addresses a longstanding pitfall for na\u00efve Python programmers. In Python 2, mixing Unicode and 8-bit data would work if the string happened to contain only 7-bit (ASCII) bytes, but you would get UnicodeDecodeError if it contained non-ASCII values. Moreover, the exception would happen at the combination point, not at the point at which the non-ASCII characters were put into the str object. This behavior was a common source of confusion and consternation for neophyte Python programmers."
     ]
    },
    {
     "cell_type": "markdown",
     "metadata": {},
     "source": [
      "####- Python 2: \n",
      "We have ASCII `str()` types, separate `unicode()`, but no `byte` type\n",
      "####- Python 3: \n",
      "Now, we finally have Unicode (utf-8) `str`ings, and 2 byte classes: `byte` and `bytearray`s"
     ]
    },
    {
     "cell_type": "code",
     "collapsed": false,
     "input": [
      "#############\n",
      "# Python 2\n",
      "#############\n",
      "\n",
      ">>> type(unicode('is like a python3 str()'))\n",
      "<type 'unicode'>\n",
      "\n",
      ">>> type(b'byte type does not exist')\n",
      "<type 'str'>\n",
      "\n",
      ">>> 'they are really' + b' the same'\n",
      "'they are really the same'\n",
      "\n",
      ">>> type(bytearray(b'bytearray oddly does exist though'))\n",
      "<type 'bytearray'>\n",
      "\n",
      "#############\n",
      "# Python 3\n",
      "#############\n",
      "\n",
      ">>> print('strings are now utf-8 \\u03BCnico\\u0394\u00e9!')\n",
      "strings are now utf-8 \u03bcnico\u0394\u00e9!\n",
      "\n",
      "\n",
      ">>> type(b' and we have byte types for storing data')\n",
      "<class 'bytes'>\n",
      "\n",
      ">>> type(bytearray(b'but also bytearrays for those who prefer them over strings'))\n",
      "<class 'bytearray'>\n",
      "\n",
      ">>> 'string' + b'bytes for data'\n",
      "Traceback (most recent call last):s\n",
      "  File \"<stdin>\", line 1, in <module>\n",
      "TypeError: Can't convert 'bytes' object to str implicitly"
     ],
     "language": "python",
     "metadata": {},
     "outputs": [
      {
       "ename": "SyntaxError",
       "evalue": "invalid syntax (<ipython-input-1-5598af436067>, line 5)",
       "output_type": "pyerr",
       "traceback": [
        "\u001b[1;36m  File \u001b[1;32m\"<ipython-input-1-5598af436067>\"\u001b[1;36m, line \u001b[1;32m5\u001b[0m\n\u001b[1;33m    >>> type(unicode('is like a python3 str()'))\u001b[0m\n\u001b[1;37m     ^\u001b[0m\n\u001b[1;31mSyntaxError\u001b[0m\u001b[1;31m:\u001b[0m invalid syntax\n"
       ]
      }
     ],
     "prompt_number": 1
    },
    {
     "cell_type": "markdown",
     "metadata": {},
     "source": [
      "#### The print statement\n",
      "\n",
      "+ The `print` statement has been replaced with a `print()` function."
     ]
    },
    {
     "cell_type": "code",
     "collapsed": false,
     "input": [
      "# Python 2\n",
      ">>> print 'Hello, World!'\n",
      "Hello, World!\n",
      ">>> print('Hello, World!')\n",
      "Hello, World!\n",
      "\n",
      "# Python 3\n",
      ">>> print('Hello, World!')\n",
      "Hello, World!\n",
      ">>> print 'Hello, World!'\n",
      "  File \"<stdin>\", line 1\n",
      "    print 'Hello, World!'\n",
      "                        ^\n",
      "SyntaxError: invalid syntax"
     ],
     "language": "python",
     "metadata": {},
     "outputs": []
    },
    {
     "cell_type": "markdown",
     "metadata": {},
     "source": [
      "And if we want to print the output of 2 consecutive print functions on the same line, you would use a comma in Python 2, and a `end=\"\"` in Python 3:"
     ]
    },
    {
     "cell_type": "code",
     "collapsed": false,
     "input": [
      "# Python 2\n",
      ">>> print \"line 1\", ; print 'same line'\n",
      "line 1 same line\n",
      "\n",
      "# Python 3\n",
      ">>> print(\"line 1\", end=\"\") ; print (\" same line\")\n",
      "line 1 same line"
     ],
     "language": "python",
     "metadata": {},
     "outputs": []
    },
    {
     "cell_type": "markdown",
     "metadata": {},
     "source": [
      "#### Integer division\n",
      "This is a pretty dangerous thing if you are porting code, or executing Python 3 code in Python 2 since the change in integer-division behavior can often go unnoticed.  \n",
      "So, I still tend to use a `float(3/2)` or `3/2.0` instead of a `3/2` in my Python 3 scripts to save the Python 2 guys some trouble ... (PS: and vice versa, you can `from __future__ import division` in your Python 2 scripts)."
     ]
    },
    {
     "cell_type": "code",
     "collapsed": false,
     "input": [
      "# Python 2\n",
      ">>> 3 / 2\n",
      "1\n",
      ">>> 3 // 2\n",
      "1\n",
      ">>> 3 / 2.0\n",
      "1.5\n",
      ">>> 3 // 2.0\n",
      "1.0\n",
      "\n",
      "# Python 3\n",
      ">>> 3 / 2\n",
      "1.5\n",
      ">>> 3 // 2\n",
      "1\n",
      ">>> 3 / 2.0\n",
      "1.5\n",
      ">>> 3 // 2.0\n",
      "1.0"
     ],
     "language": "python",
     "metadata": {},
     "outputs": []
    },
    {
     "cell_type": "markdown",
     "metadata": {},
     "source": [
      "#### `xrange()`  \n",
      "`xrange()` was pretty popular in Python 2.x if you wanted to create an iterable object. The advantage was that it was generally faster than `range()` (e.g., in a for-loop) - not if you had to iterate over the list multiple times, since the generation happens every time from scratch!  \n",
      "\n",
      "+ `xrange` no longer exists (`range()` now behaves like `xrange()` used to behave, except it works with values of arbitrary size)"
     ]
    },
    {
     "cell_type": "code",
     "collapsed": false,
     "input": [
      "# Python 2\n",
      "> python -m timeit 'for i in range(1000000):' ' pass'\n",
      "10 loops, best of 3: 66 msec per loop\n",
      "\n",
      "    > python -m timeit 'for i in xrange(1000000):' ' pass'\n",
      "10 loops, best of 3: 27.8 msec per loop\n",
      "\n",
      "# Python 3\n",
      "> python3 -m timeit 'for i in range(1000000):' ' pass'\n",
      "10 loops, best of 3: 51.1 msec per loop\n",
      "\n",
      "> python3 -m timeit 'for i in xrange(1000000):' ' pass'\n",
      "Traceback (most recent call last):\n",
      "  File \"/Library/Frameworks/Python.framework/Versions/3.4/lib/python3.4/timeit.py\", line 292, in main\n",
      "    x = t.timeit(number)\n",
      "  File \"/Library/Frameworks/Python.framework/Versions/3.4/lib/python3.4/timeit.py\", line 178, in timeit\n",
      "    timing = self.inner(it, self.timer)\n",
      "  File \"<timeit-src>\", line 6, in inner\n",
      "    for i in xrange(1000000):\n",
      "NameError: name 'xrange' is not defined"
     ],
     "language": "python",
     "metadata": {},
     "outputs": []
    },
    {
     "cell_type": "code",
     "collapsed": false,
     "input": [
      "list(xrange(10))"
     ],
     "language": "python",
     "metadata": {},
     "outputs": [
      {
       "metadata": {},
       "output_type": "pyout",
       "prompt_number": 2,
       "text": [
        "[0, 1, 2, 3, 4, 5, 6, 7, 8, 9]"
       ]
      }
     ],
     "prompt_number": 2
    },
    {
     "cell_type": "code",
     "collapsed": false,
     "input": [
      "range(10)"
     ],
     "language": "python",
     "metadata": {},
     "outputs": [
      {
       "metadata": {},
       "output_type": "pyout",
       "prompt_number": 3,
       "text": [
        "[0, 1, 2, 3, 4, 5, 6, 7, 8, 9]"
       ]
      }
     ],
     "prompt_number": 3
    },
    {
     "cell_type": "code",
     "collapsed": false,
     "input": [
      "list(range(10))"
     ],
     "language": "python",
     "metadata": {},
     "outputs": [
      {
       "metadata": {},
       "output_type": "pyout",
       "prompt_number": 4,
       "text": [
        "[0, 1, 2, 3, 4, 5, 6, 7, 8, 9]"
       ]
      }
     ],
     "prompt_number": 4
    },
    {
     "cell_type": "markdown",
     "metadata": {},
     "source": [
      "#### Raising exceptions\n",
      "\n",
      "Where Python 2 accepts both notations, the 'old' and the 'new' way, Python 3 chokes (and raises a `SyntaxError` in turn) if we don't enclose the exception argument in parentheses:"
     ]
    },
    {
     "cell_type": "code",
     "collapsed": false,
     "input": [
      "# Python 2\n",
      ">>> raise IOError, \"file error\"\n",
      "Traceback (most recent call last):\n",
      "  File \"<stdin>\", line 1, in <module>\n",
      "IOError: file error\n",
      ">>> raise IOError(\"file error\")\n",
      "Traceback (most recent call last):\n",
      "  File \"<stdin>\", line 1, in <module>\n",
      "IOError: file error\n",
      "\n",
      "    \n",
      "# Python 3    \n",
      ">>> raise IOError, \"file error\"\n",
      "  File \"<stdin>\", line 1\n",
      "    raise IOError, \"file error\"\n",
      "                 ^\n",
      "SyntaxError: invalid syntax\n",
      ">>> raise IOError(\"file error\")\n",
      "Traceback (most recent call last):\n",
      "  File \"<stdin>\", line 1, in <module>\n",
      "OSError: file error"
     ],
     "language": "python",
     "metadata": {},
     "outputs": []
    },
    {
     "cell_type": "markdown",
     "metadata": {},
     "source": [
      "#### Handling exceptions\n",
      "\n",
      "Also the handling of excecptions has slightly changed in Python 3. Now, we have to use the `as` keyword!"
     ]
    },
    {
     "cell_type": "code",
     "collapsed": false,
     "input": [
      "# Python 2\n",
      ">>> try:\n",
      "...     blabla\n",
      "... except NameError, err:\n",
      "...     print err, '--> our error msg'\n",
      "... \n",
      "name 'blabla' is not defined --> our error msg\n",
      "\n",
      "# Python 3\n",
      ">>> try:\n",
      "...     blabla\n",
      "... except NameError as err:\n",
      "...     print(err, '--> our error msg')\n",
      "... \n",
      "name 'blabla' is not defined --> our error msg"
     ],
     "language": "python",
     "metadata": {},
     "outputs": []
    },
    {
     "cell_type": "markdown",
     "metadata": {},
     "source": [
      "#### The `next()` function and `.next()` method\n",
      "\n",
      "Where you can use both function and method in Python 2.7.5, the `next()` function is all that remain in Python 3!"
     ]
    },
    {
     "cell_type": "code",
     "collapsed": false,
     "input": [
      "# Python 2\n",
      ">>> my_generator = (letter for letter in 'abcdefg')\n",
      ">>> my_generator.next()\n",
      "'a'\n",
      ">>> next(my_generator)\n",
      "'b'\n",
      "\n",
      "# Python 3\n",
      ">>> my_generator = (letter for letter in 'abcdefg')\n",
      ">>> next(my_generator)\n",
      "'a'\n",
      ">>> my_generator.next()\n",
      "Traceback (most recent call last):\n",
      "  File \"<stdin>\", line 1, in <module>\n",
      "AttributeError: 'generator' object has no attribute 'next'"
     ],
     "language": "python",
     "metadata": {},
     "outputs": []
    },
    {
     "cell_type": "markdown",
     "metadata": {},
     "source": [
      "### API changes:"
     ]
    },
    {
     "cell_type": "markdown",
     "metadata": {},
     "source": [
      "- `zip()`, `map()` and `filter()` all now return iterators instead of lists."
     ]
    },
    {
     "cell_type": "code",
     "collapsed": false,
     "input": [
      "zip(range(10), [x+2 for x in range(10)])"
     ],
     "language": "python",
     "metadata": {},
     "outputs": [
      {
       "metadata": {},
       "output_type": "pyout",
       "prompt_number": 16,
       "text": [
        "[(0, 2),\n",
        " (1, 3),\n",
        " (2, 4),\n",
        " (3, 5),\n",
        " (4, 6),\n",
        " (5, 7),\n",
        " (6, 8),\n",
        " (7, 9),\n",
        " (8, 10),\n",
        " (9, 11)]"
       ]
      }
     ],
     "prompt_number": 16
    },
    {
     "cell_type": "markdown",
     "metadata": {},
     "source": [
      "- `dict.keys()`, `dict.items()` and `dict.values()` now return \u201cviews\u201d instead of lists"
     ]
    },
    {
     "cell_type": "markdown",
     "metadata": {},
     "source": [
      "- `dict.iterkeys()`, `dict.iteritems()` and `dict.itervalues()` are no longer supported"
     ]
    },
    {
     "cell_type": "markdown",
     "metadata": {},
     "source": [
      "###*Comparison operators*. \n",
      "+ The ordering comparison operators (`<`, `<=`, `>=`, `>`) now raise a TypeError exception when the operands don\u2019t have a meaningful natural ordering. Some examples of the ramifications of this include: "
     ]
    },
    {
     "cell_type": "markdown",
     "metadata": {},
     "source": [
      "- Expressions like `1 < ''`, `0 > None` or `len <= len` are no longer valid."
     ]
    },
    {
     "cell_type": "markdown",
     "metadata": {},
     "source": [
      "- `None < None` now raises a `TypeError` instead of returning `False`."
     ]
    },
    {
     "cell_type": "markdown",
     "metadata": {},
     "source": [
      "- Sorting a heterogeneous list no longer makes sense \u2013 all the elements must be comparable to each other"
     ]
    },
    {
     "cell_type": "markdown",
     "metadata": {},
     "source": [
      "More details on the differences between Python 2 and 3 are available [here](https://docs.python.org/3/whatsnew/3.0.html)."
     ]
    },
    {
     "cell_type": "markdown",
     "metadata": {},
     "source": [
      "### Reference:\n",
      "\n",
      "- http://www.toptal.com/python"
     ]
    },
    {
     "cell_type": "code",
     "collapsed": false,
     "input": [],
     "language": "python",
     "metadata": {},
     "outputs": []
    }
   ],
   "metadata": {}
  }
 ]
}