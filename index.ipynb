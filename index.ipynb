{
 "metadata": {
  "name": "",
  "signature": "sha256:87e8d1fec631bdf2eb84d6048df4bbd33573426519a0e097dab3156df06a12e7"
 },
 "nbformat": 3,
 "nbformat_minor": 0,
 "worksheets": [
  {
   "cells": [
    {
     "cell_type": "heading",
     "level": 1,
     "metadata": {},
     "source": [
      "Introduction to Python"
     ]
    },
    {
     "cell_type": "markdown",
     "metadata": {},
     "source": [
      "Alexandre M. S. (alexsavio@gmail.com) http://alexsavio.github.io/\n",
      "\n",
      "Contents [here](https://dl.dropboxusercontent.com/u/2056473/pyntro.tar.gz)"
     ]
    },
    {
     "cell_type": "markdown",
     "metadata": {},
     "source": [
      "+ [Basics](PythonBasics.ipynb)\n",
      "\n",
      "+ [Quickstart](Quickstart.ipynb)\n",
      "\n",
      "+ [The programming language](intro_programming/notebooks/index.ipynb)\n",
      "\n",
      "+ [Naming conventions](NamingConventions.ipynb)\n",
      "\n",
      "+ [Defining classes](DefiningClasses.ipynb)\n",
      "\n",
      "+ [Python 2 vs. 3](Python2Vs3.ipynb)\n",
      "\n",
      "+ [Python vs. Java](PythonVsJava.ipynb)\n",
      "\n",
      "+ [Input/Output](InputOutput.ipynb)\n",
      "\n",
      "###Going further:\n",
      "\n",
      "+ [Brief Tour of the Standard Library](BriefStdLib.ipynb)\n",
      "\n",
      "+ [Lambda Expressions](LambdaExpressions.ipynb)\n",
      "\n",
      "+ [Regular Expressions](RegularExpressions.ipynb)\n",
      "\n",
      "+ [Function decorators](Decorators.ipynb)\n",
      "\n",
      "+ [Principles of Object Oriented Programming](OOP.ipynb)\n",
      "\n",
      "+ [Documenting and Testing](DocsAndTesting.ipynb)\n",
      "\n",
      "+ [Unit testing](PyTest101.ipynb)\n",
      "\n",
      "+ [Exceptions and debugging](ExceptionsDebugging.ipynb)\n",
      "\n",
      "###Mathematics:\n",
      "\n",
      "+ [Numpy and Matplotlib](intro_scientific_stack/index.ipynb)\n",
      "\n",
      "+ [Optimization](intro_signalprocessing/Optimization.ipynb)\n",
      "\n",
      "+ [Advanced mathematical methods](intro_signalprocessing)\n",
      "\n",
      "+ [Machine Learning](intro_machine_learning/index.ipynb)\n",
      "\n",
      "###Web frameworks\n",
      "\n",
      "+ [Web Frameworks](https://wiki.python.org/moin/WebFrameworks/)\n",
      "\n",
      "+ [Flask Mega-Tutorial](http://blog.miguelgrinberg.com/post/the-flask-mega-tutorial-part-i-hello-world)\n",
      "\n",
      "###Image Processing\n",
      "\n",
      "+ [Image processing](intro_imaging/color_quantization.ipynb)\n",
      "\n",
      "#Git Version Control\n",
      "\n",
      "+ [Version control with Git](GitIntro.ipynb)"
     ]
    },
    {
     "cell_type": "code",
     "collapsed": false,
     "input": [],
     "language": "python",
     "metadata": {},
     "outputs": []
    },
    {
     "cell_type": "code",
     "collapsed": false,
     "input": [],
     "language": "python",
     "metadata": {},
     "outputs": []
    },
    {
     "cell_type": "markdown",
     "metadata": {},
     "source": [
      "References\n",
      "---\n",
      "+ https://github.com/ehmatthes/intro_programming"
     ]
    },
    {
     "cell_type": "code",
     "collapsed": false,
     "input": [],
     "language": "python",
     "metadata": {},
     "outputs": []
    }
   ],
   "metadata": {}
  }
 ]
}